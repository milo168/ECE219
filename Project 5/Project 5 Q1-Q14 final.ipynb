{
 "cells": [
  {
   "cell_type": "code",
   "execution_count": 1,
   "metadata": {},
   "outputs": [],
   "source": [
    "import numpy as np\n",
    "import matplotlib.pyplot as plt\n",
    "import pandas as pd\n",
    "import json\n",
    "from collections import Counter\n",
    "\n",
    "import pytz\n",
    "import datetime\n",
    "from statsmodels.regression.linear_model import RegressionResults\n",
    "import statsmodels.api as sm\n",
    "from statsmodels.formula.api import ols\n",
    "\n",
    "\n",
    "from sklearn import metrics\n",
    "from sklearn.linear_model import LinearRegression\n",
    "import statsmodels.api as sm\n",
    "from sklearn.ensemble import RandomForestRegressor\n",
    "from sklearn.ensemble import GradientBoostingRegressor\n",
    "from sklearn.model_selection import GridSearchCV\n",
    "from sklearn.model_selection import KFold\n",
    "from sklearn.model_selection import cross_validate\n",
    "from sklearn import metrics\n",
    "from sklearn.neural_network import MLPRegressor\n",
    "from sklearn.preprocessing import StandardScaler\n",
    "from sklearn.feature_extraction.text import CountVectorizer\n",
    "from sklearn.feature_extraction.text import TfidfTransformer\n",
    "from sklearn.feature_extraction import text\n",
    "import nltk\n",
    "from nltk import pos_tag\n",
    "from sklearn.decomposition import NMF\n",
    "from sklearn.naive_bayes import MultinomialNB\n",
    "from sklearn.linear_model import LogisticRegression\n",
    "from sklearn.ensemble import RandomForestClassifier\n",
    "import itertools\n",
    "from sklearn.cluster import KMeans\n",
    "import re\n",
    "import time"
   ]
  },
  {
   "cell_type": "markdown",
   "metadata": {},
   "source": [
    "### Question 1\n",
    "Report the following statistics for each hashtag, i.e. each file:\n",
    "\n",
    "• Average number of tweets per hour\n",
    "\n",
    "• Average number of followers of users posting the tweets per tweet (to make it simple, we average over the number of tweets; if a users posted twice, we count the user and the user’s followers twice as well)\n",
    "\n",
    "• Average number of retweets per tweet\n"
   ]
  },
  {
   "cell_type": "code",
   "execution_count": 2,
   "metadata": {},
   "outputs": [],
   "source": [
    "tweetFiles = [\"tweets/tweets_#gohawks.txt\",\n",
    "              \"tweets/tweets_#gopatriots.txt\",\n",
    "              \"tweets/tweets_#nfl.txt\",\n",
    "              \"tweets/tweets_#patriots.txt\",\n",
    "              \"tweets/tweets_#sb49.txt\",\n",
    "              \"tweets/tweets_#superbowl.txt\" ]"
   ]
  },
  {
   "cell_type": "code",
   "execution_count": 3,
   "metadata": {},
   "outputs": [
    {
     "name": "stdout",
     "output_type": "stream",
     "text": [
      "{\n",
      "    \"author\": {\n",
      "        \"author_img\": \"http://pbs.twimg.com/profile_images/561716455155064833/XGrpP4Rl_normal.jpeg\",\n",
      "        \"description\": \"Married to my best friend... You-make me laugh and occasionally think... I-will let you in on some of the crazy shit that consumes my thoughts...\",\n",
      "        \"followers\": 1752.0,\n",
      "        \"image_url\": \"http://pbs.twimg.com/profile_images/561716455155064833/XGrpP4Rl_normal.jpeg\",\n",
      "        \"name\": \"RJ\",\n",
      "        \"nick\": \"rejinseattle\",\n",
      "        \"type\": \"twitter\",\n",
      "        \"url\": \"http://twitter.com/rejinseattle\"\n",
      "    },\n",
      "    \"citation_date\": 1421518778,\n",
      "    \"citation_url\": \"http://twitter.com/REJinseattle/status/556516209261166593\",\n",
      "    \"firstpost_date\": 1419804875,\n",
      "    \"highlight\": \"I &lt;3 our defense! #GoHawks http://t.co/U1pcXpEsR8\",\n",
      "    \"metrics\": {\n",
      "        \"acceleration\": 0,\n",
      "        \"citations\": {\n",
      "            \"data\": [\n",
      "                {\n",
      "                    \"citations\": 1,\n",
      "                    \"timestamp\": 1421518739\n",
      "                }\n",
      "            ],\n",
      "            \"influential\": 0,\n",
      "            \"matching\": 1,\n",
      "            \"replies\": 0,\n",
      "            \"total\": 5\n",
      "        },\n",
      "        \"impressions\": 1754,\n",
      "        \"momentum\": 1,\n",
      "        \"peak\": 1421518799,\n",
      "        \"ranking_score\": 4.7437034\n",
      "    },\n",
      "    \"original_author\": {\n",
      "        \"author_img\": \"http://pbs.twimg.com/profile_images/547474027204591617/kgP4YJMW_normal.jpeg\",\n",
      "        \"description\": \"Food, Fitness, Football                                    #EatClean #FitFam #GoHawks\",\n",
      "        \"followers\": 2534.0,\n",
      "        \"image_url\": \"http://pbs.twimg.com/profile_images/547474027204591617/kgP4YJMW_normal.jpeg\",\n",
      "        \"influence_level\": 0.0,\n",
      "        \"name\": \"Michelle\",\n",
      "        \"nick\": \"mich_fit\",\n",
      "        \"type\": \"twitter\",\n",
      "        \"url\": \"http://twitter.com/mich_fit\"\n",
      "    },\n",
      "    \"title\": \"I &lt;3 our defense! #GoHawks http://t.co/U1pcXpEsR8\",\n",
      "    \"tweet\": {\n",
      "        \"contributors\": null,\n",
      "        \"coordinates\": null,\n",
      "        \"created_at\": \"Sun Dec 28 22:14:35 +0000 2014\",\n",
      "        \"entities\": {\n",
      "            \"hashtags\": [\n",
      "                {\n",
      "                    \"indices\": [\n",
      "                        21,\n",
      "                        29\n",
      "                    ],\n",
      "                    \"text\": \"GoHawks\"\n",
      "                }\n",
      "            ],\n",
      "            \"media\": [\n",
      "                {\n",
      "                    \"display_url\": \"pic.twitter.com/U1pcXpEsR8\",\n",
      "                    \"expanded_url\": \"http://twitter.com/Mich_Fit/status/549327579782840320/photo/1\",\n",
      "                    \"id\": 549327579392798720,\n",
      "                    \"id_str\": \"549327579392798720\",\n",
      "                    \"indices\": [\n",
      "                        30,\n",
      "                        52\n",
      "                    ],\n",
      "                    \"media_url\": \"http://pbs.twimg.com/media/B5-aheMIcAAqGtA.jpg\",\n",
      "                    \"media_url_https\": \"https://pbs.twimg.com/media/B5-aheMIcAAqGtA.jpg\",\n",
      "                    \"sizes\": {\n",
      "                        \"large\": {\n",
      "                            \"h\": 511,\n",
      "                            \"resize\": \"fit\",\n",
      "                            \"w\": 511\n",
      "                        },\n",
      "                        \"medium\": {\n",
      "                            \"h\": 511,\n",
      "                            \"resize\": \"fit\",\n",
      "                            \"w\": 511\n",
      "                        },\n",
      "                        \"small\": {\n",
      "                            \"h\": 340,\n",
      "                            \"resize\": \"fit\",\n",
      "                            \"w\": 340\n",
      "                        },\n",
      "                        \"thumb\": {\n",
      "                            \"h\": 150,\n",
      "                            \"resize\": \"crop\",\n",
      "                            \"w\": 150\n",
      "                        }\n",
      "                    },\n",
      "                    \"type\": \"photo\",\n",
      "                    \"url\": \"http://t.co/U1pcXpEsR8\"\n",
      "                }\n",
      "            ],\n",
      "            \"symbols\": [],\n",
      "            \"trends\": [],\n",
      "            \"urls\": [],\n",
      "            \"user_mentions\": []\n",
      "        },\n",
      "        \"extended_entities\": {\n",
      "            \"media\": [\n",
      "                {\n",
      "                    \"display_url\": \"pic.twitter.com/U1pcXpEsR8\",\n",
      "                    \"expanded_url\": \"http://twitter.com/Mich_Fit/status/549327579782840320/photo/1\",\n",
      "                    \"id\": 549327579392798720,\n",
      "                    \"id_str\": \"549327579392798720\",\n",
      "                    \"indices\": [\n",
      "                        30,\n",
      "                        52\n",
      "                    ],\n",
      "                    \"media_url\": \"http://pbs.twimg.com/media/B5-aheMIcAAqGtA.jpg\",\n",
      "                    \"media_url_https\": \"https://pbs.twimg.com/media/B5-aheMIcAAqGtA.jpg\",\n",
      "                    \"sizes\": {\n",
      "                        \"large\": {\n",
      "                            \"h\": 511,\n",
      "                            \"resize\": \"fit\",\n",
      "                            \"w\": 511\n",
      "                        },\n",
      "                        \"medium\": {\n",
      "                            \"h\": 511,\n",
      "                            \"resize\": \"fit\",\n",
      "                            \"w\": 511\n",
      "                        },\n",
      "                        \"small\": {\n",
      "                            \"h\": 340,\n",
      "                            \"resize\": \"fit\",\n",
      "                            \"w\": 340\n",
      "                        },\n",
      "                        \"thumb\": {\n",
      "                            \"h\": 150,\n",
      "                            \"resize\": \"crop\",\n",
      "                            \"w\": 150\n",
      "                        }\n",
      "                    },\n",
      "                    \"type\": \"photo\",\n",
      "                    \"url\": \"http://t.co/U1pcXpEsR8\"\n",
      "                }\n",
      "            ]\n",
      "        },\n",
      "        \"favorite_count\": 1,\n",
      "        \"favorited\": false,\n",
      "        \"filter_level\": \"low\",\n",
      "        \"geo\": null,\n",
      "        \"id\": 549327579782840320,\n",
      "        \"id_str\": \"549327579782840320\",\n",
      "        \"in_reply_to_screen_name\": null,\n",
      "        \"in_reply_to_status_id\": null,\n",
      "        \"in_reply_to_status_id_str\": null,\n",
      "        \"in_reply_to_user_id\": null,\n",
      "        \"in_reply_to_user_id_str\": null,\n",
      "        \"lang\": \"en\",\n",
      "        \"place\": null,\n",
      "        \"possibly_sensitive\": false,\n",
      "        \"retweet_count\": 2,\n",
      "        \"retweeted\": false,\n",
      "        \"source\": \"<a href=\\\"http://twitter.com\\\" rel=\\\"nofollow\\\">Twitter Web Client</a>\",\n",
      "        \"text\": \"I &lt;3 our defense! #GoHawks http://t.co/U1pcXpEsR8\",\n",
      "        \"truncated\": false,\n",
      "        \"user\": {\n",
      "            \"contributors_enabled\": false,\n",
      "            \"created_at\": \"Fri Aug 10 12:00:57 +0000 2012\",\n",
      "            \"default_profile\": true,\n",
      "            \"default_profile_image\": false,\n",
      "            \"description\": \"Food, Fitness, Football                                    #EatClean #FitFam #GoHawks\",\n",
      "            \"favourites_count\": 9490,\n",
      "            \"follow_request_sent\": null,\n",
      "            \"followers_count\": 2318,\n",
      "            \"following\": null,\n",
      "            \"friends_count\": 2025,\n",
      "            \"geo_enabled\": true,\n",
      "            \"id\": 749230320,\n",
      "            \"id_str\": \"749230320\",\n",
      "            \"is_translator\": false,\n",
      "            \"lang\": \"en\",\n",
      "            \"listed_count\": 32,\n",
      "            \"location\": \"Ontario\",\n",
      "            \"name\": \"Michelle\",\n",
      "            \"notifications\": null,\n",
      "            \"profile_background_color\": \"C0DEED\",\n",
      "            \"profile_background_image_url\": \"http://abs.twimg.com/images/themes/theme1/bg.png\",\n",
      "            \"profile_background_image_url_https\": \"https://abs.twimg.com/images/themes/theme1/bg.png\",\n",
      "            \"profile_background_tile\": false,\n",
      "            \"profile_banner_url\": \"https://pbs.twimg.com/profile_banners/749230320/1413579075\",\n",
      "            \"profile_image_url\": \"http://pbs.twimg.com/profile_images/547474027204591617/kgP4YJMW_normal.jpeg\",\n",
      "            \"profile_image_url_https\": \"https://pbs.twimg.com/profile_images/547474027204591617/kgP4YJMW_normal.jpeg\",\n",
      "            \"profile_link_color\": \"0084B4\",\n",
      "            \"profile_sidebar_border_color\": \"C0DEED\",\n",
      "            \"profile_sidebar_fill_color\": \"DDEEF6\",\n",
      "            \"profile_text_color\": \"333333\",\n",
      "            \"profile_use_background_image\": true,\n",
      "            \"protected\": false,\n",
      "            \"screen_name\": \"Mich_Fit\",\n",
      "            \"statuses_count\": 12477,\n",
      "            \"time_zone\": null,\n",
      "            \"url\": null,\n",
      "            \"utc_offset\": null,\n",
      "            \"verified\": false\n",
      "        }\n",
      "    },\n",
      "    \"type\": \"retweet:native\",\n",
      "    \"url\": \"http://twitter.com/Mich_Fit/status/549327579782840320\"\n",
      "}\n"
     ]
    }
   ],
   "source": [
    "with open(tweetFiles[0], 'r') as tweetData:\n",
    "    for line in tweetData:\n",
    "        parsed = json.loads(line)\n",
    "        print(json.dumps(parsed, indent=4, sort_keys=True))\n",
    "        break"
   ]
  },
  {
   "cell_type": "code",
   "execution_count": 4,
   "metadata": {},
   "outputs": [
    {
     "name": "stdout",
     "output_type": "stream",
     "text": [
      "tweets/tweets_#gohawks.txt\n",
      "Avg number of tweets per hour:  292.48785062173687\n",
      "Avg number of followers of poster per tweet :  2217.9237355281984\n",
      "Avg number of rewteets per tweet:  2.0132093991319877\n",
      "tweets/tweets_#gopatriots.txt\n",
      "Avg number of tweets per hour:  40.95469800606194\n",
      "Avg number of followers of poster per tweet :  1427.2526051635405\n",
      "Avg number of rewteets per tweet:  1.4081919101697078\n",
      "tweets/tweets_#nfl.txt\n",
      "Avg number of tweets per hour:  397.0213901819841\n",
      "Avg number of followers of poster per tweet :  4662.37544523693\n",
      "Avg number of rewteets per tweet:  1.5344602655543254\n",
      "tweets/tweets_#patriots.txt\n",
      "Avg number of tweets per hour:  750.89426460689\n",
      "Avg number of followers of poster per tweet :  3280.4635616550277\n",
      "Avg number of rewteets per tweet:  1.7852871288476946\n",
      "tweets/tweets_#sb49.txt\n",
      "Avg number of tweets per hour:  1276.8570598680474\n",
      "Avg number of followers of poster per tweet :  10374.160292019487\n",
      "Avg number of rewteets per tweet:  2.52713444111402\n",
      "tweets/tweets_#superbowl.txt\n",
      "Avg number of tweets per hour:  2072.11840170408\n",
      "Avg number of followers of poster per tweet :  8814.96799424623\n",
      "Avg number of rewteets per tweet:  2.3911895819207736\n"
     ]
    }
   ],
   "source": [
    "for tweetFile in tweetFiles:\n",
    "    \n",
    "    timeStamp = []\n",
    "    tweetCount = 0\n",
    "    followerCount = 0\n",
    "    retweetCount = 0\n",
    "    \n",
    "    with open(tweetFile, 'r', encoding='utf8') as tweetData:\n",
    "        for line in tweetData:\n",
    "            \n",
    "            data = json.loads(line)\n",
    "            timeStamp.append(data['citation_date'])\n",
    "            followerCount = followerCount + (data['author']['followers'])\n",
    "            retweetCount = retweetCount + (data['metrics']['citations']['total'])\n",
    "            tweetCount = tweetCount + 1\n",
    "        \n",
    "        print(tweetFile)\n",
    "        print(\"Avg number of tweets per hour: \", str(tweetCount/((max(timeStamp)-min(timeStamp))/3600)))\n",
    "        print(\"Avg number of followers of poster per tweet : \", str(followerCount/tweetCount))\n",
    "        print(\"Avg number of rewteets per tweet: \", str(retweetCount/tweetCount))\n",
    "\n"
   ]
  },
  {
   "cell_type": "markdown",
   "metadata": {},
   "source": [
    "### Question 2\n",
    "Plot “number of tweets in hour” over time for #SuperBowl and #NFL (a bar plot with 1-hour bins). The tweets are stored in separate files for different hashtags and files are named as tweet [#hashtag].txt."
   ]
  },
  {
   "cell_type": "code",
   "execution_count": 4,
   "metadata": {},
   "outputs": [],
   "source": [
    "q2Files = [\"tweets/tweets_#nfl.txt\",\"tweets/tweets_#superbowl.txt\"];"
   ]
  },
  {
   "cell_type": "code",
   "execution_count": 5,
   "metadata": {},
   "outputs": [
    {
     "data": {
      "image/png": "[encoded data removed]",
      "text/plain": [
       "<Figure size 864x504 with 1 Axes>"
      ]
     },
     "metadata": {
      "needs_background": "light"
     },
     "output_type": "display_data"
    },
    {
     "data": {
      "image/png": "[encoded data removed]",
      "text/plain": [
       "<Figure size 864x504 with 1 Axes>"
      ]
     },
     "metadata": {
      "needs_background": "light"
     },
     "output_type": "display_data"
    }
   ],
   "source": [
    "for tweetFile in q2Files:\n",
    "    \n",
    "    timeStamp = []\n",
    "    \n",
    "    with open(tweetFile, 'r', encoding='utf8') as tweetData:\n",
    "        for line in tweetData:\n",
    "            \n",
    "            data = json.loads(line)\n",
    "            timeStamp.append(data['citation_date'])\n",
    "\n",
    "        maxTime = max(timeStamp)\n",
    "        minTime = min(timeStamp)\n",
    "        timeStamp = np.rint((np.array(timeStamp) - minTime)/3600);\n",
    "\n",
    "        plt.figure(figsize=(12,7))\n",
    "        plt.bar(Counter(timeStamp).keys(), Counter(timeStamp).values(), width=1)\n",
    "        plt.xlabel('Hours')\n",
    "        plt.ylabel('Tweets')\n",
    "        plt.title(tweetFile[7:-4])\n",
    "        plt.show()\n",
    "\n"
   ]
  },
  {
   "cell_type": "markdown",
   "metadata": {},
   "source": [
    "### Question 3\n",
    "For each of your models, report your model’s Mean Squared Error (MSE) and R-squared measure. Also, analyse the significance of each feature using the t-test and p-value. You may use the OLS in the libarary statsmodels in Python."
   ]
  },
  {
   "cell_type": "code",
   "execution_count": 5,
   "metadata": {},
   "outputs": [],
   "source": [
    "tweetdf = []\n",
    "for tweetFile in tweetFiles:\n",
    "    \n",
    "    tweetCount = []\n",
    "    followerCount = []\n",
    "    followerMaxCount = []\n",
    "    retweetCount = []\n",
    "    datePst = []\n",
    "    hr = []\n",
    "    friendsCount = []\n",
    "    \n",
    "    userMentions = []\n",
    "    rankScore = []\n",
    "    hashTags = []\n",
    "    \n",
    "    utc_tz = pytz.UTC\n",
    "    pst_tz = pytz.timezone('America/Los_Angeles')\n",
    "    \n",
    "    with open(tweetFile, 'r', encoding='utf8') as tweetData:\n",
    "        for line in tweetData:\n",
    "            \n",
    "            data = json.loads(line)\n",
    "            \n",
    "            datePst.append(datetime.datetime.fromtimestamp(data['citation_date'], pst_tz))\n",
    "            \n",
    "            hr.append(datetime.datetime.fromtimestamp(data['citation_date'], pst_tz).hour)\n",
    "            followerCount.append(data['author']['followers'])\n",
    "            followerMaxCount.append(data['author']['followers'])\n",
    "            retweetCount.append(data['metrics']['citations']['total'])\n",
    "            tweetCount.append(1)\n",
    "            \n",
    "        d = {'followerCount': followerCount, 'followerMaxCount': followerMaxCount, 'retweetCount' : retweetCount,\n",
    "            'tweetCount' : tweetCount, 'hr' : hr, 'datePst' : datePst}\n",
    "        tweetdf.append(pd.DataFrame(data=d))"
   ]
  },
  {
   "cell_type": "code",
   "execution_count": 7,
   "metadata": {},
   "outputs": [],
   "source": [
    "#np.shape(tweetdf)"
   ]
  },
  {
   "cell_type": "code",
   "execution_count": 8,
   "metadata": {},
   "outputs": [],
   "source": [
    "#np.shape(tweetdf[1])\n",
    "#np.shape(tweetdf[5])\n",
    "#np.shape(tweetdf[4])"
   ]
  },
  {
   "cell_type": "code",
   "execution_count": 9,
   "metadata": {},
   "outputs": [],
   "source": [
    "df = tweetdf[0].groupby(pd.Grouper(key='datePst',freq='60Min')).agg({\n",
    "        'followerCount':'sum',\n",
    "        'followerMaxCount':'max',\n",
    "        'retweetCount':'sum',\n",
    "        'tweetCount':'sum',\n",
    "        'hr':'max'})\n",
    "# https://www.tutorialspoint.com/python_pandas/python_pandas_groupby.htm"
   ]
  },
  {
   "cell_type": "code",
   "execution_count": 10,
   "metadata": {},
   "outputs": [],
   "source": [
    "df['future'] = df['tweetCount']\n",
    "df.future = df.future.shift(-1)"
   ]
  },
  {
   "cell_type": "code",
   "execution_count": 11,
   "metadata": {},
   "outputs": [
    {
     "data": {
      "text/html": [
       "<div>\n",
       "<style scoped>\n",
       "    .dataframe tbody tr th:only-of-type {\n",
       "        vertical-align: middle;\n",
       "    }\n",
       "\n",
       "    .dataframe tbody tr th {\n",
       "        vertical-align: top;\n",
       "    }\n",
       "\n",
       "    .dataframe thead th {\n",
       "        text-align: right;\n",
       "    }\n",
       "</style>\n",
       "<table border=\"1\" class=\"dataframe\">\n",
       "  <thead>\n",
       "    <tr style=\"text-align: right;\">\n",
       "      <th></th>\n",
       "      <th>followerCount</th>\n",
       "      <th>followerMaxCount</th>\n",
       "      <th>retweetCount</th>\n",
       "      <th>tweetCount</th>\n",
       "      <th>hr</th>\n",
       "      <th>future</th>\n",
       "    </tr>\n",
       "    <tr>\n",
       "      <th>datePst</th>\n",
       "      <th></th>\n",
       "      <th></th>\n",
       "      <th></th>\n",
       "      <th></th>\n",
       "      <th></th>\n",
       "      <th></th>\n",
       "    </tr>\n",
       "  </thead>\n",
       "  <tbody>\n",
       "    <tr>\n",
       "      <th>2015-01-14 00:00:00-08:00</th>\n",
       "      <td>23814.0</td>\n",
       "      <td>12922.0</td>\n",
       "      <td>459</td>\n",
       "      <td>29</td>\n",
       "      <td>0.0</td>\n",
       "      <td>13.0</td>\n",
       "    </tr>\n",
       "    <tr>\n",
       "      <th>2015-01-14 01:00:00-08:00</th>\n",
       "      <td>7774.0</td>\n",
       "      <td>2592.0</td>\n",
       "      <td>32</td>\n",
       "      <td>13</td>\n",
       "      <td>1.0</td>\n",
       "      <td>14.0</td>\n",
       "    </tr>\n",
       "    <tr>\n",
       "      <th>2015-01-14 02:00:00-08:00</th>\n",
       "      <td>26891.0</td>\n",
       "      <td>11886.0</td>\n",
       "      <td>378</td>\n",
       "      <td>14</td>\n",
       "      <td>2.0</td>\n",
       "      <td>9.0</td>\n",
       "    </tr>\n",
       "    <tr>\n",
       "      <th>2015-01-14 03:00:00-08:00</th>\n",
       "      <td>19094.0</td>\n",
       "      <td>11886.0</td>\n",
       "      <td>28</td>\n",
       "      <td>9</td>\n",
       "      <td>3.0</td>\n",
       "      <td>24.0</td>\n",
       "    </tr>\n",
       "    <tr>\n",
       "      <th>2015-01-14 04:00:00-08:00</th>\n",
       "      <td>31949.0</td>\n",
       "      <td>9772.0</td>\n",
       "      <td>62</td>\n",
       "      <td>24</td>\n",
       "      <td>4.0</td>\n",
       "      <td>29.0</td>\n",
       "    </tr>\n",
       "  </tbody>\n",
       "</table>\n",
       "</div>"
      ],
      "text/plain": [
       "                           followerCount  followerMaxCount  retweetCount  \\\n",
       "datePst                                                                    \n",
       "2015-01-14 00:00:00-08:00        23814.0           12922.0           459   \n",
       "2015-01-14 01:00:00-08:00         7774.0            2592.0            32   \n",
       "2015-01-14 02:00:00-08:00        26891.0           11886.0           378   \n",
       "2015-01-14 03:00:00-08:00        19094.0           11886.0            28   \n",
       "2015-01-14 04:00:00-08:00        31949.0            9772.0            62   \n",
       "\n",
       "                           tweetCount   hr  future  \n",
       "datePst                                             \n",
       "2015-01-14 00:00:00-08:00          29  0.0    13.0  \n",
       "2015-01-14 01:00:00-08:00          13  1.0    14.0  \n",
       "2015-01-14 02:00:00-08:00          14  2.0     9.0  \n",
       "2015-01-14 03:00:00-08:00           9  3.0    24.0  \n",
       "2015-01-14 04:00:00-08:00          24  4.0    29.0  "
      ]
     },
     "execution_count": 11,
     "metadata": {},
     "output_type": "execute_result"
    }
   ],
   "source": [
    "df.head()"
   ]
  },
  {
   "cell_type": "code",
   "execution_count": 12,
   "metadata": {},
   "outputs": [
    {
     "name": "stdout",
     "output_type": "stream",
     "text": [
      "tweets_#gohawks\n",
      "                            OLS Regression Results                            \n",
      "==============================================================================\n",
      "Dep. Variable:                 future   R-squared:                       0.476\n",
      "Model:                            OLS   Adj. R-squared:                  0.471\n",
      "Method:                 Least Squares   F-statistic:                     102.3\n",
      "Date:                Fri, 20 Mar 2020   Prob (F-statistic):           1.10e-76\n",
      "Time:                        23:40:15   Log-Likelihood:                -4663.7\n",
      "No. Observations:                 569   AIC:                             9339.\n",
      "Df Residuals:                     563   BIC:                             9365.\n",
      "Df Model:                           5                                         \n",
      "Covariance Type:            nonrobust                                         \n",
      "====================================================================================\n",
      "                       coef    std err          t      P>|t|      [0.025      0.975]\n",
      "------------------------------------------------------------------------------------\n",
      "Intercept           99.5134     72.677      1.369      0.171     -43.237     242.264\n",
      "followerCount       -0.0002   8.06e-05     -2.407      0.016      -0.000   -3.57e-05\n",
      "followerMaxCount  6.047e-05      0.000      0.403      0.687      -0.000       0.000\n",
      "retweetCount        -0.1364      0.044     -3.113      0.002      -0.222      -0.050\n",
      "tweetCount           1.2823      0.165      7.767      0.000       0.958       1.607\n",
      "hr                   1.3865      5.451      0.254      0.799      -9.321      12.094\n",
      "==============================================================================\n",
      "Omnibus:                      899.580   Durbin-Watson:                   2.216\n",
      "Prob(Omnibus):                  0.000   Jarque-Bera (JB):           747068.220\n",
      "Skew:                           8.625   Prob(JB):                         0.00\n",
      "Kurtosis:                     179.673   Cond. No.                     5.24e+06\n",
      "==============================================================================\n",
      "\n",
      "Warnings:\n",
      "[1] Standard Errors assume that the covariance matrix of the errors is correctly specified.\n",
      "[2] The condition number is large, 5.24e+06. This might indicate that there are\n",
      "strong multicollinearity or other numerical problems.\n",
      "MSE: 778598.8815298489\n",
      "tweets_#gopatriots\n",
      "                            OLS Regression Results                            \n",
      "==============================================================================\n",
      "Dep. Variable:                 future   R-squared:                       0.627\n",
      "Model:                            OLS   Adj. R-squared:                  0.623\n",
      "Method:                 Least Squares   F-statistic:                     146.0\n",
      "Date:                Fri, 20 Mar 2020   Prob (F-statistic):           1.33e-90\n",
      "Time:                        23:40:15   Log-Likelihood:                -2932.2\n",
      "No. Observations:                 440   AIC:                             5876.\n",
      "Df Residuals:                     434   BIC:                             5901.\n",
      "Df Model:                           5                                         \n",
      "Covariance Type:            nonrobust                                         \n",
      "====================================================================================\n",
      "                       coef    std err          t      P>|t|      [0.025      0.975]\n",
      "------------------------------------------------------------------------------------\n",
      "Intercept           13.0136     18.908      0.688      0.492     -24.149      50.176\n",
      "followerCount       -0.0001      0.000     -0.424      0.672      -0.001       0.000\n",
      "followerMaxCount -2.827e-05      0.000     -0.113      0.910      -0.001       0.000\n",
      "retweetCount         0.4877      0.219      2.223      0.027       0.056       0.919\n",
      "tweetCount           0.3052      0.326      0.937      0.349      -0.335       0.945\n",
      "hr                  -0.3371      1.413     -0.239      0.812      -3.114       2.440\n",
      "==============================================================================\n",
      "Omnibus:                      346.712   Durbin-Watson:                   1.909\n",
      "Prob(Omnibus):                  0.000   Jarque-Bera (JB):           128856.413\n",
      "Skew:                           2.206   Prob(JB):                         0.00\n",
      "Kurtosis:                      86.720   Cond. No.                     9.12e+05\n",
      "==============================================================================\n",
      "\n",
      "Warnings:\n",
      "[1] Standard Errors assume that the covariance matrix of the errors is correctly specified.\n",
      "[2] The condition number is large, 9.12e+05. This might indicate that there are\n",
      "strong multicollinearity or other numerical problems.\n",
      "MSE: 36467.259832186704\n",
      "tweets_#nfl\n",
      "                            OLS Regression Results                            \n",
      "==============================================================================\n",
      "Dep. Variable:                 future   R-squared:                       0.570\n",
      "Model:                            OLS   Adj. R-squared:                  0.567\n",
      "Method:                 Least Squares   F-statistic:                     152.9\n",
      "Date:                Fri, 20 Mar 2020   Prob (F-statistic):          3.57e-103\n",
      "Time:                        23:40:15   Log-Likelihood:                -4467.0\n",
      "No. Observations:                 582   AIC:                             8946.\n",
      "Df Residuals:                     576   BIC:                             8972.\n",
      "Df Model:                           5                                         \n",
      "Covariance Type:            nonrobust                                         \n",
      "====================================================================================\n",
      "                       coef    std err          t      P>|t|      [0.025      0.975]\n",
      "------------------------------------------------------------------------------------\n",
      "Intercept          126.3866     43.357      2.915      0.004      41.230     211.543\n",
      "followerCount        0.0001   2.51e-05      4.573      0.000    6.54e-05       0.000\n",
      "followerMaxCount    -0.0001   3.32e-05     -3.527      0.000      -0.000   -5.19e-05\n",
      "retweetCount        -0.1650      0.064     -2.578      0.010      -0.291      -0.039\n",
      "tweetCount           0.5652      0.135      4.173      0.000       0.299       0.831\n",
      "hr                   0.2969      3.176      0.093      0.926      -5.941       6.535\n",
      "==============================================================================\n",
      "Omnibus:                      665.410   Durbin-Watson:                   2.373\n",
      "Prob(Omnibus):                  0.000   Jarque-Bera (JB):           343898.587\n",
      "Skew:                           4.594   Prob(JB):                         0.00\n",
      "Kurtosis:                     121.731   Cond. No.                     8.66e+06\n",
      "==============================================================================\n",
      "\n",
      "Warnings:\n",
      "[1] Standard Errors assume that the covariance matrix of the errors is correctly specified.\n",
      "[2] The condition number is large, 8.66e+06. This might indicate that there are\n",
      "strong multicollinearity or other numerical problems.\n",
      "MSE: 274541.22223045497\n",
      "tweets_#patriots\n",
      "                            OLS Regression Results                            \n",
      "==============================================================================\n",
      "Dep. Variable:                 future   R-squared:                       0.668\n",
      "Model:                            OLS   Adj. R-squared:                  0.666\n",
      "Method:                 Least Squares   F-statistic:                     233.8\n",
      "Date:                Fri, 20 Mar 2020   Prob (F-statistic):          1.91e-136\n",
      "Time:                        23:40:15   Log-Likelihood:                -5361.4\n",
      "No. Observations:                 586   AIC:                         1.073e+04\n",
      "Df Residuals:                     580   BIC:                         1.076e+04\n",
      "Df Model:                           5                                         \n",
      "Covariance Type:            nonrobust                                         \n",
      "====================================================================================\n",
      "                       coef    std err          t      P>|t|      [0.025      0.975]\n",
      "------------------------------------------------------------------------------------\n",
      "Intercept          180.1751    183.925      0.980      0.328    -181.066     541.416\n",
      "followerCount    -1.098e-05   2.63e-05     -0.417      0.677   -6.27e-05    4.07e-05\n",
      "followerMaxCount     0.0001   9.17e-05      1.340      0.181   -5.72e-05       0.000\n",
      "retweetCount        -0.0681      0.058     -1.178      0.239      -0.181       0.045\n",
      "tweetCount           0.9145      0.071     12.937      0.000       0.776       1.053\n",
      "hr                  -5.8597     13.765     -0.426      0.670     -32.896      21.176\n",
      "==============================================================================\n",
      "Omnibus:                      887.682   Durbin-Watson:                   1.998\n",
      "Prob(Omnibus):                  0.000   Jarque-Bera (JB):           690539.222\n",
      "Skew:                           7.937   Prob(JB):                         0.00\n",
      "Kurtosis:                     170.420   Cond. No.                     1.60e+07\n",
      "==============================================================================\n",
      "\n",
      "Warnings:\n",
      "[1] Standard Errors assume that the covariance matrix of the errors is correctly specified.\n",
      "[2] The condition number is large, 1.6e+07. This might indicate that there are\n",
      "strong multicollinearity or other numerical problems.\n",
      "MSE: 5234485.518126629\n"
     ]
    },
    {
     "name": "stdout",
     "output_type": "stream",
     "text": [
      "tweets_#sb49\n",
      "                            OLS Regression Results                            \n",
      "==============================================================================\n",
      "Dep. Variable:                 future   R-squared:                       0.804\n",
      "Model:                            OLS   Adj. R-squared:                  0.802\n",
      "Method:                 Least Squares   F-statistic:                     435.6\n",
      "Date:                Fri, 20 Mar 2020   Prob (F-statistic):          4.54e-185\n",
      "Time:                        23:40:15   Log-Likelihood:                -5231.3\n",
      "No. Observations:                 536   AIC:                         1.047e+04\n",
      "Df Residuals:                     530   BIC:                         1.050e+04\n",
      "Df Model:                           5                                         \n",
      "Covariance Type:            nonrobust                                         \n",
      "====================================================================================\n",
      "                       coef    std err          t      P>|t|      [0.025      0.975]\n",
      "------------------------------------------------------------------------------------\n",
      "Intercept          235.0748    365.931      0.642      0.521    -483.778     953.928\n",
      "followerCount     9.695e-06    1.3e-05      0.743      0.458   -1.59e-05    3.53e-05\n",
      "followerMaxCount  9.418e-05   4.58e-05      2.056      0.040    4.17e-06       0.000\n",
      "retweetCount        -0.1602      0.082     -1.953      0.051      -0.321       0.001\n",
      "tweetCount           1.1361      0.091     12.485      0.000       0.957       1.315\n",
      "hr                 -17.9297     26.914     -0.666      0.506     -70.801      34.941\n",
      "==============================================================================\n",
      "Omnibus:                     1070.760   Durbin-Watson:                   1.674\n",
      "Prob(Omnibus):                  0.000   Jarque-Bera (JB):          1720654.660\n",
      "Skew:                          13.993   Prob(JB):                         0.00\n",
      "Kurtosis:                     279.154   Cond. No.                     1.67e+08\n",
      "==============================================================================\n",
      "\n",
      "Warnings:\n",
      "[1] Standard Errors assume that the covariance matrix of the errors is correctly specified.\n",
      "[2] The condition number is large, 1.67e+08. This might indicate that there are\n",
      "strong multicollinearity or other numerical problems.\n",
      "MSE: 17774930.5906947\n",
      "tweets_#superbowl\n",
      "                            OLS Regression Results                            \n",
      "==============================================================================\n",
      "Dep. Variable:                 future   R-squared:                       0.800\n",
      "Model:                            OLS   Adj. R-squared:                  0.798\n",
      "Method:                 Least Squares   F-statistic:                     463.5\n",
      "Date:                Fri, 20 Mar 2020   Prob (F-statistic):          6.72e-200\n",
      "Time:                        23:40:16   Log-Likelihood:                -6039.9\n",
      "No. Observations:                 586   AIC:                         1.209e+04\n",
      "Df Residuals:                     580   BIC:                         1.212e+04\n",
      "Df Model:                           5                                         \n",
      "Covariance Type:            nonrobust                                         \n",
      "====================================================================================\n",
      "                       coef    std err          t      P>|t|      [0.025      0.975]\n",
      "------------------------------------------------------------------------------------\n",
      "Intercept         -149.5572    605.382     -0.247      0.805   -1338.565    1039.451\n",
      "followerCount       -0.0001    2.2e-05     -6.265      0.000      -0.000   -9.47e-05\n",
      "followerMaxCount     0.0007      0.000      4.889      0.000       0.000       0.001\n",
      "retweetCount        -0.2543      0.046     -5.544      0.000      -0.344      -0.164\n",
      "tweetCount           2.2766      0.080     28.537      0.000       2.120       2.433\n",
      "hr                 -20.4965     43.624     -0.470      0.639    -106.177      65.184\n",
      "==============================================================================\n",
      "Omnibus:                      973.862   Durbin-Watson:                   2.283\n",
      "Prob(Omnibus):                  0.000   Jarque-Bera (JB):          1787388.254\n",
      "Skew:                           9.272   Prob(JB):                         0.00\n",
      "Kurtosis:                     272.925   Cond. No.                     2.21e+08\n",
      "==============================================================================\n",
      "\n",
      "Warnings:\n",
      "[1] Standard Errors assume that the covariance matrix of the errors is correctly specified.\n",
      "[2] The condition number is large, 2.21e+08. This might indicate that there are\n",
      "strong multicollinearity or other numerical problems.\n",
      "MSE: 53026404.70051512\n"
     ]
    }
   ],
   "source": [
    "mse1 = []\n",
    "for i in np.arange(len(tweetdf)): # iterating over different hashtags\n",
    "    \n",
    "    tweetGroup = tweetdf[i].groupby(pd.Grouper(key='datePst',freq='60Min')).agg({\n",
    "        'followerCount':'sum',\n",
    "        'followerMaxCount':'max',\n",
    "        'retweetCount':'sum',\n",
    "        'tweetCount':'sum',\n",
    "        'hr':'max'})\n",
    "    tweetGroup['future'] = tweetGroup['tweetCount']\n",
    "    tweetGroup.future = tweetGroup.future.shift(-1)\n",
    "    \n",
    "    model = ols(\"future ~ followerCount + followerMaxCount + retweetCount + tweetCount + hr\", data=tweetGroup).fit()\n",
    "    print(tweetFiles[i][7:-4])\n",
    "    print(model.summary())\n",
    "    mse1.append((tweetFiles[i][7:-4],model.mse_resid))\n",
    "    print(\"MSE:\",model.mse_resid)\n"
   ]
  },
  {
   "cell_type": "code",
   "execution_count": 13,
   "metadata": {},
   "outputs": [
    {
     "name": "stdout",
     "output_type": "stream",
     "text": [
      "('tweets_#gohawks', 778598.8815298489)\n",
      "('tweets_#gopatriots', 36467.259832186704)\n",
      "('tweets_#nfl', 274541.22223045497)\n",
      "('tweets_#patriots', 5234485.518126629)\n",
      "('tweets_#sb49', 17774930.5906947)\n",
      "('tweets_#superbowl', 53026404.70051512)\n"
     ]
    }
   ],
   "source": [
    "for i in np.arange(len(mse1)):\n",
    "    print(mse1[i])"
   ]
  },
  {
   "cell_type": "markdown",
   "metadata": {},
   "source": [
    "### Question 4\n",
    "Design a regression model using any features from the papers you find or other new features you may find useful for this problem. Fit your model on the data of each hashtag and report fitting MSE and significance of features."
   ]
  },
  {
   "cell_type": "code",
   "execution_count": 6,
   "metadata": {},
   "outputs": [],
   "source": [
    "tweetdf = []\n",
    "for tweetFile in tweetFiles:\n",
    "    \n",
    "    tweetCount = []\n",
    "    followerCount = []\n",
    "    followerMaxCount = []\n",
    "    retweetCount = []\n",
    "    datePst = []\n",
    "    hr = []\n",
    "    friendsCount = []\n",
    "    \n",
    "    userMentions = []\n",
    "    rankScore = []\n",
    "    hashTags = []\n",
    "    \n",
    "    utc_tz = pytz.UTC\n",
    "    pst_tz = pytz.timezone('America/Los_Angeles')\n",
    "    \n",
    "    with open(tweetFile, 'r', encoding='utf8') as tweetData:\n",
    "        for line in tweetData:\n",
    "            \n",
    "            data = json.loads(line)\n",
    "            \n",
    "            datePst.append(datetime.datetime.fromtimestamp(data['citation_date'], pst_tz))\n",
    "            \n",
    "            hr.append(datetime.datetime.fromtimestamp(data['citation_date'], pst_tz).hour)\n",
    "            followerCount.append(data['author']['followers'])\n",
    "            followerMaxCount.append(data['author']['followers'])\n",
    "            retweetCount.append(data['metrics']['citations']['total'])\n",
    "            tweetCount.append(1)\n",
    "            \n",
    "            userMentions.append(len(data['tweet']['entities']['user_mentions']))\n",
    "            rankScore.append(data['metrics']['ranking_score'])\n",
    "            hashTags.append(len(data['tweet']['entities']['hashtags']))\n",
    "            friendsCount.append(data['tweet']['user']['friends_count'])\n",
    "            #url_count.append(extract_link(data))\n",
    "            \n",
    "        d = {'followerCount': followerCount, 'followerMaxCount': followerMaxCount, 'retweetCount' : retweetCount,\n",
    "            'tweetCount' : tweetCount, 'hr' : hr, 'datePst' : datePst,\n",
    "            'userMentions' : userMentions, 'rankScore' : rankScore, 'hashTags' : hashTags,'friendsCount':friendsCount}\n",
    "        tweetdf.append(pd.DataFrame(data=d))"
   ]
  },
  {
   "cell_type": "code",
   "execution_count": 7,
   "metadata": {
    "scrolled": false
   },
   "outputs": [
    {
     "name": "stdout",
     "output_type": "stream",
     "text": [
      "tweets_#gohawks\n",
      "                            OLS Regression Results                            \n",
      "==============================================================================\n",
      "Dep. Variable:                 future   R-squared:                       0.628\n",
      "Model:                            OLS   Adj. R-squared:                  0.622\n",
      "Method:                 Least Squares   F-statistic:                     104.6\n",
      "Date:                Sat, 21 Mar 2020   Prob (F-statistic):          8.36e-114\n",
      "Time:                        17:47:21   Log-Likelihood:                -4566.6\n",
      "No. Observations:                 569   AIC:                             9153.\n",
      "Df Residuals:                     559   BIC:                             9197.\n",
      "Df Model:                           9                                         \n",
      "Covariance Type:            nonrobust                                         \n",
      "====================================================================================\n",
      "                       coef    std err          t      P>|t|      [0.025      0.975]\n",
      "------------------------------------------------------------------------------------\n",
      "Intercept          -61.6217     62.789     -0.981      0.327    -184.953      61.709\n",
      "followerCount       -0.0005   7.56e-05     -6.135      0.000      -0.001      -0.000\n",
      "followerMaxCount     0.0003      0.000      2.296      0.022    4.65e-05       0.001\n",
      "retweetCount        -0.0076      0.040     -0.188      0.851      -0.086       0.071\n",
      "tweetCount         -35.2958      4.307     -8.195      0.000     -43.756     -26.836\n",
      "hr                   0.4635      4.669      0.099      0.921      -8.708       9.635\n",
      "userMentions         2.2206      0.477      4.654      0.000       1.283       3.158\n",
      "rankScore            6.7428      0.873      7.728      0.000       5.029       8.457\n",
      "hashTags             2.0680      0.256      8.072      0.000       1.565       2.571\n",
      "friendsCount         0.0011      0.000      3.749      0.000       0.001       0.002\n",
      "==============================================================================\n",
      "Omnibus:                     1009.669   Durbin-Watson:                   2.023\n",
      "Prob(Omnibus):                  0.000   Jarque-Bera (JB):          1014569.848\n",
      "Skew:                          11.006   Prob(JB):                         0.00\n",
      "Kurtosis:                     208.692   Cond. No.                     5.64e+06\n",
      "==============================================================================\n",
      "\n",
      "Warnings:\n",
      "[1] Standard Errors assume that the covariance matrix of the errors is correctly specified.\n",
      "[2] The condition number is large, 5.64e+06. This might indicate that there are\n",
      "strong multicollinearity or other numerical problems.\n",
      "MSE: 557502.6511403514\n"
     ]
    },
    {
     "data": {
      "image/png": "[encoded data removed]",
      "text/plain": [
       "<Figure size 1080x288 with 3 Axes>"
      ]
     },
     "metadata": {
      "needs_background": "light"
     },
     "output_type": "display_data"
    },
    {
     "name": "stdout",
     "output_type": "stream",
     "text": [
      "tweets_#gopatriots\n",
      "                            OLS Regression Results                            \n",
      "==============================================================================\n",
      "Dep. Variable:                 future   R-squared:                       0.832\n",
      "Model:                            OLS   Adj. R-squared:                  0.829\n",
      "Method:                 Least Squares   F-statistic:                     237.2\n",
      "Date:                Sat, 21 Mar 2020   Prob (F-statistic):          1.18e-160\n",
      "Time:                        17:47:22   Log-Likelihood:                -2756.3\n",
      "No. Observations:                 440   AIC:                             5533.\n",
      "Df Residuals:                     430   BIC:                             5573.\n",
      "Df Model:                           9                                         \n",
      "Covariance Type:            nonrobust                                         \n",
      "====================================================================================\n",
      "                       coef    std err          t      P>|t|      [0.025      0.975]\n",
      "------------------------------------------------------------------------------------\n",
      "Intercept           -6.9256     12.857     -0.539      0.590     -32.197      18.346\n",
      "followerCount    -5.974e-05      0.000     -0.316      0.753      -0.000       0.000\n",
      "followerMaxCount  3.441e-05      0.000      0.176      0.860      -0.000       0.000\n",
      "retweetCount        -0.9802      0.171     -5.732      0.000      -1.316      -0.644\n",
      "tweetCount         -30.9939      2.222    -13.946      0.000     -35.362     -26.626\n",
      "hr                  -0.2001      0.960     -0.208      0.835      -2.088       1.687\n",
      "userMentions         5.7653      0.546     10.564      0.000       4.693       6.838\n",
      "rankScore            5.4438      0.418     13.021      0.000       4.622       6.266\n",
      "hashTags             2.8644      0.392      7.307      0.000       2.094       3.635\n",
      "friendsCount        -0.0006      0.000     -1.238      0.216      -0.001       0.000\n",
      "==============================================================================\n",
      "Omnibus:                      189.008   Durbin-Watson:                   1.766\n",
      "Prob(Omnibus):                  0.000   Jarque-Bera (JB):            76920.067\n",
      "Skew:                           0.296   Prob(JB):                         0.00\n",
      "Kurtosis:                      67.771   Cond. No.                     9.86e+05\n",
      "==============================================================================\n",
      "\n",
      "Warnings:\n",
      "[1] Standard Errors assume that the covariance matrix of the errors is correctly specified.\n",
      "[2] The condition number is large, 9.86e+05. This might indicate that there are\n",
      "strong multicollinearity or other numerical problems.\n",
      "MSE: 16544.495874875443\n"
     ]
    },
    {
     "data": {
      "image/png": "[encoded data removed]",
      "text/plain": [
       "<Figure size 1080x288 with 3 Axes>"
      ]
     },
     "metadata": {
      "needs_background": "light"
     },
     "output_type": "display_data"
    },
    {
     "name": "stdout",
     "output_type": "stream",
     "text": [
      "tweets_#nfl\n",
      "                            OLS Regression Results                            \n",
      "==============================================================================\n",
      "Dep. Variable:                 future   R-squared:                       0.629\n",
      "Model:                            OLS   Adj. R-squared:                  0.623\n",
      "Method:                 Least Squares   F-statistic:                     107.6\n",
      "Date:                Sat, 21 Mar 2020   Prob (F-statistic):          5.78e-117\n",
      "Time:                        17:47:22   Log-Likelihood:                -4424.4\n",
      "No. Observations:                 582   AIC:                             8869.\n",
      "Df Residuals:                     572   BIC:                             8912.\n",
      "Df Model:                           9                                         \n",
      "Covariance Type:            nonrobust                                         \n",
      "====================================================================================\n",
      "                       coef    std err          t      P>|t|      [0.025      0.975]\n",
      "------------------------------------------------------------------------------------\n",
      "Intercept          121.3742     43.387      2.797      0.005      36.156     206.592\n",
      "followerCount     5.686e-05   3.05e-05      1.863      0.063    -3.1e-06       0.000\n",
      "followerMaxCount -5.187e-05   3.71e-05     -1.397      0.163      -0.000    2.11e-05\n",
      "retweetCount        -0.2469      0.064     -3.886      0.000      -0.372      -0.122\n",
      "tweetCount          -1.0997      1.703     -0.646      0.519      -4.445       2.245\n",
      "hr                   0.3425      2.970      0.115      0.908      -5.490       6.175\n",
      "userMentions         2.0992      0.692      3.034      0.003       0.740       3.458\n",
      "rankScore           -0.1520      0.362     -0.420      0.674      -0.862       0.558\n",
      "hashTags             0.7054      0.090      7.862      0.000       0.529       0.882\n",
      "friendsCount      5.128e-05      0.000      0.352      0.725      -0.000       0.000\n",
      "==============================================================================\n",
      "Omnibus:                      590.132   Durbin-Watson:                   2.477\n",
      "Prob(Omnibus):                  0.000   Jarque-Bera (JB):           163120.426\n",
      "Skew:                           3.849   Prob(JB):                         0.00\n",
      "Kurtosis:                      84.654   Cond. No.                     9.49e+06\n",
      "==============================================================================\n",
      "\n",
      "Warnings:\n",
      "[1] Standard Errors assume that the covariance matrix of the errors is correctly specified.\n",
      "[2] The condition number is large, 9.49e+06. This might indicate that there are\n",
      "strong multicollinearity or other numerical problems.\n",
      "MSE: 238853.15962877145\n"
     ]
    },
    {
     "data": {
      "image/png": "[encoded data removed]",
      "text/plain": [
       "<Figure size 1080x288 with 3 Axes>"
      ]
     },
     "metadata": {
      "needs_background": "light"
     },
     "output_type": "display_data"
    },
    {
     "name": "stdout",
     "output_type": "stream",
     "text": [
      "tweets_#patriots\n",
      "                            OLS Regression Results                            \n",
      "==============================================================================\n",
      "Dep. Variable:                 future   R-squared:                       0.814\n",
      "Model:                            OLS   Adj. R-squared:                  0.811\n",
      "Method:                 Least Squares   F-statistic:                     280.5\n",
      "Date:                Sat, 21 Mar 2020   Prob (F-statistic):          5.09e-204\n",
      "Time:                        17:47:23   Log-Likelihood:                -5191.7\n",
      "No. Observations:                 586   AIC:                         1.040e+04\n",
      "Df Residuals:                     576   BIC:                         1.045e+04\n",
      "Df Model:                           9                                         \n",
      "Covariance Type:            nonrobust                                         \n",
      "====================================================================================\n",
      "                       coef    std err          t      P>|t|      [0.025      0.975]\n",
      "------------------------------------------------------------------------------------\n",
      "Intercept         -384.2216    145.379     -2.643      0.008    -669.758     -98.685\n",
      "followerCount    -4.827e-06   5.95e-05     -0.081      0.935      -0.000       0.000\n",
      "followerMaxCount    -0.0001   9.84e-05     -1.134      0.257      -0.000    8.17e-05\n",
      "retweetCount        -0.2980      0.047     -6.366      0.000      -0.390      -0.206\n",
      "tweetCount         -61.5331      4.403    -13.976      0.000     -70.181     -52.886\n",
      "hr                  -1.9805     10.354     -0.191      0.848     -22.318      18.357\n",
      "userMentions         4.4974      0.266     16.890      0.000       3.974       5.020\n",
      "rankScore           11.6210      0.849     13.680      0.000       9.953      13.290\n",
      "hashTags             3.0178      0.271     11.130      0.000       2.485       3.550\n",
      "friendsCount         0.0009      0.000      3.247      0.001       0.000       0.001\n",
      "==============================================================================\n",
      "Omnibus:                     1056.067   Durbin-Watson:                   1.736\n",
      "Prob(Omnibus):                  0.000   Jarque-Bera (JB):          1128627.810\n",
      "Skew:                          11.416   Prob(JB):                         0.00\n",
      "Kurtosis:                     216.781   Cond. No.                     1.76e+07\n",
      "==============================================================================\n",
      "\n",
      "Warnings:\n",
      "[1] Standard Errors assume that the covariance matrix of the errors is correctly specified.\n",
      "[2] The condition number is large, 1.76e+07. This might indicate that there are\n",
      "strong multicollinearity or other numerical problems.\n",
      "MSE: 2953028.2059895173\n"
     ]
    },
    {
     "data": {
      "image/png": "[encoded data removed]",
      "text/plain": [
       "<Figure size 1080x288 with 3 Axes>"
      ]
     },
     "metadata": {
      "needs_background": "light"
     },
     "output_type": "display_data"
    },
    {
     "name": "stdout",
     "output_type": "stream",
     "text": [
      "tweets_#sb49\n",
      "                            OLS Regression Results                            \n",
      "==============================================================================\n",
      "Dep. Variable:                 future   R-squared:                       0.874\n",
      "Model:                            OLS   Adj. R-squared:                  0.872\n",
      "Method:                 Least Squares   F-statistic:                     406.2\n",
      "Date:                Sat, 21 Mar 2020   Prob (F-statistic):          2.54e-230\n",
      "Time:                        17:47:23   Log-Likelihood:                -5112.8\n",
      "No. Observations:                 536   AIC:                         1.025e+04\n",
      "Df Residuals:                     526   BIC:                         1.029e+04\n",
      "Df Model:                           9                                         \n",
      "Covariance Type:            nonrobust                                         \n",
      "====================================================================================\n",
      "                       coef    std err          t      P>|t|      [0.025      0.975]\n",
      "------------------------------------------------------------------------------------\n",
      "Intercept         -301.0109    296.855     -1.014      0.311    -884.178     282.156\n",
      "followerCount     8.609e-05   1.23e-05      7.009      0.000     6.2e-05       0.000\n",
      "followerMaxCount    -0.0002   4.52e-05     -4.212      0.000      -0.000      -0.000\n",
      "retweetCount         0.2593      0.087      2.989      0.003       0.089       0.430\n",
      "tweetCount         -40.7814      6.869     -5.937      0.000     -54.275     -27.288\n",
      "hr                 -18.7386     21.706     -0.863      0.388     -61.379      23.902\n",
      "userMentions         5.0916      0.438     11.618      0.000       4.231       5.953\n",
      "rankScore            6.3449      1.361      4.661      0.000       3.671       9.019\n",
      "hashTags             1.6485      0.332      4.961      0.000       0.996       2.301\n",
      "friendsCount         0.0050      0.000     11.179      0.000       0.004       0.006\n",
      "==============================================================================\n",
      "Omnibus:                      920.270   Durbin-Watson:                   1.948\n",
      "Prob(Omnibus):                  0.000   Jarque-Bera (JB):           817013.252\n",
      "Skew:                          10.190   Prob(JB):                         0.00\n",
      "Kurtosis:                     193.177   Cond. No.                     1.69e+08\n",
      "==============================================================================\n",
      "\n",
      "Warnings:\n",
      "[1] Standard Errors assume that the covariance matrix of the errors is correctly specified.\n",
      "[2] The condition number is large, 1.69e+08. This might indicate that there are\n",
      "strong multicollinearity or other numerical problems.\n",
      "MSE: 11509232.06780086\n"
     ]
    },
    {
     "data": {
      "image/png": "[encoded data removed]",
      "text/plain": [
       "<Figure size 1080x288 with 3 Axes>"
      ]
     },
     "metadata": {
      "needs_background": "light"
     },
     "output_type": "display_data"
    },
    {
     "name": "stdout",
     "output_type": "stream",
     "text": [
      "tweets_#superbowl\n",
      "                            OLS Regression Results                            \n",
      "==============================================================================\n",
      "Dep. Variable:                 future   R-squared:                       0.886\n",
      "Model:                            OLS   Adj. R-squared:                  0.884\n",
      "Method:                 Least Squares   F-statistic:                     497.3\n",
      "Date:                Sat, 21 Mar 2020   Prob (F-statistic):          5.93e-265\n",
      "Time:                        17:47:24   Log-Likelihood:                -5875.0\n",
      "No. Observations:                 586   AIC:                         1.177e+04\n",
      "Df Residuals:                     576   BIC:                         1.181e+04\n",
      "Df Model:                           9                                         \n",
      "Covariance Type:            nonrobust                                         \n",
      "====================================================================================\n",
      "                       coef    std err          t      P>|t|      [0.025      0.975]\n",
      "------------------------------------------------------------------------------------\n",
      "Intercept         -721.0468    460.483     -1.566      0.118   -1625.476     183.383\n",
      "followerCount    -3.781e-05   1.95e-05     -1.934      0.054   -7.62e-05    5.85e-07\n",
      "followerMaxCount -6.806e-05      0.000     -0.582      0.561      -0.000       0.000\n",
      "retweetCount        -0.5082      0.059     -8.649      0.000      -0.624      -0.393\n",
      "tweetCount         -52.2450      6.520     -8.013      0.000     -65.051     -39.439\n",
      "hr                  -8.6207     33.193     -0.260      0.795     -73.815      56.574\n",
      "userMentions         6.8613      1.743      3.937      0.000       3.439      10.284\n",
      "rankScore           10.8701      1.376      7.902      0.000       8.168      13.572\n",
      "hashTags             3.0096      0.414      7.277      0.000       2.197       3.822\n",
      "friendsCount        -0.0027      0.001     -4.882      0.000      -0.004      -0.002\n",
      "==============================================================================\n",
      "Omnibus:                     1040.727   Durbin-Watson:                   2.018\n",
      "Prob(Omnibus):                  0.000   Jarque-Bera (JB):          1269981.917\n",
      "Skew:                          10.974   Prob(JB):                         0.00\n",
      "Kurtosis:                     230.005   Cond. No.                     2.25e+08\n",
      "==============================================================================\n",
      "\n",
      "Warnings:\n",
      "[1] Standard Errors assume that the covariance matrix of the errors is correctly specified.\n",
      "[2] The condition number is large, 2.25e+08. This might indicate that there are\n",
      "strong multicollinearity or other numerical problems.\n",
      "MSE: 30414001.984979782\n"
     ]
    },
    {
     "data": {
      "image/png": "[encoded data removed]",
      "text/plain": [
       "<Figure size 1080x288 with 3 Axes>"
      ]
     },
     "metadata": {
      "needs_background": "light"
     },
     "output_type": "display_data"
    }
   ],
   "source": [
    "features = ['followerCount','followerMaxCount','retweetCount','tweetCount','hr',\n",
    "        'userMentions','rankScore','hashTags','friendsCount']\n",
    "\n",
    "\n",
    "mse2 = []\n",
    "for i in np.arange(len(tweetdf)):\n",
    "    \n",
    "    tweetGroup = tweetdf[i].groupby(pd.Grouper(key='datePst',freq='60Min')).agg({\n",
    "        'followerCount':'sum',\n",
    "        'followerMaxCount':'max',\n",
    "        'retweetCount':'sum',\n",
    "        'tweetCount':'sum',\n",
    "        'hr':'max',\n",
    "        'userMentions':'sum',\n",
    "        'rankScore':'sum',\n",
    "        'hashTags':'sum',\n",
    "        'friendsCount':'sum'})\n",
    "    tweetGroup['future'] = tweetGroup['tweetCount']\n",
    "    tweetGroup.future = tweetGroup.future.shift(-1)\n",
    "    \n",
    "    model = ols(\"future ~ followerCount + followerMaxCount + retweetCount + tweetCount + hr + userMentions + rankScore + hashTags+friendsCount\", data=tweetGroup).fit()\n",
    "    predict = model.predict(tweetGroup)\n",
    "    print(tweetFiles[i][7:-4])\n",
    "    print(model.summary())\n",
    "    mse2.append((tweetFiles[i][7:-4],model.mse_resid))\n",
    "    print(\"MSE:\",model.mse_resid)\n",
    "    \n",
    "    featuresSorted = []\n",
    "    pVals = model.pvalues[1:]\n",
    "    \n",
    "    for j in np.arange(len(features)):\n",
    "        featuresSorted.append((pVals[j], features[j]))\n",
    "    featuresSorted.sort(key = lambda x: x[0]) \n",
    "    \n",
    "    top_features = featuresSorted[:3]\n",
    "    \n",
    "    \n",
    "    fig, ax = plt.subplots(1, 3, figsize=(15, 4))\n",
    "    \n",
    "    for j,feature in enumerate(top_features):\n",
    "        \n",
    "        slope = model.params[feature[1]]\n",
    "        ax[j].scatter(tweetGroup[feature[1]],tweetGroup['future'], label='observed', s=15)\n",
    "        ax[j].scatter(tweetGroup[feature[1]],predict,label='fitted', s=15)\n",
    "        ax[j].plot(np.array(tweetGroup[feature[1]]),np.array(tweetGroup[feature[1]]) * slope,'c', label='slope = {:.2f}'.format(slope))\n",
    "        ax[j].set_title(feature[1])\n",
    "        ax[j].set_xlabel('value of feature', fontsize=12)\n",
    "        ax[j].set_ylabel('number of tweets for next hour', fontsize=12)\n",
    "        ax[j].legend(loc='upper left', fontsize=12)\n",
    "        ax[j].tick_params(labelsize=12)\n",
    "    plt.tight_layout()\n",
    "    plt.show()"
   ]
  },
  {
   "cell_type": "code",
   "execution_count": 16,
   "metadata": {},
   "outputs": [
    {
     "name": "stdout",
     "output_type": "stream",
     "text": [
      "('tweets_#gohawks', 778598.8815298489)\n",
      "('tweets_#gopatriots', 36467.259832186704)\n",
      "('tweets_#nfl', 274541.22223045497)\n",
      "('tweets_#patriots', 5234485.518126629)\n",
      "('tweets_#sb49', 17774930.5906947)\n",
      "('tweets_#superbowl', 53026404.70051512)\n",
      "\n",
      "\n",
      "('tweets_#gohawks', 557502.6511403514)\n",
      "('tweets_#gopatriots', 16544.495874875443)\n",
      "('tweets_#nfl', 238853.15962877145)\n",
      "('tweets_#patriots', 2953028.2059895173)\n",
      "('tweets_#sb49', 11509232.06780086)\n",
      "('tweets_#superbowl', 30414001.984979782)\n"
     ]
    }
   ],
   "source": [
    "for i in np.arange(len(mse1)):\n",
    "    print(mse1[i])\n",
    "print(\"\\n\")\n",
    "\n",
    "\n",
    "#Note MSE1 is different, only for comparision only!\n",
    "\n",
    "for i in np.arange(len(mse2)):\n",
    "    print(mse2[i])"
   ]
  },
  {
   "cell_type": "code",
   "execution_count": 17,
   "metadata": {},
   "outputs": [
    {
     "name": "stdout",
     "output_type": "stream",
     "text": [
      "[(5.1874697520232856e-17, 'retweetCount'), (6.236193475130101e-15, 'tweetCount'), (1.4056401765944427e-14, 'rankScore'), (1.1239360439631574e-12, 'hashTags'), (1.3621178578040756e-06, 'friendsCount'), (9.243630528315476e-05, 'userMentions'), (0.0535798812929348, 'followerCount'), (0.5610387785606867, 'followerMaxCount'), (0.795179031648355, 'hr')]\n"
     ]
    }
   ],
   "source": [
    "print(featuresSorted)"
   ]
  },
  {
   "cell_type": "markdown",
   "metadata": {},
   "source": [
    "### Question 5\n",
    "For each of the top 3 features (i.e. with the smallest p-values) in your measurements, draw a scatter plot of predictant (number of tweets for next hour) versus value of that feature, using all the samples you have extracted, and analyze it. Do the regression coefficients agree with the trends in the plots? If not, why?"
   ]
  },
  {
   "cell_type": "code",
   "execution_count": 18,
   "metadata": {},
   "outputs": [],
   "source": [
    "# See question 4, Yuan"
   ]
  },
  {
   "cell_type": "code",
   "execution_count": 19,
   "metadata": {},
   "outputs": [
    {
     "name": "stdout",
     "output_type": "stream",
     "text": [
      "tweets_#gohawks\n"
     ]
    },
    {
     "data": {
      "image/png": "[encoded data removed]",
      "text/plain": [
       "<Figure size 432x288 with 1 Axes>"
      ]
     },
     "metadata": {
      "needs_background": "light"
     },
     "output_type": "display_data"
    },
    {
     "data": {
      "image/png": "[encoded data removed]",
      "text/plain": [
       "<Figure size 432x288 with 1 Axes>"
      ]
     },
     "metadata": {
      "needs_background": "light"
     },
     "output_type": "display_data"
    },
    {
     "data": {
      "image/png": "[encoded data removed]",
      "text/plain": [
       "<Figure size 432x288 with 1 Axes>"
      ]
     },
     "metadata": {
      "needs_background": "light"
     },
     "output_type": "display_data"
    },
    {
     "name": "stdout",
     "output_type": "stream",
     "text": [
      "tweets_#gopatriots\n"
     ]
    },
    {
     "data": {
      "image/png": "[encoded data removed]",
      "text/plain": [
       "<Figure size 432x288 with 1 Axes>"
      ]
     },
     "metadata": {
      "needs_background": "light"
     },
     "output_type": "display_data"
    },
    {
     "data": {
      "image/png": "[encoded data removed]",
      "text/plain": [
       "<Figure size 432x288 with 1 Axes>"
      ]
     },
     "metadata": {
      "needs_background": "light"
     },
     "output_type": "display_data"
    },
    {
     "data": {
      "image/png": "[encoded data removed]",
      "text/plain": [
       "<Figure size 432x288 with 1 Axes>"
      ]
     },
     "metadata": {
      "needs_background": "light"
     },
     "output_type": "display_data"
    },
    {
     "name": "stdout",
     "output_type": "stream",
     "text": [
      "tweets_#nfl\n"
     ]
    },
    {
     "data": {
      "image/png": "[encoded data removed]",
      "text/plain": [
       "<Figure size 432x288 with 1 Axes>"
      ]
     },
     "metadata": {
      "needs_background": "light"
     },
     "output_type": "display_data"
    },
    {
     "data": {
      "image/png": "[encoded data removed]",
      "text/plain": [
       "<Figure size 432x288 with 1 Axes>"
      ]
     },
     "metadata": {
      "needs_background": "light"
     },
     "output_type": "display_data"
    },
    {
     "data": {
      "image/png": "[encoded data removed]",
      "text/plain": [
       "<Figure size 432x288 with 1 Axes>"
      ]
     },
     "metadata": {
      "needs_background": "light"
     },
     "output_type": "display_data"
    },
    {
     "name": "stdout",
     "output_type": "stream",
     "text": [
      "tweets_#patriots\n"
     ]
    },
    {
     "data": {
      "image/png": "[encoded data removed]",
      "text/plain": [
       "<Figure size 432x288 with 1 Axes>"
      ]
     },
     "metadata": {
      "needs_background": "light"
     },
     "output_type": "display_data"
    },
    {
     "data": {
      "image/png": "[encoded data removed]",
      "text/plain": [
       "<Figure size 432x288 with 1 Axes>"
      ]
     },
     "metadata": {
      "needs_background": "light"
     },
     "output_type": "display_data"
    },
    {
     "data": {
      "image/png": "[encoded data removed]",
      "text/plain": [
       "<Figure size 432x288 with 1 Axes>"
      ]
     },
     "metadata": {
      "needs_background": "light"
     },
     "output_type": "display_data"
    },
    {
     "name": "stdout",
     "output_type": "stream",
     "text": [
      "tweets_#sb49\n"
     ]
    },
    {
     "data": {
      "image/png": "[encoded data removed]",
      "text/plain": [
       "<Figure size 432x288 with 1 Axes>"
      ]
     },
     "metadata": {
      "needs_background": "light"
     },
     "output_type": "display_data"
    },
    {
     "data": {
      "image/png": "[encoded data removed]",
      "text/plain": [
       "<Figure size 432x288 with 1 Axes>"
      ]
     },
     "metadata": {
      "needs_background": "light"
     },
     "output_type": "display_data"
    },
    {
     "data": {
      "image/png": "[encoded data removed]",
      "text/plain": [
       "<Figure size 432x288 with 1 Axes>"
      ]
     },
     "metadata": {
      "needs_background": "light"
     },
     "output_type": "display_data"
    },
    {
     "name": "stdout",
     "output_type": "stream",
     "text": [
      "tweets_#superbowl\n"
     ]
    },
    {
     "data": {
      "image/png": "[encoded data removed]",
      "text/plain": [
       "<Figure size 432x288 with 1 Axes>"
      ]
     },
     "metadata": {
      "needs_background": "light"
     },
     "output_type": "display_data"
    },
    {
     "data": {
      "image/png": "[encoded data removed]",
      "text/plain": [
       "<Figure size 432x288 with 1 Axes>"
      ]
     },
     "metadata": {
      "needs_background": "light"
     },
     "output_type": "display_data"
    },
    {
     "data": {
      "image/png": "[encoded data removed]",
      "text/plain": [
       "<Figure size 432x288 with 1 Axes>"
      ]
     },
     "metadata": {
      "needs_background": "light"
     },
     "output_type": "display_data"
    }
   ],
   "source": [
    "features = ['followerCount','followerMaxCount','retweetCount','tweetCount','hr',\n",
    "        'userMentions','rankScore','hashTags']\n",
    "for i in np.arange(len(tweetdf)):\n",
    "    \n",
    "    tweetGroup = tweetdf[i].groupby(pd.Grouper(key='datePst',freq='60Min')).agg({\n",
    "        'followerCount':'sum',\n",
    "        'followerMaxCount':'max',\n",
    "        'retweetCount':'sum',\n",
    "        'tweetCount':'sum',\n",
    "        'hr':'max',\n",
    "        'userMentions':'sum',\n",
    "        'rankScore':'sum',\n",
    "        'hashTags':'sum'})\n",
    "    tweetGroup['future'] = tweetGroup['tweetCount']\n",
    "    tweetGroup.future = tweetGroup.future.shift(-1)\n",
    "    \n",
    "    model = ols(\"future ~ followerCount + followerMaxCount + retweetCount + tweetCount + hr + userMentions + rankScore + hashTags\", data=tweetGroup).fit()\n",
    "    predict = model.predict(tweetGroup)\n",
    "    \n",
    "    print(tweetFiles[i][7:-4])\n",
    "    \n",
    "    featuresSorted = []\n",
    "    pVals = model.pvalues[1:]\n",
    "    for j in np.arange(len(features)):\n",
    "        featuresSorted.append((pVals[j], features[j]))\n",
    "    featuresSorted.sort(key = lambda x: x[0]) \n",
    "\n",
    "    for j in np.arange(3):\n",
    "        plt.scatter(predict, tweetGroup[featuresSorted[j][1]])\n",
    "        plt.title(featuresSorted[j][1])\n",
    "        plt.xlabel(\"Predicted Number of Tweets\")\n",
    "        plt.ylabel(featuresSorted[j][1])\n",
    "        plt.show()"
   ]
  },
  {
   "cell_type": "markdown",
   "metadata": {},
   "source": [
    "### Question 6\n",
    "We define three time periods and their corresponding window length as follows:\n",
    "1. Before Feb. 1, 8:00 a.m.: 1-hour window\n",
    "2. Between Feb. 1, 8:00 a.m. and 8:00 p.m.: 5-minute window\n",
    "3. After Feb. 1, 8:00 p.m.: 1-hour window\n"
   ]
  },
  {
   "cell_type": "code",
   "execution_count": 20,
   "metadata": {},
   "outputs": [],
   "source": [
    "## P1\n",
    "mse2 = []\n",
    "rsquare = []\n",
    "for i in np.arange(len(tweetdf)):\n",
    "    \n",
    "    tweetGroup = tweetdf[i][tweetdf[i]['datePst'] < '2015-02-01 08:00:00-0800'].groupby(pd.Grouper(key='datePst',freq='60Min')).agg({\n",
    "        'followerCount':'sum',\n",
    "        'followerMaxCount':'max',\n",
    "        'retweetCount':'sum',\n",
    "        'tweetCount':'sum',\n",
    "        'hr':'max',\n",
    "        'userMentions':'sum',\n",
    "        'rankScore':'sum',\n",
    "        'hashTags':'sum',\n",
    "        'friendsCount':'sum'})\n",
    "    tweetGroup['future'] = tweetGroup['tweetCount']\n",
    "    tweetGroup.future = tweetGroup.future.shift(-1)\n",
    "    \n",
    "    model = ols(\"future ~ followerCount + followerMaxCount + retweetCount + tweetCount + hr + userMentions + rankScore + hashTags+friendsCount\", data=tweetGroup).fit()\n",
    "    mse2.append((tweetFiles[i][7:-4],model.mse_resid))\n",
    "    rsquare.append(model.rsquared)"
   ]
  },
  {
   "cell_type": "code",
   "execution_count": 21,
   "metadata": {},
   "outputs": [
    {
     "name": "stdout",
     "output_type": "stream",
     "text": [
      "('tweets_#gohawks', 778598.8815298489)\n",
      "('tweets_#gopatriots', 36467.259832186704)\n",
      "('tweets_#nfl', 274541.22223045497)\n",
      "('tweets_#patriots', 5234485.518126629)\n",
      "('tweets_#sb49', 17774930.5906947)\n",
      "('tweets_#superbowl', 53026404.70051512)\n",
      "\n",
      "\n",
      "MSE: ('tweets_#gohawks', 391105.3899799492) R2 0.629266834738023\n",
      "MSE: ('tweets_#gopatriots', 1477.3658262621261) R2 0.6915445325138287\n",
      "MSE: ('tweets_#nfl', 64709.41632815778) R2 0.5315809809711172\n",
      "MSE: ('tweets_#patriots', 317534.04964227515) R2 0.6028339234339768\n",
      "MSE: ('tweets_#sb49', 6356.710596400901) R2 0.8916078476085276\n",
      "MSE: ('tweets_#superbowl', 456265.5647931369) R2 0.48330089273290067\n"
     ]
    }
   ],
   "source": [
    "for i in np.arange(len(mse1)):\n",
    "    print(mse1[i])\n",
    "print(\"\\n\")\n",
    "for i in np.arange(len(mse2)):\n",
    "    print(\"MSE: \" + str(mse2[i]) + \" R2 \" + str(rsquare[i]))"
   ]
  },
  {
   "cell_type": "code",
   "execution_count": 22,
   "metadata": {
    "scrolled": false
   },
   "outputs": [],
   "source": [
    "## P2\n",
    "mse2 = []\n",
    "rsquare = []\n",
    "for i in np.arange(len(tweetdf)):\n",
    "    \n",
    "    tweetGroup = tweetdf[i][(tweetdf[i]['datePst'] >= '2015-02-01 08:00:00-0800') &\n",
    "                       (tweetdf[i]['datePst'] <= '2015-02-01 20:00:00-0800')].groupby(pd.Grouper(key='datePst',freq='5Min')).agg({\n",
    "        'followerCount':'sum',\n",
    "        'followerMaxCount':'max',\n",
    "        'retweetCount':'sum',\n",
    "        'tweetCount':'sum',\n",
    "        'hr':'max',\n",
    "        'userMentions':'sum',\n",
    "        'rankScore':'sum',\n",
    "        'hashTags':'sum',\n",
    "        'friendsCount':'sum'})\n",
    "    tweetGroup['future'] = tweetGroup['tweetCount']\n",
    "    tweetGroup.future = tweetGroup.future.shift(-1)\n",
    "    \n",
    "    model = ols(\"future ~ followerCount + followerMaxCount + retweetCount + tweetCount + hr + userMentions + rankScore + hashTags+friendsCount\", data=tweetGroup).fit()\n",
    "    mse2.append((tweetFiles[i][7:-4],model.mse_resid))\n",
    "    rsquare.append(model.rsquared)"
   ]
  },
  {
   "cell_type": "code",
   "execution_count": 23,
   "metadata": {},
   "outputs": [
    {
     "name": "stdout",
     "output_type": "stream",
     "text": [
      "('tweets_#gohawks', 778598.8815298489)\n",
      "('tweets_#gopatriots', 36467.259832186704)\n",
      "('tweets_#nfl', 274541.22223045497)\n",
      "('tweets_#patriots', 5234485.518126629)\n",
      "('tweets_#sb49', 17774930.5906947)\n",
      "('tweets_#superbowl', 53026404.70051512)\n",
      "\n",
      "\n",
      "MSE: ('tweets_#gohawks', 71138.7846234019) R2 0.5336165997212333\n",
      "MSE: ('tweets_#gopatriots', 14076.07849124971) R2 0.5001952534942797\n",
      "MSE: ('tweets_#nfl', 20072.04152915557) R2 0.8383959090489244\n",
      "MSE: ('tweets_#patriots', 671394.0045288597) R2 0.7306070071834287\n",
      "MSE: ('tweets_#sb49', 1140446.8293864676) R2 0.8896157691937968\n",
      "MSE: ('tweets_#superbowl', 4036515.2752992073) R2 0.9398788329703858\n"
     ]
    }
   ],
   "source": [
    "for i in np.arange(len(mse1)):\n",
    "    print(mse1[i])\n",
    "print(\"\\n\")\n",
    "for i in np.arange(len(mse2)):\n",
    "    print(\"MSE: \" + str(mse2[i]) + \" R2 \" + str(rsquare[i]))"
   ]
  },
  {
   "cell_type": "code",
   "execution_count": 24,
   "metadata": {
    "scrolled": false
   },
   "outputs": [],
   "source": [
    "## P3\n",
    "mse2 = []\n",
    "rsquare = []\n",
    "for i in np.arange(len(tweetdf)):\n",
    "    \n",
    "    tweetGroup = tweetdf[i][tweetdf[i]['datePst'] >= '2015-02-01 20:00:00-0800'].groupby(pd.Grouper(key='datePst',freq='60Min')).agg({\n",
    "        'followerCount':'sum',\n",
    "        'followerMaxCount':'max',\n",
    "        'retweetCount':'sum',\n",
    "        'tweetCount':'sum',\n",
    "        'hr':'max',\n",
    "        'userMentions':'sum',\n",
    "        'rankScore':'sum',\n",
    "        'hashTags':'sum',\n",
    "        'friendsCount':'sum'})\n",
    "    tweetGroup['future'] = tweetGroup['tweetCount']\n",
    "    tweetGroup.future = tweetGroup.future.shift(-1)\n",
    "    \n",
    "    model = ols(\"future ~ followerCount + followerMaxCount + retweetCount + tweetCount + hr + userMentions + rankScore + hashTags+friendsCount\", data=tweetGroup).fit()\n",
    "    mse2.append((tweetFiles[i][7:-4],model.mse_resid))\n",
    "    rsquare.append(model.rsquared)"
   ]
  },
  {
   "cell_type": "code",
   "execution_count": 25,
   "metadata": {},
   "outputs": [
    {
     "name": "stdout",
     "output_type": "stream",
     "text": [
      "('tweets_#gohawks', 778598.8815298489)\n",
      "('tweets_#gopatriots', 36467.259832186704)\n",
      "('tweets_#nfl', 274541.22223045497)\n",
      "('tweets_#patriots', 5234485.518126629)\n",
      "('tweets_#sb49', 17774930.5906947)\n",
      "('tweets_#superbowl', 53026404.70051512)\n",
      "\n",
      "\n",
      "MSE: ('tweets_#gohawks', 1941.8159496097876) R2 0.8497619359111352\n",
      "MSE: ('tweets_#gopatriots', 73.65007648622402) R2 0.8496286940311808\n",
      "MSE: ('tweets_#nfl', 17283.561177576128) R2 0.8032452039337872\n",
      "MSE: ('tweets_#patriots', 10763.318127165816) R2 0.8892539422639684\n",
      "MSE: ('tweets_#sb49', 49019.716555399355) R2 0.8762788468259243\n",
      "MSE: ('tweets_#superbowl', 110904.13511191847) R2 0.855737520287607\n"
     ]
    }
   ],
   "source": [
    "for i in np.arange(len(mse1)):\n",
    "    print(mse1[i])\n",
    "print(\"\\n\")\n",
    "for i in np.arange(len(mse2)):\n",
    "    print(\"MSE: \" + str(mse2[i]) + \" R2 \" + str(rsquare[i]))"
   ]
  },
  {
   "cell_type": "markdown",
   "metadata": {},
   "source": [
    "### Michael's original code"
   ]
  },
  {
   "cell_type": "markdown",
   "metadata": {},
   "source": [
    "### Question 7\n",
    "Also, aggregate the data of all hashtags, and train 3 models (for the intervals mentioned above) to predict the number of tweets in the next time window on the aggregated data.\n",
    "\n",
    "Perform the same evaluations on your combined model and compare with models you trained for individual hashtags.\n"
   ]
  },
  {
   "cell_type": "code",
   "execution_count": 26,
   "metadata": {},
   "outputs": [
    {
     "name": "stdout",
     "output_type": "stream",
     "text": [
      "Predicted: \n",
      "datePst\n",
      "2015-02-01 07:00:00-08:00     129.023131\n",
      "2015-02-01 07:00:00-08:00      69.400755\n",
      "2015-02-01 07:00:00-08:00    1190.012218\n",
      "2015-02-01 07:00:00-08:00     493.906148\n",
      "2015-02-01 07:00:00-08:00    1750.535976\n",
      "2015-02-01 07:00:00-08:00    6204.014857\n",
      "dtype: float64\n",
      "Truth: \n",
      "datePst\n",
      "2015-02-01 08:00:00-08:00     231\n",
      "2015-02-01 08:00:00-08:00      31\n",
      "2015-02-01 08:00:00-08:00     847\n",
      "2015-02-01 08:00:00-08:00     435\n",
      "2015-02-01 08:00:00-08:00    1629\n",
      "2015-02-01 08:00:00-08:00    5031\n",
      "Freq: 60T, Name: tweetCount, dtype: int64\n"
     ]
    }
   ],
   "source": [
    "## P1\n",
    "combinedTweetGroupDf = []\n",
    "combinedTweetGroupDfTruth = []\n",
    "combinedTweetGroupDfPredict = []\n",
    "for i in np.arange(len(tweetdf)):\n",
    "    \n",
    "    tweetGroup = tweetdf[i][tweetdf[i]['datePst'] < '2015-02-01 08:00:00-0800'].groupby(pd.Grouper(key='datePst',freq='60Min')).agg({\n",
    "        'followerCount':'sum',\n",
    "        'followerMaxCount':'max',\n",
    "        'retweetCount':'sum',\n",
    "        'tweetCount':'sum',\n",
    "        'hr':'max',\n",
    "        'userMentions':'sum',\n",
    "        'rankScore':'sum',\n",
    "        'hashTags':'sum',\n",
    "        'friendsCount':'sum'})\n",
    "    tweetGroup['future'] = tweetGroup['tweetCount']\n",
    "    tweetGroup.future = tweetGroup.future.shift(-1)\n",
    "    combinedTweetGroupDf.append(tweetGroup)\n",
    "    \n",
    "    tweetGroup = tweetdf[i][(tweetdf[i]['datePst'] > '2015-02-01 08:00:00-0800') \n",
    "                            & (tweetdf[i]['datePst'] < '2015-02-01 09:00:00-0800')].groupby(pd.Grouper(key='datePst',freq='60Min')).agg({\n",
    "        'followerCount':'sum',\n",
    "        'followerMaxCount':'max',\n",
    "        'retweetCount':'sum',\n",
    "        'tweetCount':'sum',\n",
    "        'hr':'max',\n",
    "        'userMentions':'sum',\n",
    "        'rankScore':'sum',\n",
    "        'hashTags':'sum',\n",
    "        'friendsCount':'sum'})\n",
    "    tweetGroup['future'] = tweetGroup['tweetCount']\n",
    "    tweetGroup.future = tweetGroup.future.shift(-1)\n",
    "    combinedTweetGroupDfTruth.append(tweetGroup)\n",
    "    \n",
    "    tweetGroup = tweetdf[i][(tweetdf[i]['datePst'] > '2015-02-01 07:00:00-0800') \n",
    "                            & (tweetdf[i]['datePst'] < '2015-02-01 08:00:00-0800')].groupby(pd.Grouper(key='datePst',freq='60Min')).agg({\n",
    "        'followerCount':'sum',\n",
    "        'followerMaxCount':'max',\n",
    "        'retweetCount':'sum',\n",
    "        'tweetCount':'sum',\n",
    "        'hr':'max',\n",
    "        'userMentions':'sum',\n",
    "        'rankScore':'sum',\n",
    "        'hashTags':'sum',\n",
    "        'friendsCount':'sum'})\n",
    "    tweetGroup['future'] = tweetGroup['tweetCount']\n",
    "    tweetGroup.future = tweetGroup.future.shift(-1)\n",
    "    combinedTweetGroupDfPredict.append(tweetGroup)\n",
    "\n",
    "combinedTweetGroup = pd.concat(combinedTweetGroupDf)\n",
    "combinedTweetGroupTruth = pd.concat(combinedTweetGroupDfTruth)\n",
    "combinedTweetGroupPredict = pd.concat(combinedTweetGroupDfPredict)\n",
    "\n",
    "model = ols(\"future ~ followerCount + followerMaxCount + retweetCount + tweetCount + hr + userMentions + rankScore + hashTags + friendsCount\", data=combinedTweetGroup).fit()\n",
    "\n",
    "print(\"Predicted: \")\n",
    "print(model.predict(combinedTweetGroupPredict))\n",
    "print(\"Truth: \")\n",
    "print(combinedTweetGroupTruth['tweetCount'])"
   ]
  },
  {
   "cell_type": "code",
   "execution_count": 27,
   "metadata": {},
   "outputs": [
    {
     "name": "stdout",
     "output_type": "stream",
     "text": [
      "Predicted: \n",
      "datePst\n",
      "2015-02-01 19:55:00-08:00    365.166773\n",
      "2015-02-01 19:55:00-08:00    354.648465\n",
      "2015-02-01 19:55:00-08:00    379.376916\n",
      "2015-02-01 19:55:00-08:00    380.559267\n",
      "2015-02-01 19:55:00-08:00    403.048833\n",
      "2015-02-01 19:55:00-08:00    976.815456\n",
      "dtype: float64\n",
      "Truth: \n",
      "datePst\n",
      "2015-02-01 20:00:00-08:00     33\n",
      "2015-02-01 20:00:00-08:00      7\n",
      "2015-02-01 20:00:00-08:00     27\n",
      "2015-02-01 20:00:00-08:00    148\n",
      "2015-02-01 20:00:00-08:00    241\n",
      "2015-02-01 20:00:00-08:00    194\n",
      "Freq: 5T, Name: tweetCount, dtype: int64\n"
     ]
    }
   ],
   "source": [
    "## P2\n",
    "combinedTweetGroupDf = []\n",
    "combinedTweetGroupDfTruth = []\n",
    "combinedTweetGroupDfPredict = []\n",
    "for i in np.arange(len(tweetdf)):\n",
    "    \n",
    "    tweetGroup = tweetdf[i][(tweetdf[i]['datePst'] >= '2015-02-01 08:00:00-0800') &\n",
    "                       (tweetdf[i]['datePst'] <= '2015-02-01 20:00:00-0800')].groupby(pd.Grouper(key='datePst',freq='5Min')).agg({\n",
    "        'followerCount':'sum',\n",
    "        'followerMaxCount':'max',\n",
    "        'retweetCount':'sum',\n",
    "        'tweetCount':'sum',\n",
    "        'hr':'max',\n",
    "        'userMentions':'sum',\n",
    "        'rankScore':'sum',\n",
    "        'hashTags':'sum'})\n",
    "    tweetGroup['future'] = tweetGroup['tweetCount']\n",
    "    tweetGroup.future = tweetGroup.future.shift(-1)\n",
    "    combinedTweetGroupDf.append(tweetGroup)\n",
    "    \n",
    "    tweetGroup = tweetdf[i][(tweetdf[i]['datePst'] > '2015-02-01 20:00:00-0800') \n",
    "                            & (tweetdf[i]['datePst'] < '2015-02-01 20:05:00-0800')].groupby(pd.Grouper(key='datePst',freq='5Min')).agg({\n",
    "        'followerCount':'sum',\n",
    "        'followerMaxCount':'max',\n",
    "        'retweetCount':'sum',\n",
    "        'tweetCount':'sum',\n",
    "        'hr':'max',\n",
    "        'userMentions':'sum',\n",
    "        'rankScore':'sum',\n",
    "        'hashTags':'sum'})\n",
    "    tweetGroup['future'] = tweetGroup['tweetCount']\n",
    "    tweetGroup.future = tweetGroup.future.shift(-1)\n",
    "    combinedTweetGroupDfTruth.append(tweetGroup)\n",
    "    \n",
    "    tweetGroup = tweetdf[i][(tweetdf[i]['datePst'] > '2015-02-01 19:55:00-0800') \n",
    "                            & (tweetdf[i]['datePst'] < '2015-02-01 20:00:00-0800')].groupby(pd.Grouper(key='datePst',freq='5Min')).agg({\n",
    "        'followerCount':'sum',\n",
    "        'followerMaxCount':'max',\n",
    "        'retweetCount':'sum',\n",
    "        'tweetCount':'sum',\n",
    "        'hr':'max',\n",
    "        'userMentions':'sum',\n",
    "        'rankScore':'sum',\n",
    "        'hashTags':'sum'})\n",
    "    tweetGroup['future'] = tweetGroup['tweetCount']\n",
    "    tweetGroup.future = tweetGroup.future.shift(-1)\n",
    "    combinedTweetGroupDfPredict.append(tweetGroup)\n",
    "\n",
    "combinedTweetGroup = pd.concat(combinedTweetGroupDf)\n",
    "combinedTweetGroupTruth = pd.concat(combinedTweetGroupDfTruth)\n",
    "combinedTweetGroupPredict = pd.concat(combinedTweetGroupDfPredict)\n",
    "\n",
    "model = ols(\"future ~ followerCount + followerMaxCount + retweetCount + tweetCount + hr + userMentions + rankScore + hashTags\", data=combinedTweetGroup).fit()\n",
    "\n",
    "print(\"Predicted: \")\n",
    "print(model.predict(combinedTweetGroupPredict))\n",
    "print(\"Truth: \")\n",
    "print(combinedTweetGroupTruth['tweetCount'])"
   ]
  },
  {
   "cell_type": "code",
   "execution_count": 28,
   "metadata": {},
   "outputs": [
    {
     "name": "stdout",
     "output_type": "stream",
     "text": [
      "Predicted: \n",
      "datePst\n",
      "2015-02-07 10:00:00-08:00    29.777283\n",
      "2015-02-07 10:00:00-08:00    32.736918\n",
      "2015-02-07 10:00:00-08:00    62.212445\n",
      "2015-02-07 10:00:00-08:00    29.767759\n",
      "dtype: float64\n",
      "Truth: \n",
      "datePst\n",
      "2015-02-07 10:00:00-08:00     5\n",
      "2015-02-07 10:00:00-08:00     3\n",
      "2015-02-07 10:00:00-08:00    43\n",
      "2015-02-07 10:00:00-08:00     1\n",
      "Name: tweetCount, dtype: int64\n"
     ]
    }
   ],
   "source": [
    "## P3\n",
    "combinedTweetGroupDf = []\n",
    "combinedTweetGroupDfTruth = []\n",
    "combinedTweetGroupDfPredict = []\n",
    "for i in np.arange(len(tweetdf)):\n",
    "    \n",
    "    tweetGroup = tweetdf[i][tweetdf[i]['datePst'] >= '2015-02-01 20:00:00-0800'].groupby(pd.Grouper(key='datePst',freq='60Min')).agg({\n",
    "        'followerCount':'sum',\n",
    "        'followerMaxCount':'max',\n",
    "        'retweetCount':'sum',\n",
    "        'tweetCount':'sum',\n",
    "        'hr':'max',\n",
    "        'userMentions':'sum',\n",
    "        'rankScore':'sum',\n",
    "        'hashTags':'sum'})\n",
    "    tweetGroup['future'] = tweetGroup['tweetCount']\n",
    "    tweetGroup.future = tweetGroup.future.shift(-1)\n",
    "    combinedTweetGroupDf.append(tweetGroup)\n",
    "    \n",
    "    tweetGroup = tweetdf[i][(tweetdf[i]['datePst'] > '2015-02-07 10:00:00-0800') \n",
    "                            & (tweetdf[i]['datePst'] < '2015-02-07 11:00:00-0800')].groupby(pd.Grouper(key='datePst',freq='60Min')).agg({\n",
    "        'followerCount':'sum',\n",
    "        'followerMaxCount':'max',\n",
    "        'retweetCount':'sum',\n",
    "        'tweetCount':'sum',\n",
    "        'hr':'max',\n",
    "        'userMentions':'sum',\n",
    "        'rankScore':'sum',\n",
    "        'hashTags':'sum'})\n",
    "    tweetGroup['future'] = tweetGroup['tweetCount']\n",
    "    tweetGroup.future = tweetGroup.future.shift(-1)\n",
    "    combinedTweetGroupDfTruth.append(tweetGroup)\n",
    "    \n",
    "    tweetGroup = tweetdf[i][(tweetdf[i]['datePst'] > '2015-02-07 10:00:00-0800') \n",
    "                            & (tweetdf[i]['datePst'] < '2015-02-07 11:00:00-0800')].groupby(pd.Grouper(key='datePst',freq='60Min')).agg({\n",
    "        'followerCount':'sum',\n",
    "        'followerMaxCount':'max',\n",
    "        'retweetCount':'sum',\n",
    "        'tweetCount':'sum',\n",
    "        'hr':'max',\n",
    "        'userMentions':'sum',\n",
    "        'rankScore':'sum',\n",
    "        'hashTags':'sum'})\n",
    "    tweetGroup['future'] = tweetGroup['tweetCount']\n",
    "    tweetGroup.future = tweetGroup.future.shift(-1)\n",
    "    combinedTweetGroupDfPredict.append(tweetGroup)\n",
    "\n",
    "combinedTweetGroup = pd.concat(combinedTweetGroupDf)\n",
    "combinedTweetGroupTruth = pd.concat(combinedTweetGroupDfTruth)\n",
    "combinedTweetGroupPredict = pd.concat(combinedTweetGroupDfPredict)\n",
    "\n",
    "model = ols(\"future ~ followerCount + followerMaxCount + retweetCount + tweetCount + hr + userMentions + rankScore + hashTags\", data=combinedTweetGroup).fit()\n",
    "\n",
    "print(\"Predicted: \")\n",
    "print(model.predict(combinedTweetGroupPredict))\n",
    "print(\"Truth: \")\n",
    "print(combinedTweetGroupTruth['tweetCount'])"
   ]
  },
  {
   "cell_type": "markdown",
   "metadata": {},
   "source": [
    "### Yuan's approach Q7"
   ]
  },
  {
   "cell_type": "code",
   "execution_count": 30,
   "metadata": {},
   "outputs": [],
   "source": [
    "#I first aggregate everything, then do regression.\n",
    "\n",
    "features = ['followerCount','followerMaxCount','retweetCount','tweetCount','hr',\n",
    "        'userMentions','rankScore','hashTags','friendsCount']\n",
    "\n",
    "tweetdf_agg = []\n",
    "\n",
    "tweetCount_agg = []\n",
    "followerCount_agg = []\n",
    "followerMaxCount_agg = []\n",
    "retweetCount_agg = []\n",
    "datePst_agg = []\n",
    "hr_agg = []\n",
    "friendsCount_agg = []\n",
    "    \n",
    "userMentions_agg = []\n",
    "rankScore_agg = []\n",
    "hashTags_agg = []\n",
    "\n",
    "for tweetFile in tweetFiles:\n",
    "    \n",
    "    utc_tz = pytz.UTC\n",
    "    pst_tz = pytz.timezone('America/Los_Angeles')\n",
    "    \n",
    "    with open(tweetFile, 'r', encoding='utf8') as tweetData:\n",
    "        for line in tweetData:\n",
    "            \n",
    "            data = json.loads(line)\n",
    "            \n",
    "            datePst_agg.append(datetime.datetime.fromtimestamp(data['citation_date'], pst_tz))\n",
    "            \n",
    "            hr_agg.append(datetime.datetime.fromtimestamp(data['citation_date'], pst_tz).hour)\n",
    "            followerCount_agg.append(data['author']['followers'])\n",
    "            followerMaxCount_agg.append(data['author']['followers'])\n",
    "            retweetCount_agg.append(data['metrics']['citations']['total'])\n",
    "            tweetCount_agg.append(1)\n",
    "            \n",
    "            userMentions_agg.append(len(data['tweet']['entities']['user_mentions']))\n",
    "            rankScore_agg.append(data['metrics']['ranking_score'])\n",
    "            hashTags_agg.append(len(data['tweet']['entities']['hashtags']))\n",
    "            friendsCount_agg.append(data['tweet']['user']['friends_count'])\n",
    "            #url_count.append(extract_link(data))\n",
    "            \n",
    "d = {'followerCount': followerCount_agg, 'followerMaxCount': followerMaxCount_agg, 'retweetCount' : retweetCount_agg,\n",
    "            'tweetCount' : tweetCount_agg, 'hr' : hr_agg, 'datePst' : datePst_agg,\n",
    "            'userMentions' : userMentions_agg, 'rankScore' : rankScore_agg, 'hashTags' : hashTags_agg,'friendsCount':friendsCount_agg}\n",
    "\n",
    "tweetdf_agg = pd.DataFrame(data=d)\n"
   ]
  },
  {
   "cell_type": "code",
   "execution_count": 30,
   "metadata": {},
   "outputs": [],
   "source": [
    "#tweetdf_agg"
   ]
  },
  {
   "cell_type": "code",
   "execution_count": 8,
   "metadata": {},
   "outputs": [],
   "source": [
    "tweetdf_agg_group_before = tweetdf_agg[(tweetdf_agg['datePst'] < '2015-02-01 08:00:00-0800')].groupby(pd.Grouper(key='datePst',freq='60Min')).agg({\n",
    "        'followerCount':'sum',\n",
    "        'followerMaxCount':'max',\n",
    "        'retweetCount':'sum',\n",
    "        'tweetCount':'sum',\n",
    "        'hr':'max',\n",
    "        'userMentions':'sum',\n",
    "        'rankScore':'sum',\n",
    "        'hashTags':'sum',\n",
    "        'friendsCount':'sum'})\n",
    "tweetdf_agg_group_before['future'] = tweetdf_agg_group_before['tweetCount']\n",
    "tweetdf_agg_group_before.future = tweetdf_agg_group_before.future.shift(-1)"
   ]
  },
  {
   "cell_type": "code",
   "execution_count": 9,
   "metadata": {},
   "outputs": [
    {
     "name": "stdout",
     "output_type": "stream",
     "text": [
      "MSE is 4199491.171860169\n"
     ]
    }
   ],
   "source": [
    "model = ols(\"future ~ followerCount + followerMaxCount + retweetCount + tweetCount + hr + userMentions + rankScore + hashTags + friendsCount\", data=tweetdf_agg_group_before).fit()\n",
    "predict = model.predict(tweetdf_agg_group_before)\n",
    "print('MSE is {}'.format(metrics.mean_squared_error(tweetdf_agg_group_before['future'].replace(np.nan, 0).values, predict.values)))"
   ]
  },
  {
   "cell_type": "code",
   "execution_count": 10,
   "metadata": {},
   "outputs": [],
   "source": [
    "tweetdf_agg_group_before.to_csv('aggregated_data_before.csv')"
   ]
  },
  {
   "cell_type": "code",
   "execution_count": 69,
   "metadata": {},
   "outputs": [
    {
     "data": {
      "text/html": [
       "<table class=\"simpletable\">\n",
       "<caption>OLS Regression Results</caption>\n",
       "<tr>\n",
       "  <th>Dep. Variable:</th>         <td>future</td>      <th>  R-squared:         </th> <td>   0.467</td>\n",
       "</tr>\n",
       "<tr>\n",
       "  <th>Model:</th>                   <td>OLS</td>       <th>  Adj. R-squared:    </th> <td>   0.456</td>\n",
       "</tr>\n",
       "<tr>\n",
       "  <th>Method:</th>             <td>Least Squares</td>  <th>  F-statistic:       </th> <td>   41.84</td>\n",
       "</tr>\n",
       "<tr>\n",
       "  <th>Date:</th>             <td>Sat, 21 Mar 2020</td> <th>  Prob (F-statistic):</th> <td>1.83e-53</td>\n",
       "</tr>\n",
       "<tr>\n",
       "  <th>Time:</th>                 <td>10:54:02</td>     <th>  Log-Likelihood:    </th> <td> -3959.3</td>\n",
       "</tr>\n",
       "<tr>\n",
       "  <th>No. Observations:</th>      <td>   439</td>      <th>  AIC:               </th> <td>   7939.</td>\n",
       "</tr>\n",
       "<tr>\n",
       "  <th>Df Residuals:</th>          <td>   429</td>      <th>  BIC:               </th> <td>   7980.</td>\n",
       "</tr>\n",
       "<tr>\n",
       "  <th>Df Model:</th>              <td>     9</td>      <th>                     </th>     <td> </td>   \n",
       "</tr>\n",
       "<tr>\n",
       "  <th>Covariance Type:</th>      <td>nonrobust</td>    <th>                     </th>     <td> </td>   \n",
       "</tr>\n",
       "</table>\n",
       "<table class=\"simpletable\">\n",
       "<tr>\n",
       "          <td></td>            <th>coef</th>     <th>std err</th>      <th>t</th>      <th>P>|t|</th>  <th>[0.025</th>    <th>0.975]</th>  \n",
       "</tr>\n",
       "<tr>\n",
       "  <th>Intercept</th>        <td>  233.1055</td> <td>  205.580</td> <td>    1.134</td> <td> 0.257</td> <td> -170.963</td> <td>  637.174</td>\n",
       "</tr>\n",
       "<tr>\n",
       "  <th>followerCount</th>    <td> -3.19e-05</td> <td> 1.31e-05</td> <td>   -2.430</td> <td> 0.016</td> <td>-5.77e-05</td> <td> -6.1e-06</td>\n",
       "</tr>\n",
       "<tr>\n",
       "  <th>followerMaxCount</th> <td> 6.286e-05</td> <td>  5.8e-05</td> <td>    1.083</td> <td> 0.279</td> <td>-5.12e-05</td> <td>    0.000</td>\n",
       "</tr>\n",
       "<tr>\n",
       "  <th>retweetCount</th>     <td>   -0.0743</td> <td>    0.072</td> <td>   -1.031</td> <td> 0.303</td> <td>   -0.216</td> <td>    0.067</td>\n",
       "</tr>\n",
       "<tr>\n",
       "  <th>tweetCount</th>       <td>   -5.3792</td> <td>    2.237</td> <td>   -2.405</td> <td> 0.017</td> <td>   -9.775</td> <td>   -0.983</td>\n",
       "</tr>\n",
       "<tr>\n",
       "  <th>hr</th>               <td>    4.2623</td> <td>   14.380</td> <td>    0.296</td> <td> 0.767</td> <td>  -24.002</td> <td>   32.527</td>\n",
       "</tr>\n",
       "<tr>\n",
       "  <th>userMentions</th>     <td>    0.1330</td> <td>    0.647</td> <td>    0.206</td> <td> 0.837</td> <td>   -1.138</td> <td>    1.404</td>\n",
       "</tr>\n",
       "<tr>\n",
       "  <th>rankScore</th>        <td>    1.4340</td> <td>    0.479</td> <td>    2.995</td> <td> 0.003</td> <td>    0.493</td> <td>    2.375</td>\n",
       "</tr>\n",
       "<tr>\n",
       "  <th>hashTags</th>         <td>   -0.6728</td> <td>    0.227</td> <td>   -2.960</td> <td> 0.003</td> <td>   -1.119</td> <td>   -0.226</td>\n",
       "</tr>\n",
       "<tr>\n",
       "  <th>friendsCount</th>     <td>    0.0014</td> <td>    0.000</td> <td>    5.587</td> <td> 0.000</td> <td>    0.001</td> <td>    0.002</td>\n",
       "</tr>\n",
       "</table>\n",
       "<table class=\"simpletable\">\n",
       "<tr>\n",
       "  <th>Omnibus:</th>       <td>794.268</td> <th>  Durbin-Watson:     </th>  <td>   2.152</td> \n",
       "</tr>\n",
       "<tr>\n",
       "  <th>Prob(Omnibus):</th> <td> 0.000</td>  <th>  Jarque-Bera (JB):  </th> <td>566396.863</td>\n",
       "</tr>\n",
       "<tr>\n",
       "  <th>Skew:</th>          <td>11.158</td>  <th>  Prob(JB):          </th>  <td>    0.00</td> \n",
       "</tr>\n",
       "<tr>\n",
       "  <th>Kurtosis:</th>      <td>177.547</td> <th>  Cond. No.          </th>  <td>5.63e+07</td> \n",
       "</tr>\n",
       "</table><br/><br/>Warnings:<br/>[1] Standard Errors assume that the covariance matrix of the errors is correctly specified.<br/>[2] The condition number is large, 5.63e+07. This might indicate that there are<br/>strong multicollinearity or other numerical problems."
      ],
      "text/plain": [
       "<class 'statsmodels.iolib.summary.Summary'>\n",
       "\"\"\"\n",
       "                            OLS Regression Results                            \n",
       "==============================================================================\n",
       "Dep. Variable:                 future   R-squared:                       0.467\n",
       "Model:                            OLS   Adj. R-squared:                  0.456\n",
       "Method:                 Least Squares   F-statistic:                     41.84\n",
       "Date:                Sat, 21 Mar 2020   Prob (F-statistic):           1.83e-53\n",
       "Time:                        10:54:02   Log-Likelihood:                -3959.3\n",
       "No. Observations:                 439   AIC:                             7939.\n",
       "Df Residuals:                     429   BIC:                             7980.\n",
       "Df Model:                           9                                         \n",
       "Covariance Type:            nonrobust                                         \n",
       "====================================================================================\n",
       "                       coef    std err          t      P>|t|      [0.025      0.975]\n",
       "------------------------------------------------------------------------------------\n",
       "Intercept          233.1055    205.580      1.134      0.257    -170.963     637.174\n",
       "followerCount     -3.19e-05   1.31e-05     -2.430      0.016   -5.77e-05    -6.1e-06\n",
       "followerMaxCount  6.286e-05    5.8e-05      1.083      0.279   -5.12e-05       0.000\n",
       "retweetCount        -0.0743      0.072     -1.031      0.303      -0.216       0.067\n",
       "tweetCount          -5.3792      2.237     -2.405      0.017      -9.775      -0.983\n",
       "hr                   4.2623     14.380      0.296      0.767     -24.002      32.527\n",
       "userMentions         0.1330      0.647      0.206      0.837      -1.138       1.404\n",
       "rankScore            1.4340      0.479      2.995      0.003       0.493       2.375\n",
       "hashTags            -0.6728      0.227     -2.960      0.003      -1.119      -0.226\n",
       "friendsCount         0.0014      0.000      5.587      0.000       0.001       0.002\n",
       "==============================================================================\n",
       "Omnibus:                      794.268   Durbin-Watson:                   2.152\n",
       "Prob(Omnibus):                  0.000   Jarque-Bera (JB):           566396.863\n",
       "Skew:                          11.158   Prob(JB):                         0.00\n",
       "Kurtosis:                     177.547   Cond. No.                     5.63e+07\n",
       "==============================================================================\n",
       "\n",
       "Warnings:\n",
       "[1] Standard Errors assume that the covariance matrix of the errors is correctly specified.\n",
       "[2] The condition number is large, 5.63e+07. This might indicate that there are\n",
       "strong multicollinearity or other numerical problems.\n",
       "\"\"\""
      ]
     },
     "execution_count": 69,
     "metadata": {},
     "output_type": "execute_result"
    }
   ],
   "source": [
    "model.summary()"
   ]
  },
  {
   "cell_type": "code",
   "execution_count": null,
   "metadata": {},
   "outputs": [],
   "source": []
  },
  {
   "cell_type": "code",
   "execution_count": 11,
   "metadata": {},
   "outputs": [],
   "source": [
    "#tweetdf_agg_group_before"
   ]
  },
  {
   "cell_type": "code",
   "execution_count": 13,
   "metadata": {},
   "outputs": [],
   "source": [
    "#window #1\n",
    "\n",
    "tweetdf_agg_group_between = tweetdf_agg[(tweetdf_agg['datePst'] >= '2015-02-01 08:00:00-0800') &\n",
    "                       (tweetdf_agg['datePst'] <= '2015-02-01 20:00:00-0800')].groupby(pd.Grouper(key='datePst',freq='5Min')).agg({\n",
    "        'followerCount':'sum',\n",
    "        'followerMaxCount':'max',\n",
    "        'retweetCount':'sum',\n",
    "        'tweetCount':'sum',\n",
    "        'hr':'max',\n",
    "        'userMentions':'sum',\n",
    "        'rankScore':'sum',\n",
    "        'hashTags':'sum',\n",
    "        'friendsCount':'sum'})\n",
    "tweetdf_agg_group_between['future'] = tweetdf_agg_group_between['tweetCount']\n",
    "tweetdf_agg_group_between.future = tweetdf_agg_group_between.future.shift(-1)"
   ]
  },
  {
   "cell_type": "code",
   "execution_count": 15,
   "metadata": {},
   "outputs": [
    {
     "name": "stdout",
     "output_type": "stream",
     "text": [
      "MSE is 12365455.931601226\n"
     ]
    }
   ],
   "source": [
    "model = ols(\"future ~ followerCount + followerMaxCount + retweetCount + tweetCount + hr + userMentions + rankScore + hashTags + friendsCount\", data=tweetdf_agg_group_between).fit()\n",
    "predict = model.predict(tweetdf_agg_group_between)\n",
    "print('MSE is {}'.format(metrics.mean_squared_error(tweetdf_agg_group_between['future'].replace(np.nan, 0).values, predict.values)))"
   ]
  },
  {
   "cell_type": "code",
   "execution_count": 16,
   "metadata": {},
   "outputs": [],
   "source": [
    "tweetdf_agg_group_between.to_csv('aggregated_data_between.csv')"
   ]
  },
  {
   "cell_type": "code",
   "execution_count": 17,
   "metadata": {},
   "outputs": [
    {
     "data": {
      "text/html": [
       "<table class=\"simpletable\">\n",
       "<caption>OLS Regression Results</caption>\n",
       "<tr>\n",
       "  <th>Dep. Variable:</th>         <td>future</td>      <th>  R-squared:         </th> <td>   0.895</td>\n",
       "</tr>\n",
       "<tr>\n",
       "  <th>Model:</th>                   <td>OLS</td>       <th>  Adj. R-squared:    </th> <td>   0.888</td>\n",
       "</tr>\n",
       "<tr>\n",
       "  <th>Method:</th>             <td>Least Squares</td>  <th>  F-statistic:       </th> <td>   125.8</td>\n",
       "</tr>\n",
       "<tr>\n",
       "  <th>Date:</th>             <td>Sat, 21 Mar 2020</td> <th>  Prob (F-statistic):</th> <td>1.40e-60</td>\n",
       "</tr>\n",
       "<tr>\n",
       "  <th>Time:</th>                 <td>11:06:03</td>     <th>  Log-Likelihood:    </th> <td> -1368.2</td>\n",
       "</tr>\n",
       "<tr>\n",
       "  <th>No. Observations:</th>      <td>   143</td>      <th>  AIC:               </th> <td>   2756.</td>\n",
       "</tr>\n",
       "<tr>\n",
       "  <th>Df Residuals:</th>          <td>   133</td>      <th>  BIC:               </th> <td>   2786.</td>\n",
       "</tr>\n",
       "<tr>\n",
       "  <th>Df Model:</th>              <td>     9</td>      <th>                     </th>     <td> </td>   \n",
       "</tr>\n",
       "<tr>\n",
       "  <th>Covariance Type:</th>      <td>nonrobust</td>    <th>                     </th>     <td> </td>   \n",
       "</tr>\n",
       "</table>\n",
       "<table class=\"simpletable\">\n",
       "<tr>\n",
       "          <td></td>            <th>coef</th>     <th>std err</th>      <th>t</th>      <th>P>|t|</th>  <th>[0.025</th>    <th>0.975]</th>  \n",
       "</tr>\n",
       "<tr>\n",
       "  <th>Intercept</th>        <td>-5475.0604</td> <td> 1647.565</td> <td>   -3.323</td> <td> 0.001</td> <td>-8733.881</td> <td>-2216.240</td>\n",
       "</tr>\n",
       "<tr>\n",
       "  <th>followerCount</th>    <td>-2.732e-05</td> <td> 1.52e-05</td> <td>   -1.803</td> <td> 0.074</td> <td>-5.73e-05</td> <td> 2.65e-06</td>\n",
       "</tr>\n",
       "<tr>\n",
       "  <th>followerMaxCount</th> <td> 6.061e-05</td> <td> 5.42e-05</td> <td>    1.119</td> <td> 0.265</td> <td>-4.65e-05</td> <td>    0.000</td>\n",
       "</tr>\n",
       "<tr>\n",
       "  <th>retweetCount</th>     <td>   -0.1046</td> <td>    0.025</td> <td>   -4.104</td> <td> 0.000</td> <td>   -0.155</td> <td>   -0.054</td>\n",
       "</tr>\n",
       "<tr>\n",
       "  <th>tweetCount</th>       <td>    3.1862</td> <td>    4.135</td> <td>    0.770</td> <td> 0.442</td> <td>   -4.993</td> <td>   11.365</td>\n",
       "</tr>\n",
       "<tr>\n",
       "  <th>hr</th>               <td>  715.1628</td> <td>  163.350</td> <td>    4.378</td> <td> 0.000</td> <td>  392.063</td> <td> 1038.262</td>\n",
       "</tr>\n",
       "<tr>\n",
       "  <th>userMentions</th>     <td>    0.3455</td> <td>    0.196</td> <td>    1.766</td> <td> 0.080</td> <td>   -0.042</td> <td>    0.733</td>\n",
       "</tr>\n",
       "<tr>\n",
       "  <th>rankScore</th>        <td>   -0.1683</td> <td>    0.823</td> <td>   -0.205</td> <td> 0.838</td> <td>   -1.795</td> <td>    1.459</td>\n",
       "</tr>\n",
       "<tr>\n",
       "  <th>hashTags</th>         <td>   -1.2333</td> <td>    0.290</td> <td>   -4.251</td> <td> 0.000</td> <td>   -1.807</td> <td>   -0.659</td>\n",
       "</tr>\n",
       "<tr>\n",
       "  <th>friendsCount</th>     <td>    0.0011</td> <td>    0.000</td> <td>    4.368</td> <td> 0.000</td> <td>    0.001</td> <td>    0.002</td>\n",
       "</tr>\n",
       "</table>\n",
       "<table class=\"simpletable\">\n",
       "<tr>\n",
       "  <th>Omnibus:</th>       <td>29.499</td> <th>  Durbin-Watson:     </th> <td>   1.951</td>\n",
       "</tr>\n",
       "<tr>\n",
       "  <th>Prob(Omnibus):</th> <td> 0.000</td> <th>  Jarque-Bera (JB):  </th> <td>  64.414</td>\n",
       "</tr>\n",
       "<tr>\n",
       "  <th>Skew:</th>          <td> 0.866</td> <th>  Prob(JB):          </th> <td>1.03e-14</td>\n",
       "</tr>\n",
       "<tr>\n",
       "  <th>Kurtosis:</th>      <td> 5.794</td> <th>  Cond. No.          </th> <td>6.62e+08</td>\n",
       "</tr>\n",
       "</table><br/><br/>Warnings:<br/>[1] Standard Errors assume that the covariance matrix of the errors is correctly specified.<br/>[2] The condition number is large, 6.62e+08. This might indicate that there are<br/>strong multicollinearity or other numerical problems."
      ],
      "text/plain": [
       "<class 'statsmodels.iolib.summary.Summary'>\n",
       "\"\"\"\n",
       "                            OLS Regression Results                            \n",
       "==============================================================================\n",
       "Dep. Variable:                 future   R-squared:                       0.895\n",
       "Model:                            OLS   Adj. R-squared:                  0.888\n",
       "Method:                 Least Squares   F-statistic:                     125.8\n",
       "Date:                Sat, 21 Mar 2020   Prob (F-statistic):           1.40e-60\n",
       "Time:                        11:06:03   Log-Likelihood:                -1368.2\n",
       "No. Observations:                 143   AIC:                             2756.\n",
       "Df Residuals:                     133   BIC:                             2786.\n",
       "Df Model:                           9                                         \n",
       "Covariance Type:            nonrobust                                         \n",
       "====================================================================================\n",
       "                       coef    std err          t      P>|t|      [0.025      0.975]\n",
       "------------------------------------------------------------------------------------\n",
       "Intercept        -5475.0604   1647.565     -3.323      0.001   -8733.881   -2216.240\n",
       "followerCount    -2.732e-05   1.52e-05     -1.803      0.074   -5.73e-05    2.65e-06\n",
       "followerMaxCount  6.061e-05   5.42e-05      1.119      0.265   -4.65e-05       0.000\n",
       "retweetCount        -0.1046      0.025     -4.104      0.000      -0.155      -0.054\n",
       "tweetCount           3.1862      4.135      0.770      0.442      -4.993      11.365\n",
       "hr                 715.1628    163.350      4.378      0.000     392.063    1038.262\n",
       "userMentions         0.3455      0.196      1.766      0.080      -0.042       0.733\n",
       "rankScore           -0.1683      0.823     -0.205      0.838      -1.795       1.459\n",
       "hashTags            -1.2333      0.290     -4.251      0.000      -1.807      -0.659\n",
       "friendsCount         0.0011      0.000      4.368      0.000       0.001       0.002\n",
       "==============================================================================\n",
       "Omnibus:                       29.499   Durbin-Watson:                   1.951\n",
       "Prob(Omnibus):                  0.000   Jarque-Bera (JB):               64.414\n",
       "Skew:                           0.866   Prob(JB):                     1.03e-14\n",
       "Kurtosis:                       5.794   Cond. No.                     6.62e+08\n",
       "==============================================================================\n",
       "\n",
       "Warnings:\n",
       "[1] Standard Errors assume that the covariance matrix of the errors is correctly specified.\n",
       "[2] The condition number is large, 6.62e+08. This might indicate that there are\n",
       "strong multicollinearity or other numerical problems.\n",
       "\"\"\""
      ]
     },
     "execution_count": 17,
     "metadata": {},
     "output_type": "execute_result"
    }
   ],
   "source": [
    "model.summary()"
   ]
  },
  {
   "cell_type": "code",
   "execution_count": 18,
   "metadata": {},
   "outputs": [],
   "source": [
    "tweetdf_agg_group_after = tweetdf_agg[(tweetdf_agg['datePst'] > '2015-02-01 20:00:00-0800')].groupby(pd.Grouper(key='datePst',freq='60Min')).agg({\n",
    "        'followerCount':'sum',\n",
    "        'followerMaxCount':'max',\n",
    "        'retweetCount':'sum',\n",
    "        'tweetCount':'sum',\n",
    "        'hr':'max',\n",
    "        'userMentions':'sum',\n",
    "        'rankScore':'sum',\n",
    "        'hashTags':'sum',\n",
    "        'friendsCount':'sum'})\n",
    "tweetdf_agg_group_after['future'] = tweetdf_agg_group_after['tweetCount']\n",
    "tweetdf_agg_group_after.future = tweetdf_agg_group_after.future.shift(-1)"
   ]
  },
  {
   "cell_type": "code",
   "execution_count": 20,
   "metadata": {},
   "outputs": [
    {
     "name": "stdout",
     "output_type": "stream",
     "text": [
      "MSE is 344440.4261445609\n"
     ]
    }
   ],
   "source": [
    "model = ols(\"future ~ followerCount + followerMaxCount + retweetCount + tweetCount + hr + userMentions + rankScore + hashTags + friendsCount\", data=tweetdf_agg_group_after).fit()\n",
    "predict = model.predict(tweetdf_agg_group_after)\n",
    "print('MSE is {}'.format(metrics.mean_squared_error(tweetdf_agg_group_after['future'].replace(np.nan, 0).values, predict.values)))"
   ]
  },
  {
   "cell_type": "code",
   "execution_count": 23,
   "metadata": {},
   "outputs": [],
   "source": [
    "tweetdf_agg_group_after.to_csv('aggregated_data_after.csv')"
   ]
  },
  {
   "cell_type": "code",
   "execution_count": 24,
   "metadata": {},
   "outputs": [
    {
     "data": {
      "text/html": [
       "<table class=\"simpletable\">\n",
       "<caption>OLS Regression Results</caption>\n",
       "<tr>\n",
       "  <th>Dep. Variable:</th>         <td>future</td>      <th>  R-squared:         </th> <td>   0.892</td>\n",
       "</tr>\n",
       "<tr>\n",
       "  <th>Model:</th>                   <td>OLS</td>       <th>  Adj. R-squared:    </th> <td>   0.885</td>\n",
       "</tr>\n",
       "<tr>\n",
       "  <th>Method:</th>             <td>Least Squares</td>  <th>  F-statistic:       </th> <td>   114.4</td>\n",
       "</tr>\n",
       "<tr>\n",
       "  <th>Date:</th>             <td>Sat, 21 Mar 2020</td> <th>  Prob (F-statistic):</th> <td>1.11e-55</td>\n",
       "</tr>\n",
       "<tr>\n",
       "  <th>Time:</th>                 <td>11:07:57</td>     <th>  Log-Likelihood:    </th> <td> -1044.7</td>\n",
       "</tr>\n",
       "<tr>\n",
       "  <th>No. Observations:</th>      <td>   134</td>      <th>  AIC:               </th> <td>   2109.</td>\n",
       "</tr>\n",
       "<tr>\n",
       "  <th>Df Residuals:</th>          <td>   124</td>      <th>  BIC:               </th> <td>   2138.</td>\n",
       "</tr>\n",
       "<tr>\n",
       "  <th>Df Model:</th>              <td>     9</td>      <th>                     </th>     <td> </td>   \n",
       "</tr>\n",
       "<tr>\n",
       "  <th>Covariance Type:</th>      <td>nonrobust</td>    <th>                     </th>     <td> </td>   \n",
       "</tr>\n",
       "</table>\n",
       "<table class=\"simpletable\">\n",
       "<tr>\n",
       "          <td></td>            <th>coef</th>     <th>std err</th>      <th>t</th>      <th>P>|t|</th>  <th>[0.025</th>    <th>0.975]</th>  \n",
       "</tr>\n",
       "<tr>\n",
       "  <th>Intercept</th>        <td>  464.0657</td> <td>  133.978</td> <td>    3.464</td> <td> 0.001</td> <td>  198.885</td> <td>  729.247</td>\n",
       "</tr>\n",
       "<tr>\n",
       "  <th>followerCount</th>    <td> 2.138e-05</td> <td> 6.49e-06</td> <td>    3.296</td> <td> 0.001</td> <td> 8.54e-06</td> <td> 3.42e-05</td>\n",
       "</tr>\n",
       "<tr>\n",
       "  <th>followerMaxCount</th> <td> 1.318e-05</td> <td> 2.01e-05</td> <td>    0.656</td> <td> 0.513</td> <td>-2.66e-05</td> <td> 5.29e-05</td>\n",
       "</tr>\n",
       "<tr>\n",
       "  <th>retweetCount</th>     <td>   -0.0399</td> <td>    0.010</td> <td>   -4.043</td> <td> 0.000</td> <td>   -0.059</td> <td>   -0.020</td>\n",
       "</tr>\n",
       "<tr>\n",
       "  <th>tweetCount</th>       <td>   -9.9542</td> <td>    1.866</td> <td>   -5.335</td> <td> 0.000</td> <td>  -13.647</td> <td>   -6.261</td>\n",
       "</tr>\n",
       "<tr>\n",
       "  <th>hr</th>               <td>   -7.7186</td> <td>    8.129</td> <td>   -0.949</td> <td> 0.344</td> <td>  -23.808</td> <td>    8.371</td>\n",
       "</tr>\n",
       "<tr>\n",
       "  <th>userMentions</th>     <td>    0.8729</td> <td>    0.336</td> <td>    2.595</td> <td> 0.011</td> <td>    0.207</td> <td>    1.539</td>\n",
       "</tr>\n",
       "<tr>\n",
       "  <th>rankScore</th>        <td>    2.0412</td> <td>    0.372</td> <td>    5.490</td> <td> 0.000</td> <td>    1.305</td> <td>    2.777</td>\n",
       "</tr>\n",
       "<tr>\n",
       "  <th>hashTags</th>         <td>    0.4133</td> <td>    0.176</td> <td>    2.345</td> <td> 0.021</td> <td>    0.064</td> <td>    0.762</td>\n",
       "</tr>\n",
       "<tr>\n",
       "  <th>friendsCount</th>     <td>   -0.0001</td> <td>    0.000</td> <td>   -1.105</td> <td> 0.271</td> <td>   -0.000</td> <td> 9.94e-05</td>\n",
       "</tr>\n",
       "</table>\n",
       "<table class=\"simpletable\">\n",
       "<tr>\n",
       "  <th>Omnibus:</th>       <td>107.445</td> <th>  Durbin-Watson:     </th> <td>   2.221</td>\n",
       "</tr>\n",
       "<tr>\n",
       "  <th>Prob(Omnibus):</th> <td> 0.000</td>  <th>  Jarque-Bera (JB):  </th> <td>1682.505</td>\n",
       "</tr>\n",
       "<tr>\n",
       "  <th>Skew:</th>          <td> 2.540</td>  <th>  Prob(JB):          </th> <td>    0.00</td>\n",
       "</tr>\n",
       "<tr>\n",
       "  <th>Kurtosis:</th>      <td>19.599</td>  <th>  Cond. No.          </th> <td>1.04e+08</td>\n",
       "</tr>\n",
       "</table><br/><br/>Warnings:<br/>[1] Standard Errors assume that the covariance matrix of the errors is correctly specified.<br/>[2] The condition number is large, 1.04e+08. This might indicate that there are<br/>strong multicollinearity or other numerical problems."
      ],
      "text/plain": [
       "<class 'statsmodels.iolib.summary.Summary'>\n",
       "\"\"\"\n",
       "                            OLS Regression Results                            \n",
       "==============================================================================\n",
       "Dep. Variable:                 future   R-squared:                       0.892\n",
       "Model:                            OLS   Adj. R-squared:                  0.885\n",
       "Method:                 Least Squares   F-statistic:                     114.4\n",
       "Date:                Sat, 21 Mar 2020   Prob (F-statistic):           1.11e-55\n",
       "Time:                        11:07:57   Log-Likelihood:                -1044.7\n",
       "No. Observations:                 134   AIC:                             2109.\n",
       "Df Residuals:                     124   BIC:                             2138.\n",
       "Df Model:                           9                                         \n",
       "Covariance Type:            nonrobust                                         \n",
       "====================================================================================\n",
       "                       coef    std err          t      P>|t|      [0.025      0.975]\n",
       "------------------------------------------------------------------------------------\n",
       "Intercept          464.0657    133.978      3.464      0.001     198.885     729.247\n",
       "followerCount     2.138e-05   6.49e-06      3.296      0.001    8.54e-06    3.42e-05\n",
       "followerMaxCount  1.318e-05   2.01e-05      0.656      0.513   -2.66e-05    5.29e-05\n",
       "retweetCount        -0.0399      0.010     -4.043      0.000      -0.059      -0.020\n",
       "tweetCount          -9.9542      1.866     -5.335      0.000     -13.647      -6.261\n",
       "hr                  -7.7186      8.129     -0.949      0.344     -23.808       8.371\n",
       "userMentions         0.8729      0.336      2.595      0.011       0.207       1.539\n",
       "rankScore            2.0412      0.372      5.490      0.000       1.305       2.777\n",
       "hashTags             0.4133      0.176      2.345      0.021       0.064       0.762\n",
       "friendsCount        -0.0001      0.000     -1.105      0.271      -0.000    9.94e-05\n",
       "==============================================================================\n",
       "Omnibus:                      107.445   Durbin-Watson:                   2.221\n",
       "Prob(Omnibus):                  0.000   Jarque-Bera (JB):             1682.505\n",
       "Skew:                           2.540   Prob(JB):                         0.00\n",
       "Kurtosis:                      19.599   Cond. No.                     1.04e+08\n",
       "==============================================================================\n",
       "\n",
       "Warnings:\n",
       "[1] Standard Errors assume that the covariance matrix of the errors is correctly specified.\n",
       "[2] The condition number is large, 1.04e+08. This might indicate that there are\n",
       "strong multicollinearity or other numerical problems.\n",
       "\"\"\""
      ]
     },
     "execution_count": 24,
     "metadata": {},
     "output_type": "execute_result"
    }
   ],
   "source": [
    "model.summary()"
   ]
  },
  {
   "cell_type": "code",
   "execution_count": null,
   "metadata": {},
   "outputs": [],
   "source": []
  },
  {
   "cell_type": "code",
   "execution_count": null,
   "metadata": {},
   "outputs": [],
   "source": []
  },
  {
   "cell_type": "code",
   "execution_count": null,
   "metadata": {},
   "outputs": [],
   "source": []
  },
  {
   "cell_type": "code",
   "execution_count": null,
   "metadata": {},
   "outputs": [],
   "source": []
  },
  {
   "cell_type": "code",
   "execution_count": null,
   "metadata": {},
   "outputs": [],
   "source": []
  },
  {
   "cell_type": "code",
   "execution_count": 33,
   "metadata": {},
   "outputs": [],
   "source": [
    "tweetdf_agg_group_all = tweetdf_agg.groupby(pd.Grouper(key='datePst',freq='60Min')).agg({\n",
    "        'followerCount':'sum',\n",
    "        'followerMaxCount':'max',\n",
    "        'retweetCount':'sum',\n",
    "        'tweetCount':'sum',\n",
    "        'hr':'max',\n",
    "        'userMentions':'sum',\n",
    "        'rankScore':'sum',\n",
    "        'hashTags':'sum',\n",
    "        'friendsCount':'sum'})\n",
    "tweetdf_agg_group_all['future'] = tweetdf_agg_group_all['tweetCount']\n",
    "tweetdf_agg_group_all.future = tweetdf_agg_group_all.future.shift(-1)"
   ]
  },
  {
   "cell_type": "code",
   "execution_count": 34,
   "metadata": {},
   "outputs": [],
   "source": [
    "tweetdf_agg_group_all.to_csv('aggregated_data_all.csv')"
   ]
  },
  {
   "cell_type": "markdown",
   "metadata": {},
   "source": [
    "## Q8:\n",
    "Use grid search to find the best parameter set for RandomForestRegressor and\n",
    "GradientBoostingRegressor respectively. Use the following param grid"
   ]
  },
  {
   "cell_type": "code",
   "execution_count": 14,
   "metadata": {},
   "outputs": [],
   "source": [
    "def gridsearch_all(reg, param_grid,scale):\n",
    "    grid = GridSearchCV(reg, param_grid=param_grid,\n",
    "                        cv=KFold(5, shuffle=True, random_state=42),\n",
    "                        scoring='neg_mean_squared_error', n_jobs=-3)\n",
    "    summary = []\n",
    "    \n",
    "    data_agg = pd.read_csv('aggregated_data_all.csv')\n",
    "    y = np.nan_to_num(data_agg['future'])\n",
    "    X = np.nan_to_num(data_agg[['followerCount','followerMaxCount','retweetCount','tweetCount','hr','userMentions','rankScore','hashTags','friendsCount']])\n",
    "        \n",
    "    if scale == True:\n",
    "        scaler = StandardScaler()\n",
    "        X_scale = scaler.fit_transform(X)\n",
    "    else:\n",
    "        X_scale = X\n",
    "    \n",
    "    grid.fit(X_scale, y)\n",
    "    results = grid.cv_results_\n",
    "    results_df = pd.DataFrame({'_'.join(['mean_test_score', 'all']): -results['mean_test_score'],'_'.join(['params', 'all']): results['params'],'_'.join(['rank', 'all']): results['rank_test_score']}).sort_values(by='_'.join(['rank', 'all'])).reset_index(drop=True)\n",
    "    summary.append(results_df)\n",
    "    summary_df = pd.concat(summary, axis=1)\n",
    "    return summary_df"
   ]
  },
  {
   "cell_type": "code",
   "execution_count": 149,
   "metadata": {},
   "outputs": [],
   "source": [
    "# %% Q8: random forest, grid search, this code takes 2 hours using 10CPUS\n",
    "param_grid = {'max_depth': [10, 30, 50, 70, 100,200, None],\n",
    "                  'max_features': ['auto', 'sqrt'],\n",
    "                  'min_samples_leaf': [1, 2,3, 4],\n",
    "                  'min_samples_split': [2, 5, 10],\n",
    "                  'n_estimators': np.arange(200,2000,200)}\n",
    "\n",
    "reg = RandomForestRegressor()\n",
    "summary_df_q8 = gridsearch_all(reg, param_grid,scale = False)"
   ]
  },
  {
   "cell_type": "code",
   "execution_count": 150,
   "metadata": {},
   "outputs": [
    {
     "data": {
      "text/html": [
       "<div>\n",
       "<style scoped>\n",
       "    .dataframe tbody tr th:only-of-type {\n",
       "        vertical-align: middle;\n",
       "    }\n",
       "\n",
       "    .dataframe tbody tr th {\n",
       "        vertical-align: top;\n",
       "    }\n",
       "\n",
       "    .dataframe thead th {\n",
       "        text-align: right;\n",
       "    }\n",
       "</style>\n",
       "<table border=\"1\" class=\"dataframe\">\n",
       "  <thead>\n",
       "    <tr style=\"text-align: right;\">\n",
       "      <th></th>\n",
       "      <th>mean_test_score_all</th>\n",
       "      <th>params_all</th>\n",
       "      <th>rank_all</th>\n",
       "    </tr>\n",
       "  </thead>\n",
       "  <tbody>\n",
       "    <tr>\n",
       "      <th>0</th>\n",
       "      <td>1.936304e+08</td>\n",
       "      <td>{'max_depth': 30, 'max_features': 'auto', 'min...</td>\n",
       "      <td>1</td>\n",
       "    </tr>\n",
       "    <tr>\n",
       "      <th>1</th>\n",
       "      <td>1.972456e+08</td>\n",
       "      <td>{'max_depth': 70, 'max_features': 'auto', 'min...</td>\n",
       "      <td>2</td>\n",
       "    </tr>\n",
       "    <tr>\n",
       "      <th>2</th>\n",
       "      <td>1.981726e+08</td>\n",
       "      <td>{'max_depth': 30, 'max_features': 'auto', 'min...</td>\n",
       "      <td>3</td>\n",
       "    </tr>\n",
       "    <tr>\n",
       "      <th>3</th>\n",
       "      <td>1.983259e+08</td>\n",
       "      <td>{'max_depth': 70, 'max_features': 'auto', 'min...</td>\n",
       "      <td>4</td>\n",
       "    </tr>\n",
       "    <tr>\n",
       "      <th>4</th>\n",
       "      <td>1.986180e+08</td>\n",
       "      <td>{'max_depth': 200, 'max_features': 'auto', 'mi...</td>\n",
       "      <td>5</td>\n",
       "    </tr>\n",
       "  </tbody>\n",
       "</table>\n",
       "</div>"
      ],
      "text/plain": [
       "   mean_test_score_all                                         params_all  \\\n",
       "0         1.936304e+08  {'max_depth': 30, 'max_features': 'auto', 'min...   \n",
       "1         1.972456e+08  {'max_depth': 70, 'max_features': 'auto', 'min...   \n",
       "2         1.981726e+08  {'max_depth': 30, 'max_features': 'auto', 'min...   \n",
       "3         1.983259e+08  {'max_depth': 70, 'max_features': 'auto', 'min...   \n",
       "4         1.986180e+08  {'max_depth': 200, 'max_features': 'auto', 'mi...   \n",
       "\n",
       "   rank_all  \n",
       "0         1  \n",
       "1         2  \n",
       "2         3  \n",
       "3         4  \n",
       "4         5  "
      ]
     },
     "execution_count": 150,
     "metadata": {},
     "output_type": "execute_result"
    }
   ],
   "source": [
    "summary_df_q8.head()"
   ]
  },
  {
   "cell_type": "code",
   "execution_count": 153,
   "metadata": {},
   "outputs": [],
   "source": [
    "summary_df_q8.to_csv('q8_results_rf.csv')"
   ]
  },
  {
   "cell_type": "code",
   "execution_count": 55,
   "metadata": {},
   "outputs": [],
   "source": [
    "summary_df_q8.to_csv('q8_results.csv')"
   ]
  },
  {
   "cell_type": "code",
   "execution_count": 147,
   "metadata": {},
   "outputs": [
    {
     "ename": "NameError",
     "evalue": "name 'summary_df_q8' is not defined",
     "output_type": "error",
     "traceback": [
      "\u001b[1;31m---------------------------------------------------------------------------\u001b[0m",
      "\u001b[1;31mNameError\u001b[0m                                 Traceback (most recent call last)",
      "\u001b[1;32m<ipython-input-147-c2a58aeaed3a>\u001b[0m in \u001b[0;36m<module>\u001b[1;34m\u001b[0m\n\u001b[0;32m      8\u001b[0m \u001b[0mreg\u001b[0m \u001b[1;33m=\u001b[0m \u001b[0mGradientBoostingRegressor\u001b[0m\u001b[1;33m(\u001b[0m\u001b[1;33m)\u001b[0m\u001b[1;33m\u001b[0m\u001b[1;33m\u001b[0m\u001b[0m\n\u001b[0;32m      9\u001b[0m \u001b[0msummary_df_q8_gb\u001b[0m \u001b[1;33m=\u001b[0m \u001b[0mgridsearch_all\u001b[0m\u001b[1;33m(\u001b[0m\u001b[0mreg\u001b[0m\u001b[1;33m,\u001b[0m \u001b[0mparam_grid\u001b[0m\u001b[1;33m,\u001b[0m\u001b[0mscale\u001b[0m \u001b[1;33m=\u001b[0m \u001b[1;32mFalse\u001b[0m\u001b[1;33m)\u001b[0m\u001b[1;33m\u001b[0m\u001b[1;33m\u001b[0m\u001b[0m\n\u001b[1;32m---> 10\u001b[1;33m \u001b[0mprint\u001b[0m\u001b[1;33m(\u001b[0m\u001b[0msummary_df_q8\u001b[0m\u001b[1;33m.\u001b[0m\u001b[0mhead\u001b[0m\u001b[1;33m(\u001b[0m\u001b[1;33m)\u001b[0m\u001b[1;33m)\u001b[0m\u001b[1;33m\u001b[0m\u001b[1;33m\u001b[0m\u001b[0m\n\u001b[0m\u001b[0;32m     11\u001b[0m \u001b[0msummary_df_q8_gb\u001b[0m\u001b[1;33m.\u001b[0m\u001b[0mto_csv\u001b[0m\u001b[1;33m(\u001b[0m\u001b[1;34m'q8_results_gb.csv'\u001b[0m\u001b[1;33m)\u001b[0m\u001b[1;33m\u001b[0m\u001b[1;33m\u001b[0m\u001b[0m\n",
      "\u001b[1;31mNameError\u001b[0m: name 'summary_df_q8' is not defined"
     ]
    }
   ],
   "source": [
    "# Q8: GradientBoostingRegressor, grid search, this code takes 2 hours using 10CPUS\n",
    "param_grid = {'max_depth': [10, 30, 50, 70, 100,200, None],\n",
    "                  'max_features': ['auto', 'sqrt'],\n",
    "                  'min_samples_leaf': [1, 2,3, 4],\n",
    "                  'min_samples_split': [2, 5, 10],\n",
    "                  'n_estimators': np.arange(200,2000,200)}\n",
    "\n",
    "reg = GradientBoostingRegressor()\n",
    "summary_df_q8_gb = gridsearch_all(reg, param_grid,scale = False)"
   ]
  },
  {
   "cell_type": "code",
   "execution_count": 148,
   "metadata": {},
   "outputs": [
    {
     "name": "stdout",
     "output_type": "stream",
     "text": [
      "   mean_test_score_all                                         params_all  \\\n",
      "0         1.904649e+08  {'max_depth': 10, 'max_features': 'auto', 'min...   \n",
      "1         1.946441e+08  {'max_depth': 50, 'max_features': 'auto', 'min...   \n",
      "2         1.993674e+08  {'max_depth': 100, 'max_features': 'auto', 'mi...   \n",
      "3         2.008733e+08  {'max_depth': 200, 'max_features': 'auto', 'mi...   \n",
      "4         2.012602e+08  {'max_depth': 70, 'max_features': 'auto', 'min...   \n",
      "\n",
      "   rank_all  \n",
      "0         1  \n",
      "1         2  \n",
      "2         3  \n",
      "3         4  \n",
      "4         5  \n"
     ]
    }
   ],
   "source": [
    "print(summary_df_q8_gb.head())\n",
    "summary_df_q8_gb.to_csv('q8_results_gb.csv')"
   ]
  },
  {
   "cell_type": "markdown",
   "metadata": {},
   "source": [
    "## QUESTION 9: \n",
    "Compare the best estimator you found in the grid search with OLS on the entire\n",
    "dataset."
   ]
  },
  {
   "cell_type": "code",
   "execution_count": 158,
   "metadata": {},
   "outputs": [
    {
     "name": "stdout",
     "output_type": "stream",
     "text": [
      "MSE is 104287407.87131238\n"
     ]
    }
   ],
   "source": [
    "model = ols(\"future ~ followerCount + followerMaxCount + retweetCount + tweetCount + hr + userMentions + rankScore + hashTags + friendsCount\", data=tweetdf_agg_group_all).fit()\n",
    "predict = model.predict(tweetdf_agg_group_all)\n",
    "print('MSE is {}'.format(metrics.mean_squared_error(tweetdf_agg_group_all['future'].replace(np.nan, 0).values, predict.values)))"
   ]
  },
  {
   "cell_type": "code",
   "execution_count": 166,
   "metadata": {},
   "outputs": [
    {
     "name": "stdout",
     "output_type": "stream",
     "text": [
      "54910229.942220435\n"
     ]
    }
   ],
   "source": [
    "data_agg = pd.read_csv('aggregated_data_all.csv')\n",
    "y = np.nan_to_num(data_agg['future'])\n",
    "X = np.nan_to_num(data_agg[['followerCount','followerMaxCount','retweetCount','tweetCount','hr','userMentions','rankScore','hashTags','friendsCount']])\n",
    "\n",
    "reg = RandomForestRegressor(max_depth = 30,max_features = 'auto',min_samples_leaf= 1, min_samples_split = 5, n_estimators = 200)\n",
    "reg.fit(X, y)\n",
    "print(metrics.mean_squared_error(y, reg.predict(X)))"
   ]
  },
  {
   "cell_type": "markdown",
   "metadata": {},
   "source": [
    "## QUESTION 10: \n",
    "For each time period described in Question 6, perform the same grid search\n",
    "above for GradientBoostingRegressor (with corresponding time window length). Does the cross-\n",
    "validation test error change? Are the best parameter set you find in each period agree with those\n",
    "you found above?"
   ]
  },
  {
   "cell_type": "code",
   "execution_count": 140,
   "metadata": {},
   "outputs": [],
   "source": [
    "def gridsearch_periods(reg, param_grid,scale,window_6X):\n",
    "    grid = GridSearchCV(reg, param_grid=param_grid,\n",
    "                        cv=KFold(5, shuffle=True, random_state=42),\n",
    "                        scoring='neg_mean_squared_error', n_jobs=-3)\n",
    "    summary = []\n",
    "    for i, period in enumerate(['before', 'between', 'after']):\n",
    "        if window_6X == False:\n",
    "            data_agg = pd.read_csv('aggregated_data_{}.csv'.format(period))\n",
    "        else:\n",
    "            data_agg = pd.read_csv('aggregated_data_6X_{}.csv'.format(period))\n",
    "            \n",
    "        y = np.nan_to_num(data_agg['future'])\n",
    "        X = np.nan_to_num(data_agg[['followerCount','followerMaxCount','retweetCount','tweetCount','hr','userMentions','rankScore','hashTags','friendsCount']])\n",
    "            \n",
    "        if scale == True:\n",
    "            scaler = StandardScaler()\n",
    "            X_scale = scaler.fit_transform(X)\n",
    "        else:\n",
    "            X_scale = X\n",
    "            \n",
    "        grid.fit(X_scale, y)\n",
    "        results = grid.cv_results_\n",
    "        results_df = pd.DataFrame(\n",
    "            {'_'.join(['mean_test_score', period]): -results['mean_test_score'],\n",
    "             '_'.join(['params', period]): results['params'],\n",
    "             '_'.join(['rank', period]): results['rank_test_score']\n",
    "             }).sort_values(by='_'.join(['rank', period])\n",
    "                            ).reset_index(drop=True)\n",
    "        summary.append(results_df)\n",
    "    summary_df = pd.concat(summary, axis=1)\n",
    "    return summary_df"
   ]
  },
  {
   "cell_type": "code",
   "execution_count": null,
   "metadata": {},
   "outputs": [],
   "source": [
    "# %% Q10: random forest, grid search, this code takes 1.5 hours using 10CPUS\n",
    "param_grid = {'max_depth': [10, 30, 50, 70, 100,200, None],\n",
    "                  'max_features': ['auto', 'sqrt'],\n",
    "                  'min_samples_leaf': [1, 2,3, 4],\n",
    "                  'min_samples_split': [2, 5, 10],\n",
    "                  'n_estimators': np.arange(200,2000,200)}\n",
    "\n",
    "reg_rf = RandomForestRegressor()\n",
    "summary_df_rf_q10 = gridsearch_periods(reg_rf, param_grid,scale = False, window_6X = False)\n",
    "\n",
    "reg_gb = GradientBoostingRegressor()\n",
    "summary_df_gb_q10 = gridsearch_periods(reg_gb, param_grid,scale = False, window_6X = False)\n",
    "\n",
    "\n",
    "summary_df_rf_q10.to_csv('Q10_summary_df_rf.csv')\n",
    "summary_df_gb_q10.to_csv('Q10_summary_df_gb.csv')"
   ]
  },
  {
   "cell_type": "code",
   "execution_count": 41,
   "metadata": {},
   "outputs": [
    {
     "data": {
      "text/html": [
       "<div>\n",
       "<style scoped>\n",
       "    .dataframe tbody tr th:only-of-type {\n",
       "        vertical-align: middle;\n",
       "    }\n",
       "\n",
       "    .dataframe tbody tr th {\n",
       "        vertical-align: top;\n",
       "    }\n",
       "\n",
       "    .dataframe thead th {\n",
       "        text-align: right;\n",
       "    }\n",
       "</style>\n",
       "<table border=\"1\" class=\"dataframe\">\n",
       "  <thead>\n",
       "    <tr style=\"text-align: right;\">\n",
       "      <th></th>\n",
       "      <th>mean_test_score_before</th>\n",
       "      <th>params_before</th>\n",
       "      <th>rank_before</th>\n",
       "      <th>mean_test_score_between</th>\n",
       "      <th>params_between</th>\n",
       "      <th>rank_between</th>\n",
       "      <th>mean_test_score_after</th>\n",
       "      <th>params_after</th>\n",
       "      <th>rank_after</th>\n",
       "    </tr>\n",
       "  </thead>\n",
       "  <tbody>\n",
       "    <tr>\n",
       "      <th>0</th>\n",
       "      <td>4.369976e+06</td>\n",
       "      <td>{'max_depth': None, 'max_features': 'auto', 'm...</td>\n",
       "      <td>1</td>\n",
       "      <td>2.033652e+07</td>\n",
       "      <td>{'max_depth': 200, 'max_features': 'sqrt', 'mi...</td>\n",
       "      <td>1</td>\n",
       "      <td>403388.702594</td>\n",
       "      <td>{'max_depth': 70, 'max_features': 'sqrt', 'min...</td>\n",
       "      <td>1</td>\n",
       "    </tr>\n",
       "    <tr>\n",
       "      <th>1</th>\n",
       "      <td>4.370755e+06</td>\n",
       "      <td>{'max_depth': 50, 'max_features': 'sqrt', 'min...</td>\n",
       "      <td>2</td>\n",
       "      <td>2.064284e+07</td>\n",
       "      <td>{'max_depth': 10, 'max_features': 'sqrt', 'min...</td>\n",
       "      <td>2</td>\n",
       "      <td>403679.783918</td>\n",
       "      <td>{'max_depth': 200, 'max_features': 'sqrt', 'mi...</td>\n",
       "      <td>2</td>\n",
       "    </tr>\n",
       "    <tr>\n",
       "      <th>2</th>\n",
       "      <td>4.374846e+06</td>\n",
       "      <td>{'max_depth': 200, 'max_features': 'auto', 'mi...</td>\n",
       "      <td>3</td>\n",
       "      <td>2.131849e+07</td>\n",
       "      <td>{'max_depth': 10, 'max_features': 'sqrt', 'min...</td>\n",
       "      <td>3</td>\n",
       "      <td>404690.363256</td>\n",
       "      <td>{'max_depth': 100, 'max_features': 'sqrt', 'mi...</td>\n",
       "      <td>3</td>\n",
       "    </tr>\n",
       "    <tr>\n",
       "      <th>3</th>\n",
       "      <td>4.410523e+06</td>\n",
       "      <td>{'max_depth': 200, 'max_features': 'auto', 'mi...</td>\n",
       "      <td>4</td>\n",
       "      <td>2.142775e+07</td>\n",
       "      <td>{'max_depth': None, 'max_features': 'sqrt', 'm...</td>\n",
       "      <td>4</td>\n",
       "      <td>405921.156079</td>\n",
       "      <td>{'max_depth': 200, 'max_features': 'sqrt', 'mi...</td>\n",
       "      <td>4</td>\n",
       "    </tr>\n",
       "    <tr>\n",
       "      <th>4</th>\n",
       "      <td>4.428094e+06</td>\n",
       "      <td>{'max_depth': 70, 'max_features': 'auto', 'min...</td>\n",
       "      <td>5</td>\n",
       "      <td>2.144853e+07</td>\n",
       "      <td>{'max_depth': 200, 'max_features': 'sqrt', 'mi...</td>\n",
       "      <td>5</td>\n",
       "      <td>406637.430664</td>\n",
       "      <td>{'max_depth': 30, 'max_features': 'sqrt', 'min...</td>\n",
       "      <td>5</td>\n",
       "    </tr>\n",
       "  </tbody>\n",
       "</table>\n",
       "</div>"
      ],
      "text/plain": [
       "   mean_test_score_before                                      params_before  \\\n",
       "0            4.369976e+06  {'max_depth': None, 'max_features': 'auto', 'm...   \n",
       "1            4.370755e+06  {'max_depth': 50, 'max_features': 'sqrt', 'min...   \n",
       "2            4.374846e+06  {'max_depth': 200, 'max_features': 'auto', 'mi...   \n",
       "3            4.410523e+06  {'max_depth': 200, 'max_features': 'auto', 'mi...   \n",
       "4            4.428094e+06  {'max_depth': 70, 'max_features': 'auto', 'min...   \n",
       "\n",
       "   rank_before  mean_test_score_between  \\\n",
       "0            1             2.033652e+07   \n",
       "1            2             2.064284e+07   \n",
       "2            3             2.131849e+07   \n",
       "3            4             2.142775e+07   \n",
       "4            5             2.144853e+07   \n",
       "\n",
       "                                      params_between  rank_between  \\\n",
       "0  {'max_depth': 200, 'max_features': 'sqrt', 'mi...             1   \n",
       "1  {'max_depth': 10, 'max_features': 'sqrt', 'min...             2   \n",
       "2  {'max_depth': 10, 'max_features': 'sqrt', 'min...             3   \n",
       "3  {'max_depth': None, 'max_features': 'sqrt', 'm...             4   \n",
       "4  {'max_depth': 200, 'max_features': 'sqrt', 'mi...             5   \n",
       "\n",
       "   mean_test_score_after                                       params_after  \\\n",
       "0          403388.702594  {'max_depth': 70, 'max_features': 'sqrt', 'min...   \n",
       "1          403679.783918  {'max_depth': 200, 'max_features': 'sqrt', 'mi...   \n",
       "2          404690.363256  {'max_depth': 100, 'max_features': 'sqrt', 'mi...   \n",
       "3          405921.156079  {'max_depth': 200, 'max_features': 'sqrt', 'mi...   \n",
       "4          406637.430664  {'max_depth': 30, 'max_features': 'sqrt', 'min...   \n",
       "\n",
       "   rank_after  \n",
       "0           1  \n",
       "1           2  \n",
       "2           3  \n",
       "3           4  \n",
       "4           5  "
      ]
     },
     "execution_count": 41,
     "metadata": {},
     "output_type": "execute_result"
    }
   ],
   "source": [
    "summary_df_gb.head()"
   ]
  },
  {
   "cell_type": "markdown",
   "metadata": {},
   "source": [
    "## QUESTION 11: \n",
    "Now try to regress the aggregated data with MLPRegressor. Try different\n",
    "architectures (i.e. the structure of the network) by adjusting hidden layer sizes. You should try\n",
    "at least 5 architectures with various numbers of layers and layer sizes. Report the architectures you\n",
    "tried, as well as its MSE of fitting the entire aggregated data."
   ]
  },
  {
   "cell_type": "code",
   "execution_count": 15,
   "metadata": {},
   "outputs": [],
   "source": [
    "# %% \n",
    "param_grid = {'hidden_layer_sizes':[(20,3), (50,3), (100,3), (200,3),(20,5), (50,5), (100,5), (200,5), (20, 10), (50, 10),(100,10),(200,10),(20, 20), (50, 20),(100,20),(200,20)]}\n",
    "#param_grid = {'hidden_layer_sizes':[(20,), (50,), (100,), (200,),(300,), (400,)]}\n",
    "reg_nn = MLPRegressor(max_iter=10000)\n",
    "summary_df_nn_unscaled_q11 = gridsearch_all(reg_nn, param_grid, scale = False)"
   ]
  },
  {
   "cell_type": "code",
   "execution_count": 16,
   "metadata": {},
   "outputs": [
    {
     "data": {
      "text/html": [
       "<div>\n",
       "<style scoped>\n",
       "    .dataframe tbody tr th:only-of-type {\n",
       "        vertical-align: middle;\n",
       "    }\n",
       "\n",
       "    .dataframe tbody tr th {\n",
       "        vertical-align: top;\n",
       "    }\n",
       "\n",
       "    .dataframe thead th {\n",
       "        text-align: right;\n",
       "    }\n",
       "</style>\n",
       "<table border=\"1\" class=\"dataframe\">\n",
       "  <thead>\n",
       "    <tr style=\"text-align: right;\">\n",
       "      <th></th>\n",
       "      <th>mean_test_score_all</th>\n",
       "      <th>params_all</th>\n",
       "      <th>rank_all</th>\n",
       "    </tr>\n",
       "  </thead>\n",
       "  <tbody>\n",
       "    <tr>\n",
       "      <th>0</th>\n",
       "      <td>2.754076e+09</td>\n",
       "      <td>{'hidden_layer_sizes': (100, 5)}</td>\n",
       "      <td>1</td>\n",
       "    </tr>\n",
       "    <tr>\n",
       "      <th>1</th>\n",
       "      <td>3.420778e+09</td>\n",
       "      <td>{'hidden_layer_sizes': (50, 5)}</td>\n",
       "      <td>2</td>\n",
       "    </tr>\n",
       "    <tr>\n",
       "      <th>2</th>\n",
       "      <td>3.730592e+09</td>\n",
       "      <td>{'hidden_layer_sizes': (200, 3)}</td>\n",
       "      <td>3</td>\n",
       "    </tr>\n",
       "    <tr>\n",
       "      <th>3</th>\n",
       "      <td>4.107108e+09</td>\n",
       "      <td>{'hidden_layer_sizes': (20, 3)}</td>\n",
       "      <td>4</td>\n",
       "    </tr>\n",
       "    <tr>\n",
       "      <th>4</th>\n",
       "      <td>4.956976e+09</td>\n",
       "      <td>{'hidden_layer_sizes': (200, 5)}</td>\n",
       "      <td>5</td>\n",
       "    </tr>\n",
       "  </tbody>\n",
       "</table>\n",
       "</div>"
      ],
      "text/plain": [
       "   mean_test_score_all                        params_all  rank_all\n",
       "0         2.754076e+09  {'hidden_layer_sizes': (100, 5)}         1\n",
       "1         3.420778e+09   {'hidden_layer_sizes': (50, 5)}         2\n",
       "2         3.730592e+09  {'hidden_layer_sizes': (200, 3)}         3\n",
       "3         4.107108e+09   {'hidden_layer_sizes': (20, 3)}         4\n",
       "4         4.956976e+09  {'hidden_layer_sizes': (200, 5)}         5"
      ]
     },
     "execution_count": 16,
     "metadata": {},
     "output_type": "execute_result"
    }
   ],
   "source": [
    "summary_df_nn_unscaled_q11.head()"
   ]
  },
  {
   "cell_type": "code",
   "execution_count": 17,
   "metadata": {},
   "outputs": [],
   "source": [
    "summary_df_nn_unscaled_q11.to_csv('q11_nn_all.csv')"
   ]
  },
  {
   "cell_type": "markdown",
   "metadata": {},
   "source": [
    "## QUESTION 12: \n",
    "Use StandardScaler to scale the features before feeding it to MLPRegressor (with the best architecture you got above). Does its performance increase?"
   ]
  },
  {
   "cell_type": "code",
   "execution_count": 145,
   "metadata": {
    "scrolled": true
   },
   "outputs": [
    {
     "name": "stdout",
     "output_type": "stream",
     "text": [
      "20596182.75913672\n"
     ]
    }
   ],
   "source": [
    "data_agg = pd.read_csv('aggregated_data_all.csv')\n",
    "y = np.nan_to_num(data_agg['future'])\n",
    "X = np.nan_to_num(data_agg[['followerCount','followerMaxCount','retweetCount','tweetCount','hr','userMentions','rankScore','hashTags','friendsCount']])\n",
    "\n",
    "scaler = StandardScaler()\n",
    "X_scale = scaler.fit_transform(X)\n",
    "\n",
    "reg = MLPRegressor(hidden_layer_sizes=(100,5),max_iter=40000)\n",
    "reg.fit(X_scale, y)\n",
    "print(metrics.mean_squared_error(y, reg.predict(X_scale)))"
   ]
  },
  {
   "cell_type": "code",
   "execution_count": 146,
   "metadata": {},
   "outputs": [
    {
     "name": "stdout",
     "output_type": "stream",
     "text": [
      "817728050.3374853\n"
     ]
    }
   ],
   "source": [
    "# compared to without transform\n",
    "data_agg = pd.read_csv('aggregated_data_all.csv')\n",
    "y = np.nan_to_num(data_agg['future'])\n",
    "X = np.nan_to_num(data_agg[['followerCount','followerMaxCount','retweetCount','tweetCount','hr','userMentions','rankScore','hashTags','friendsCount']])\n",
    "\n",
    "reg = MLPRegressor(hidden_layer_sizes=(100,5),max_iter=40000)\n",
    "reg.fit(X, y)\n",
    "print(metrics.mean_squared_error(y, reg.predict(X)))"
   ]
  },
  {
   "cell_type": "code",
   "execution_count": 18,
   "metadata": {},
   "outputs": [],
   "source": [
    "# %% \n",
    "param_grid = {'hidden_layer_sizes':[(20,3), (50,3), (100,3), (200,3),(20,5), (50,5), (100,5), (200,5), (20, 10), (50, 10),(100,10),(200,10),(20, 20), (50, 20),(100,20),(200,20)]}\n",
    "#param_grid = {'hidden_layer_sizes':[(20,), (50,), (100,), (200,),(300,), (400,)]}\n",
    "reg_nn = MLPRegressor(max_iter=10000)\n",
    "summary_df_nn_scaled = gridsearch_all(reg_nn, param_grid, scale = True)"
   ]
  },
  {
   "cell_type": "code",
   "execution_count": 19,
   "metadata": {},
   "outputs": [
    {
     "data": {
      "text/html": [
       "<div>\n",
       "<style scoped>\n",
       "    .dataframe tbody tr th:only-of-type {\n",
       "        vertical-align: middle;\n",
       "    }\n",
       "\n",
       "    .dataframe tbody tr th {\n",
       "        vertical-align: top;\n",
       "    }\n",
       "\n",
       "    .dataframe thead th {\n",
       "        text-align: right;\n",
       "    }\n",
       "</style>\n",
       "<table border=\"1\" class=\"dataframe\">\n",
       "  <thead>\n",
       "    <tr style=\"text-align: right;\">\n",
       "      <th></th>\n",
       "      <th>mean_test_score_all</th>\n",
       "      <th>params_all</th>\n",
       "      <th>rank_all</th>\n",
       "    </tr>\n",
       "  </thead>\n",
       "  <tbody>\n",
       "    <tr>\n",
       "      <th>0</th>\n",
       "      <td>3.593918e+06</td>\n",
       "      <td>{'hidden_layer_sizes': (50, 20)}</td>\n",
       "      <td>1</td>\n",
       "    </tr>\n",
       "    <tr>\n",
       "      <th>1</th>\n",
       "      <td>3.844345e+06</td>\n",
       "      <td>{'hidden_layer_sizes': (200, 10)}</td>\n",
       "      <td>2</td>\n",
       "    </tr>\n",
       "    <tr>\n",
       "      <th>2</th>\n",
       "      <td>3.857567e+06</td>\n",
       "      <td>{'hidden_layer_sizes': (100, 20)}</td>\n",
       "      <td>3</td>\n",
       "    </tr>\n",
       "    <tr>\n",
       "      <th>3</th>\n",
       "      <td>4.030666e+06</td>\n",
       "      <td>{'hidden_layer_sizes': (200, 20)}</td>\n",
       "      <td>4</td>\n",
       "    </tr>\n",
       "    <tr>\n",
       "      <th>4</th>\n",
       "      <td>4.056099e+06</td>\n",
       "      <td>{'hidden_layer_sizes': (200, 5)}</td>\n",
       "      <td>5</td>\n",
       "    </tr>\n",
       "  </tbody>\n",
       "</table>\n",
       "</div>"
      ],
      "text/plain": [
       "   mean_test_score_all                         params_all  rank_all\n",
       "0         3.593918e+06   {'hidden_layer_sizes': (50, 20)}         1\n",
       "1         3.844345e+06  {'hidden_layer_sizes': (200, 10)}         2\n",
       "2         3.857567e+06  {'hidden_layer_sizes': (100, 20)}         3\n",
       "3         4.030666e+06  {'hidden_layer_sizes': (200, 20)}         4\n",
       "4         4.056099e+06   {'hidden_layer_sizes': (200, 5)}         5"
      ]
     },
     "execution_count": 19,
     "metadata": {},
     "output_type": "execute_result"
    }
   ],
   "source": [
    "summary_df_nn_scaled.head()"
   ]
  },
  {
   "cell_type": "code",
   "execution_count": 20,
   "metadata": {},
   "outputs": [],
   "source": [
    "summary_df_nn_scaled.to_csv('q12_scaled_data.csv')"
   ]
  },
  {
   "cell_type": "markdown",
   "metadata": {},
   "source": [
    "## QUESTION 13: \n",
    "Using grid search, find the best architecture (for scaled data) for each period (with corresponding window length) described in Question 6."
   ]
  },
  {
   "cell_type": "code",
   "execution_count": 25,
   "metadata": {},
   "outputs": [],
   "source": [
    "param_grid = {'hidden_layer_sizes':[(20,3), (50,3), (100,3), (200,3),(20,5), (50,5), (100,5), (200,5), (20, 10), (50, 10),(100,10),(200,10),(20, 20), (50, 20),(100,20),(200,20)]}\n",
    "#param_grid = {'hidden_layer_sizes':[(20,), (50,), (100,), (200,),(300,), (400,)]}\n",
    "reg_nn = MLPRegressor(max_iter=40000)\n",
    "#summary_df_nn_scaled = gridsearch_all(reg_nn, param_grid,scale = False)\n",
    "summary_df_nn_scaled_q13 = gridsearch_periods(reg_nn,param_grid, scale = True, window_6X = False)"
   ]
  },
  {
   "cell_type": "code",
   "execution_count": 26,
   "metadata": {},
   "outputs": [
    {
     "data": {
      "text/html": [
       "<div>\n",
       "<style scoped>\n",
       "    .dataframe tbody tr th:only-of-type {\n",
       "        vertical-align: middle;\n",
       "    }\n",
       "\n",
       "    .dataframe tbody tr th {\n",
       "        vertical-align: top;\n",
       "    }\n",
       "\n",
       "    .dataframe thead th {\n",
       "        text-align: right;\n",
       "    }\n",
       "</style>\n",
       "<table border=\"1\" class=\"dataframe\">\n",
       "  <thead>\n",
       "    <tr style=\"text-align: right;\">\n",
       "      <th></th>\n",
       "      <th>mean_test_score_before</th>\n",
       "      <th>params_before</th>\n",
       "      <th>rank_before</th>\n",
       "      <th>mean_test_score_between</th>\n",
       "      <th>params_between</th>\n",
       "      <th>rank_between</th>\n",
       "      <th>mean_test_score_after</th>\n",
       "      <th>params_after</th>\n",
       "      <th>rank_after</th>\n",
       "    </tr>\n",
       "  </thead>\n",
       "  <tbody>\n",
       "    <tr>\n",
       "      <th>0</th>\n",
       "      <td>5.589335e+06</td>\n",
       "      <td>{'hidden_layer_sizes': (50, 10)}</td>\n",
       "      <td>1</td>\n",
       "      <td>3.472962e+07</td>\n",
       "      <td>{'hidden_layer_sizes': (200, 10)}</td>\n",
       "      <td>1</td>\n",
       "      <td>673534.418617</td>\n",
       "      <td>{'hidden_layer_sizes': (200, 10)}</td>\n",
       "      <td>1</td>\n",
       "    </tr>\n",
       "    <tr>\n",
       "      <th>1</th>\n",
       "      <td>5.985370e+06</td>\n",
       "      <td>{'hidden_layer_sizes': (20, 5)}</td>\n",
       "      <td>2</td>\n",
       "      <td>4.113224e+07</td>\n",
       "      <td>{'hidden_layer_sizes': (100, 5)}</td>\n",
       "      <td>2</td>\n",
       "      <td>698619.624771</td>\n",
       "      <td>{'hidden_layer_sizes': (50, 20)}</td>\n",
       "      <td>2</td>\n",
       "    </tr>\n",
       "    <tr>\n",
       "      <th>2</th>\n",
       "      <td>6.556631e+06</td>\n",
       "      <td>{'hidden_layer_sizes': (50, 5)}</td>\n",
       "      <td>3</td>\n",
       "      <td>4.802936e+07</td>\n",
       "      <td>{'hidden_layer_sizes': (50, 10)}</td>\n",
       "      <td>3</td>\n",
       "      <td>718112.747641</td>\n",
       "      <td>{'hidden_layer_sizes': (200, 20)}</td>\n",
       "      <td>3</td>\n",
       "    </tr>\n",
       "    <tr>\n",
       "      <th>3</th>\n",
       "      <td>7.168136e+06</td>\n",
       "      <td>{'hidden_layer_sizes': (20, 3)}</td>\n",
       "      <td>4</td>\n",
       "      <td>5.040548e+07</td>\n",
       "      <td>{'hidden_layer_sizes': (100, 20)}</td>\n",
       "      <td>4</td>\n",
       "      <td>799439.752888</td>\n",
       "      <td>{'hidden_layer_sizes': (200, 5)}</td>\n",
       "      <td>4</td>\n",
       "    </tr>\n",
       "    <tr>\n",
       "      <th>4</th>\n",
       "      <td>7.859446e+06</td>\n",
       "      <td>{'hidden_layer_sizes': (20, 20)}</td>\n",
       "      <td>5</td>\n",
       "      <td>5.812881e+07</td>\n",
       "      <td>{'hidden_layer_sizes': (50, 20)}</td>\n",
       "      <td>5</td>\n",
       "      <td>834301.935977</td>\n",
       "      <td>{'hidden_layer_sizes': (20, 20)}</td>\n",
       "      <td>5</td>\n",
       "    </tr>\n",
       "  </tbody>\n",
       "</table>\n",
       "</div>"
      ],
      "text/plain": [
       "   mean_test_score_before                     params_before  rank_before  \\\n",
       "0            5.589335e+06  {'hidden_layer_sizes': (50, 10)}            1   \n",
       "1            5.985370e+06   {'hidden_layer_sizes': (20, 5)}            2   \n",
       "2            6.556631e+06   {'hidden_layer_sizes': (50, 5)}            3   \n",
       "3            7.168136e+06   {'hidden_layer_sizes': (20, 3)}            4   \n",
       "4            7.859446e+06  {'hidden_layer_sizes': (20, 20)}            5   \n",
       "\n",
       "   mean_test_score_between                     params_between  rank_between  \\\n",
       "0             3.472962e+07  {'hidden_layer_sizes': (200, 10)}             1   \n",
       "1             4.113224e+07   {'hidden_layer_sizes': (100, 5)}             2   \n",
       "2             4.802936e+07   {'hidden_layer_sizes': (50, 10)}             3   \n",
       "3             5.040548e+07  {'hidden_layer_sizes': (100, 20)}             4   \n",
       "4             5.812881e+07   {'hidden_layer_sizes': (50, 20)}             5   \n",
       "\n",
       "   mean_test_score_after                       params_after  rank_after  \n",
       "0          673534.418617  {'hidden_layer_sizes': (200, 10)}           1  \n",
       "1          698619.624771   {'hidden_layer_sizes': (50, 20)}           2  \n",
       "2          718112.747641  {'hidden_layer_sizes': (200, 20)}           3  \n",
       "3          799439.752888   {'hidden_layer_sizes': (200, 5)}           4  \n",
       "4          834301.935977   {'hidden_layer_sizes': (20, 20)}           5  "
      ]
     },
     "execution_count": 26,
     "metadata": {},
     "output_type": "execute_result"
    }
   ],
   "source": [
    "summary_df_nn_scaled_q13.head()"
   ]
  },
  {
   "cell_type": "code",
   "execution_count": 27,
   "metadata": {},
   "outputs": [],
   "source": [
    "summary_df_nn_scaled_q13.to_csv('q13_scaled_grid_search_periods.csv')"
   ]
  },
  {
   "cell_type": "markdown",
   "metadata": {},
   "source": [
    "## QUESTION 14: \n",
    "Report the model you use. For each test file, provide your predictions on the\n",
    "number of tweets in the next time window."
   ]
  },
  {
   "cell_type": "code",
   "execution_count": 126,
   "metadata": {},
   "outputs": [],
   "source": [
    "# Process test datafiles to get the statistics\n",
    "tweetFiles_q14 = [\"sample data/sample0_period1.txt\",\n",
    "                  \"sample data/sample1_period1.txt\",\n",
    "                  \"sample data/sample2_period1.txt\",\n",
    "                  \"sample data/sample0_period2.txt\",\n",
    "                  \"sample data/sample1_period2.txt\",\n",
    "                  \"sample data/sample2_period2.txt\",\n",
    "                  \"sample data/sample0_period3.txt\",\n",
    "                  \"sample data/sample1_period3.txt\",\n",
    "                  \"sample data/sample2_period3.txt\"]"
   ]
  },
  {
   "cell_type": "code",
   "execution_count": 137,
   "metadata": {},
   "outputs": [
    {
     "name": "stdout",
     "output_type": "stream",
     "text": [
      "{'followerCount': [17002159.0, 20229495.0, 5597749.0, 71767249.0, 21651304.0, 3402478.0, 4600024.0, 12936528.0, 13870610.0], 'followerMaxCount': [5883161.0, 1813823.0, 2288647.0, 9184266.0, 5044900.0, 1019357.0, 3329958.0, 9677129.0, 9677129.0], 'retweetCount': [2159, 4851, 2304, 25776, 8844, 500, 609, 1574, 1741], 'tweetCount': [568, 2280, 953, 13377, 5549, 152, 410, 305, 399], 'hr': [10, 6, 22, 19, 12, 8, 5, 23, 22], 'userMentions': [348, 1059, 450, 2837, 9113, 123, 118, 83, 122], 'rankScore': [2652.3833038, 10333.251200499999, 4308.7581161, 60666.1604839, 23162.596820500003, 740.3231840999999, 1771.7884851, 1300.6945524, 1746.7508656], 'hashTags': [1526, 5710, 2006, 24942, 11259, 364, 1138, 953, 1182], 'friendsCount': [1071458, 3480381, 841762, 11666605, 2569797, 383492, 624247, 416988, 656469], 'period': [1, 1, 1, 2, 2, 2, 3, 3, 3], 'sample': ['sample0', 'sample1', 'sample2', 'sample0', 'sample1', 'sample2', 'sample0', 'sample1', 'sample2']}\n"
     ]
    }
   ],
   "source": [
    "tweetdf_q14 = []\n",
    "\n",
    "all_tweetCount = []\n",
    "all_followerCount = []\n",
    "all_followerMaxCount = []\n",
    "all_retweetCount = []\n",
    "all_hr = []\n",
    "all_friendsCount = []\n",
    "all_periodName = []\n",
    "all_userMentions = []\n",
    "all_rankScore = []\n",
    "all_hashTags = []\n",
    "all_sample = []\n",
    "\n",
    "for tweetFile in tweetFiles_q14:\n",
    "    \n",
    "    tweetCount = []\n",
    "    followerCount = []\n",
    "    followerMaxCount = []\n",
    "    retweetCount = []\n",
    "    datePst = []\n",
    "    hr = []\n",
    "    friendsCount = []\n",
    "    \n",
    "    userMentions = []\n",
    "    rankScore = []\n",
    "    hashTags = []\n",
    "    \n",
    "\n",
    "    utc_tz = pytz.UTC\n",
    "    pst_tz = pytz.timezone('America/Los_Angeles')\n",
    "    \n",
    "    with open(tweetFile, 'r', encoding='utf8') as tweetData:\n",
    "        for line in tweetData:\n",
    "            \n",
    "            data = json.loads(line)\n",
    "            \n",
    "            datePst.append(datetime.datetime.fromtimestamp(data['citation_date'], pst_tz))\n",
    "            \n",
    "            hr.append(datetime.datetime.fromtimestamp(data['citation_date'], pst_tz).hour)\n",
    "            followerCount.append(data['author']['followers'])\n",
    "            followerMaxCount.append(data['author']['followers'])\n",
    "            retweetCount.append(data['metrics']['citations']['total'])\n",
    "            tweetCount.append(1)\n",
    "            \n",
    "            userMentions.append(len(data['tweet']['entities']['user_mentions']))\n",
    "            rankScore.append(data['metrics']['ranking_score'])\n",
    "            hashTags.append(len(data['tweet']['entities']['hashtags']))\n",
    "            friendsCount.append(data['tweet']['user']['friends_count'])\n",
    "    \n",
    "    periodName = int(tweetFile[tweetFile.find(\".\")-1:tweetFile.find(\".\")])\n",
    "    \n",
    "    all_followerCount.append(np.sum(followerCount))\n",
    "    all_followerMaxCount.append(max(followerMaxCount))\n",
    "    all_retweetCount.append(np.sum(retweetCount))\n",
    "    all_tweetCount.append(np.sum(tweetCount))\n",
    "    all_hr.append(max(hr))\n",
    "    all_userMentions.append(np.sum(userMentions))\n",
    "    all_rankScore.append(np.sum(rankScore))\n",
    "    all_hashTags.append(np.sum(hashTags))\n",
    "    all_friendsCount.append(np.sum(friendsCount))\n",
    "    all_periodName.append(periodName)\n",
    "    all_sample.append(tweetFile[tweetFile.find(\"/\")+1:tweetFile.find(\"_\")])\n",
    "d = {'followerCount': all_followerCount, 'followerMaxCount': all_followerMaxCount, 'retweetCount' : all_retweetCount,\n",
    "         'tweetCount' : all_tweetCount, 'hr' : all_hr,'userMentions' : all_userMentions, 'rankScore' :all_rankScore,\n",
    "         'hashTags' : all_hashTags,'friendsCount':all_friendsCount,'period':all_periodName,'sample':all_sample}\n",
    "#print(d)\n",
    "df_sample_file = pd.DataFrame(d)\n",
    "df_sample_file.to_csv('test_statistics.csv')"
   ]
  },
  {
   "cell_type": "code",
   "execution_count": 138,
   "metadata": {},
   "outputs": [
    {
     "data": {
      "text/html": [
       "<div>\n",
       "<style scoped>\n",
       "    .dataframe tbody tr th:only-of-type {\n",
       "        vertical-align: middle;\n",
       "    }\n",
       "\n",
       "    .dataframe tbody tr th {\n",
       "        vertical-align: top;\n",
       "    }\n",
       "\n",
       "    .dataframe thead th {\n",
       "        text-align: right;\n",
       "    }\n",
       "</style>\n",
       "<table border=\"1\" class=\"dataframe\">\n",
       "  <thead>\n",
       "    <tr style=\"text-align: right;\">\n",
       "      <th></th>\n",
       "      <th>followerCount</th>\n",
       "      <th>followerMaxCount</th>\n",
       "      <th>retweetCount</th>\n",
       "      <th>tweetCount</th>\n",
       "      <th>hr</th>\n",
       "      <th>userMentions</th>\n",
       "      <th>rankScore</th>\n",
       "      <th>hashTags</th>\n",
       "      <th>friendsCount</th>\n",
       "      <th>period</th>\n",
       "      <th>sample</th>\n",
       "    </tr>\n",
       "  </thead>\n",
       "  <tbody>\n",
       "    <tr>\n",
       "      <th>0</th>\n",
       "      <td>17002159.0</td>\n",
       "      <td>5883161.0</td>\n",
       "      <td>2159</td>\n",
       "      <td>568</td>\n",
       "      <td>10</td>\n",
       "      <td>348</td>\n",
       "      <td>2652.383304</td>\n",
       "      <td>1526</td>\n",
       "      <td>1071458</td>\n",
       "      <td>1</td>\n",
       "      <td>sample0</td>\n",
       "    </tr>\n",
       "    <tr>\n",
       "      <th>1</th>\n",
       "      <td>20229495.0</td>\n",
       "      <td>1813823.0</td>\n",
       "      <td>4851</td>\n",
       "      <td>2280</td>\n",
       "      <td>6</td>\n",
       "      <td>1059</td>\n",
       "      <td>10333.251200</td>\n",
       "      <td>5710</td>\n",
       "      <td>3480381</td>\n",
       "      <td>1</td>\n",
       "      <td>sample1</td>\n",
       "    </tr>\n",
       "    <tr>\n",
       "      <th>2</th>\n",
       "      <td>5597749.0</td>\n",
       "      <td>2288647.0</td>\n",
       "      <td>2304</td>\n",
       "      <td>953</td>\n",
       "      <td>22</td>\n",
       "      <td>450</td>\n",
       "      <td>4308.758116</td>\n",
       "      <td>2006</td>\n",
       "      <td>841762</td>\n",
       "      <td>1</td>\n",
       "      <td>sample2</td>\n",
       "    </tr>\n",
       "    <tr>\n",
       "      <th>3</th>\n",
       "      <td>71767249.0</td>\n",
       "      <td>9184266.0</td>\n",
       "      <td>25776</td>\n",
       "      <td>13377</td>\n",
       "      <td>19</td>\n",
       "      <td>2837</td>\n",
       "      <td>60666.160484</td>\n",
       "      <td>24942</td>\n",
       "      <td>11666605</td>\n",
       "      <td>2</td>\n",
       "      <td>sample0</td>\n",
       "    </tr>\n",
       "    <tr>\n",
       "      <th>4</th>\n",
       "      <td>21651304.0</td>\n",
       "      <td>5044900.0</td>\n",
       "      <td>8844</td>\n",
       "      <td>5549</td>\n",
       "      <td>12</td>\n",
       "      <td>9113</td>\n",
       "      <td>23162.596821</td>\n",
       "      <td>11259</td>\n",
       "      <td>2569797</td>\n",
       "      <td>2</td>\n",
       "      <td>sample1</td>\n",
       "    </tr>\n",
       "    <tr>\n",
       "      <th>5</th>\n",
       "      <td>3402478.0</td>\n",
       "      <td>1019357.0</td>\n",
       "      <td>500</td>\n",
       "      <td>152</td>\n",
       "      <td>8</td>\n",
       "      <td>123</td>\n",
       "      <td>740.323184</td>\n",
       "      <td>364</td>\n",
       "      <td>383492</td>\n",
       "      <td>2</td>\n",
       "      <td>sample2</td>\n",
       "    </tr>\n",
       "    <tr>\n",
       "      <th>6</th>\n",
       "      <td>4600024.0</td>\n",
       "      <td>3329958.0</td>\n",
       "      <td>609</td>\n",
       "      <td>410</td>\n",
       "      <td>5</td>\n",
       "      <td>118</td>\n",
       "      <td>1771.788485</td>\n",
       "      <td>1138</td>\n",
       "      <td>624247</td>\n",
       "      <td>3</td>\n",
       "      <td>sample0</td>\n",
       "    </tr>\n",
       "    <tr>\n",
       "      <th>7</th>\n",
       "      <td>12936528.0</td>\n",
       "      <td>9677129.0</td>\n",
       "      <td>1574</td>\n",
       "      <td>305</td>\n",
       "      <td>23</td>\n",
       "      <td>83</td>\n",
       "      <td>1300.694552</td>\n",
       "      <td>953</td>\n",
       "      <td>416988</td>\n",
       "      <td>3</td>\n",
       "      <td>sample1</td>\n",
       "    </tr>\n",
       "    <tr>\n",
       "      <th>8</th>\n",
       "      <td>13870610.0</td>\n",
       "      <td>9677129.0</td>\n",
       "      <td>1741</td>\n",
       "      <td>399</td>\n",
       "      <td>22</td>\n",
       "      <td>122</td>\n",
       "      <td>1746.750866</td>\n",
       "      <td>1182</td>\n",
       "      <td>656469</td>\n",
       "      <td>3</td>\n",
       "      <td>sample2</td>\n",
       "    </tr>\n",
       "  </tbody>\n",
       "</table>\n",
       "</div>"
      ],
      "text/plain": [
       "   followerCount  followerMaxCount  retweetCount  tweetCount  hr  \\\n",
       "0     17002159.0         5883161.0          2159         568  10   \n",
       "1     20229495.0         1813823.0          4851        2280   6   \n",
       "2      5597749.0         2288647.0          2304         953  22   \n",
       "3     71767249.0         9184266.0         25776       13377  19   \n",
       "4     21651304.0         5044900.0          8844        5549  12   \n",
       "5      3402478.0         1019357.0           500         152   8   \n",
       "6      4600024.0         3329958.0           609         410   5   \n",
       "7     12936528.0         9677129.0          1574         305  23   \n",
       "8     13870610.0         9677129.0          1741         399  22   \n",
       "\n",
       "   userMentions     rankScore  hashTags  friendsCount  period   sample  \n",
       "0           348   2652.383304      1526       1071458       1  sample0  \n",
       "1          1059  10333.251200      5710       3480381       1  sample1  \n",
       "2           450   4308.758116      2006        841762       1  sample2  \n",
       "3          2837  60666.160484     24942      11666605       2  sample0  \n",
       "4          9113  23162.596821     11259       2569797       2  sample1  \n",
       "5           123    740.323184       364        383492       2  sample2  \n",
       "6           118   1771.788485      1138        624247       3  sample0  \n",
       "7            83   1300.694552       953        416988       3  sample1  \n",
       "8           122   1746.750866      1182        656469       3  sample2  "
      ]
     },
     "execution_count": 138,
     "metadata": {},
     "output_type": "execute_result"
    }
   ],
   "source": [
    "df_sample_file"
   ]
  },
  {
   "cell_type": "code",
   "execution_count": 98,
   "metadata": {},
   "outputs": [],
   "source": [
    "tweetdf_q14= pd.DataFrame(data=d)"
   ]
  },
  {
   "cell_type": "code",
   "execution_count": 99,
   "metadata": {},
   "outputs": [
    {
     "data": {
      "text/html": [
       "<div>\n",
       "<style scoped>\n",
       "    .dataframe tbody tr th:only-of-type {\n",
       "        vertical-align: middle;\n",
       "    }\n",
       "\n",
       "    .dataframe tbody tr th {\n",
       "        vertical-align: top;\n",
       "    }\n",
       "\n",
       "    .dataframe thead th {\n",
       "        text-align: right;\n",
       "    }\n",
       "</style>\n",
       "<table border=\"1\" class=\"dataframe\">\n",
       "  <thead>\n",
       "    <tr style=\"text-align: right;\">\n",
       "      <th></th>\n",
       "      <th>followerCount</th>\n",
       "      <th>followerMaxCount</th>\n",
       "      <th>retweetCount</th>\n",
       "      <th>tweetCount</th>\n",
       "      <th>hr</th>\n",
       "      <th>datePst</th>\n",
       "      <th>userMentions</th>\n",
       "      <th>rankScore</th>\n",
       "      <th>hashTags</th>\n",
       "      <th>friendsCount</th>\n",
       "    </tr>\n",
       "  </thead>\n",
       "  <tbody>\n",
       "    <tr>\n",
       "      <th>0</th>\n",
       "      <td>98191.0</td>\n",
       "      <td>98191.0</td>\n",
       "      <td>1</td>\n",
       "      <td>1</td>\n",
       "      <td>5</td>\n",
       "      <td>2015-01-31 05:00:37-08:00</td>\n",
       "      <td>0</td>\n",
       "      <td>7.686219</td>\n",
       "      <td>3</td>\n",
       "      <td>2601</td>\n",
       "    </tr>\n",
       "    <tr>\n",
       "      <th>1</th>\n",
       "      <td>158.0</td>\n",
       "      <td>158.0</td>\n",
       "      <td>1</td>\n",
       "      <td>1</td>\n",
       "      <td>5</td>\n",
       "      <td>2015-01-31 05:01:19-08:00</td>\n",
       "      <td>0</td>\n",
       "      <td>3.971872</td>\n",
       "      <td>3</td>\n",
       "      <td>246</td>\n",
       "    </tr>\n",
       "    <tr>\n",
       "      <th>2</th>\n",
       "      <td>187.0</td>\n",
       "      <td>187.0</td>\n",
       "      <td>1</td>\n",
       "      <td>1</td>\n",
       "      <td>5</td>\n",
       "      <td>2015-01-31 05:08:03-08:00</td>\n",
       "      <td>1</td>\n",
       "      <td>4.188179</td>\n",
       "      <td>1</td>\n",
       "      <td>9</td>\n",
       "    </tr>\n",
       "    <tr>\n",
       "      <th>3</th>\n",
       "      <td>1352.0</td>\n",
       "      <td>1352.0</td>\n",
       "      <td>1</td>\n",
       "      <td>1</td>\n",
       "      <td>5</td>\n",
       "      <td>2015-01-31 05:10:02-08:00</td>\n",
       "      <td>0</td>\n",
       "      <td>4.301411</td>\n",
       "      <td>1</td>\n",
       "      <td>998</td>\n",
       "    </tr>\n",
       "    <tr>\n",
       "      <th>4</th>\n",
       "      <td>1427.0</td>\n",
       "      <td>1427.0</td>\n",
       "      <td>2</td>\n",
       "      <td>1</td>\n",
       "      <td>5</td>\n",
       "      <td>2015-01-31 05:10:18-08:00</td>\n",
       "      <td>1</td>\n",
       "      <td>4.266692</td>\n",
       "      <td>4</td>\n",
       "      <td>673</td>\n",
       "    </tr>\n",
       "    <tr>\n",
       "      <th>...</th>\n",
       "      <td>...</td>\n",
       "      <td>...</td>\n",
       "      <td>...</td>\n",
       "      <td>...</td>\n",
       "      <td>...</td>\n",
       "      <td>...</td>\n",
       "      <td>...</td>\n",
       "      <td>...</td>\n",
       "      <td>...</td>\n",
       "      <td>...</td>\n",
       "    </tr>\n",
       "    <tr>\n",
       "      <th>23988</th>\n",
       "      <td>305.0</td>\n",
       "      <td>305.0</td>\n",
       "      <td>1</td>\n",
       "      <td>1</td>\n",
       "      <td>22</td>\n",
       "      <td>2015-02-05 22:16:53-08:00</td>\n",
       "      <td>1</td>\n",
       "      <td>3.427246</td>\n",
       "      <td>1</td>\n",
       "      <td>736</td>\n",
       "    </tr>\n",
       "    <tr>\n",
       "      <th>23989</th>\n",
       "      <td>82.0</td>\n",
       "      <td>82.0</td>\n",
       "      <td>1</td>\n",
       "      <td>1</td>\n",
       "      <td>22</td>\n",
       "      <td>2015-02-05 22:17:57-08:00</td>\n",
       "      <td>3</td>\n",
       "      <td>3.765978</td>\n",
       "      <td>1</td>\n",
       "      <td>261</td>\n",
       "    </tr>\n",
       "    <tr>\n",
       "      <th>23990</th>\n",
       "      <td>301.0</td>\n",
       "      <td>301.0</td>\n",
       "      <td>1</td>\n",
       "      <td>1</td>\n",
       "      <td>22</td>\n",
       "      <td>2015-02-05 22:19:23-08:00</td>\n",
       "      <td>0</td>\n",
       "      <td>3.554645</td>\n",
       "      <td>3</td>\n",
       "      <td>15</td>\n",
       "    </tr>\n",
       "    <tr>\n",
       "      <th>23991</th>\n",
       "      <td>257.0</td>\n",
       "      <td>257.0</td>\n",
       "      <td>1</td>\n",
       "      <td>1</td>\n",
       "      <td>22</td>\n",
       "      <td>2015-02-05 22:32:56-08:00</td>\n",
       "      <td>2</td>\n",
       "      <td>3.791177</td>\n",
       "      <td>1</td>\n",
       "      <td>101</td>\n",
       "    </tr>\n",
       "    <tr>\n",
       "      <th>23992</th>\n",
       "      <td>323.0</td>\n",
       "      <td>323.0</td>\n",
       "      <td>1</td>\n",
       "      <td>1</td>\n",
       "      <td>22</td>\n",
       "      <td>2015-02-05 22:35:12-08:00</td>\n",
       "      <td>1</td>\n",
       "      <td>3.355635</td>\n",
       "      <td>1</td>\n",
       "      <td>412</td>\n",
       "    </tr>\n",
       "  </tbody>\n",
       "</table>\n",
       "<p>23993 rows × 10 columns</p>\n",
       "</div>"
      ],
      "text/plain": [
       "       followerCount  followerMaxCount  retweetCount  tweetCount  hr  \\\n",
       "0            98191.0           98191.0             1           1   5   \n",
       "1              158.0             158.0             1           1   5   \n",
       "2              187.0             187.0             1           1   5   \n",
       "3             1352.0            1352.0             1           1   5   \n",
       "4             1427.0            1427.0             2           1   5   \n",
       "...              ...               ...           ...         ...  ..   \n",
       "23988          305.0             305.0             1           1  22   \n",
       "23989           82.0              82.0             1           1  22   \n",
       "23990          301.0             301.0             1           1  22   \n",
       "23991          257.0             257.0             1           1  22   \n",
       "23992          323.0             323.0             1           1  22   \n",
       "\n",
       "                        datePst  userMentions  rankScore  hashTags  \\\n",
       "0     2015-01-31 05:00:37-08:00             0   7.686219         3   \n",
       "1     2015-01-31 05:01:19-08:00             0   3.971872         3   \n",
       "2     2015-01-31 05:08:03-08:00             1   4.188179         1   \n",
       "3     2015-01-31 05:10:02-08:00             0   4.301411         1   \n",
       "4     2015-01-31 05:10:18-08:00             1   4.266692         4   \n",
       "...                         ...           ...        ...       ...   \n",
       "23988 2015-02-05 22:16:53-08:00             1   3.427246         1   \n",
       "23989 2015-02-05 22:17:57-08:00             3   3.765978         1   \n",
       "23990 2015-02-05 22:19:23-08:00             0   3.554645         3   \n",
       "23991 2015-02-05 22:32:56-08:00             2   3.791177         1   \n",
       "23992 2015-02-05 22:35:12-08:00             1   3.355635         1   \n",
       "\n",
       "       friendsCount  \n",
       "0              2601  \n",
       "1               246  \n",
       "2                 9  \n",
       "3               998  \n",
       "4               673  \n",
       "...             ...  \n",
       "23988           736  \n",
       "23989           261  \n",
       "23990            15  \n",
       "23991           101  \n",
       "23992           412  \n",
       "\n",
       "[23993 rows x 10 columns]"
      ]
     },
     "execution_count": 99,
     "metadata": {},
     "output_type": "execute_result"
    }
   ],
   "source": [
    "tweetdf_q14"
   ]
  },
  {
   "cell_type": "code",
   "execution_count": 141,
   "metadata": {},
   "outputs": [],
   "source": [
    "# Prepare training set at 6X window as well\n",
    "tweetdf_agg_group_before = tweetdf_agg[(tweetdf_agg['datePst'] < '2015-02-01 08:00:00-0800')].groupby(pd.Grouper(key='datePst',freq='360Min')).agg({\n",
    "        'followerCount':'sum',\n",
    "        'followerMaxCount':'max',\n",
    "        'retweetCount':'sum',\n",
    "        'tweetCount':'sum',\n",
    "        'hr':'max',\n",
    "        'userMentions':'sum',\n",
    "        'rankScore':'sum',\n",
    "        'hashTags':'sum',\n",
    "        'friendsCount':'sum'})\n",
    "tweetdf_agg_group_before['future'] = tweetdf_agg_group_before['tweetCount']\n",
    "tweetdf_agg_group_before.future = tweetdf_agg_group_before.future.shift(-1)\n",
    "tweetdf_agg_group_before.to_csv('aggregated_data_6X_before.csv')\n",
    "\n",
    "tweetdf_agg_group_between = tweetdf_agg[(tweetdf_agg['datePst'] >= '2015-02-01 08:00:00-0800') &\n",
    "                       (tweetdf_agg['datePst'] <= '2015-02-01 20:00:00-0800')].groupby(pd.Grouper(key='datePst',freq='30Min')).agg({\n",
    "        'followerCount':'sum',\n",
    "        'followerMaxCount':'max',\n",
    "        'retweetCount':'sum',\n",
    "        'tweetCount':'sum',\n",
    "        'hr':'max',\n",
    "        'userMentions':'sum',\n",
    "        'rankScore':'sum',\n",
    "        'hashTags':'sum',\n",
    "        'friendsCount':'sum'})\n",
    "tweetdf_agg_group_between['future'] = tweetdf_agg_group_between['tweetCount']\n",
    "tweetdf_agg_group_between.future = tweetdf_agg_group_between.future.shift(-1)\n",
    "tweetdf_agg_group_between.to_csv('aggregated_data_6X_between.csv')\n",
    "\n",
    "\n",
    "tweetdf_agg_group_after = tweetdf_agg[(tweetdf_agg['datePst'] > '2015-02-01 20:00:00-0800')].groupby(pd.Grouper(key='datePst',freq='360Min')).agg({\n",
    "        'followerCount':'sum',\n",
    "        'followerMaxCount':'max',\n",
    "        'retweetCount':'sum',\n",
    "        'tweetCount':'sum',\n",
    "        'hr':'max',\n",
    "        'userMentions':'sum',\n",
    "        'rankScore':'sum',\n",
    "        'hashTags':'sum',\n",
    "        'friendsCount':'sum'})\n",
    "tweetdf_agg_group_after['future'] = tweetdf_agg_group_after['tweetCount']\n",
    "tweetdf_agg_group_after.future = tweetdf_agg_group_after.future.shift(-1)\n",
    "\n",
    "tweetdf_agg_group_after.to_csv('aggregated_data_6X_after.csv')"
   ]
  },
  {
   "cell_type": "code",
   "execution_count": 142,
   "metadata": {},
   "outputs": [],
   "source": [
    "# Q14 let's train a random forest regressor\n",
    "param_grid = {'max_depth': [10, 30, 50, 70,100,200,None],\n",
    "                  'max_features': ['auto', 'sqrt'],\n",
    "                  'min_samples_leaf': [2,3, 4,5],\n",
    "                  'min_samples_split': [2,3,4,5],\n",
    "                  'n_estimators': np.arange(200,2000,200)}\n",
    "\n",
    "reg_q14 = RandomForestRegressor()\n",
    "summary_df_q14 = gridsearch_periods(reg_q14, param_grid,scale = False,window_6X = True)\n",
    "summary_df_q14.to_csv('Q14_trained_random_forest_new.csv')"
   ]
  },
  {
   "cell_type": "code",
   "execution_count": 172,
   "metadata": {},
   "outputs": [
    {
     "data": {
      "text/plain": [
       "RandomForestRegressor(bootstrap=True, ccp_alpha=0.0, criterion='mse',\n",
       "                      max_depth=70, max_features='auto', max_leaf_nodes=None,\n",
       "                      max_samples=None, min_impurity_decrease=0.0,\n",
       "                      min_impurity_split=None, min_samples_leaf=2,\n",
       "                      min_samples_split=3, min_weight_fraction_leaf=0.0,\n",
       "                      n_estimators=200, n_jobs=None, oob_score=False,\n",
       "                      random_state=None, verbose=0, warm_start=False)"
      ]
     },
     "execution_count": 172,
     "metadata": {},
     "output_type": "execute_result"
    }
   ],
   "source": [
    "\n",
    "# took the best model and fit training data\n",
    "reg_before =  RandomForestRegressor(max_depth=200, max_features= 'sqrt', min_samples_leaf =  5, min_samples_split =  2, n_estimators =  200)\n",
    "reg_between =  RandomForestRegressor(max_depth=300, max_features= 'auto', min_samples_leaf =  2, min_samples_split =  3, n_estimators =  200)\n",
    "reg_after =  RandomForestRegressor(max_depth=70, max_features= 'auto', min_samples_leaf =  2, min_samples_split =  3, n_estimators =  200)\n",
    "\n",
    "data_agg = pd.read_csv('aggregated_data_6X_before.csv')\n",
    "y_before = np.nan_to_num(data_agg['future'])\n",
    "X_before = np.nan_to_num(data_agg[['followerCount','followerMaxCount','retweetCount','tweetCount','hr','userMentions','rankScore','hashTags','friendsCount']])\n",
    "reg_before.fit(X_before, y_before)\n",
    "\n",
    "data_agg = pd.read_csv('aggregated_data_6X_between.csv')\n",
    "y_between = np.nan_to_num(data_agg['future'])\n",
    "X_between = np.nan_to_num(data_agg[['followerCount','followerMaxCount','retweetCount','tweetCount','hr','userMentions','rankScore','hashTags','friendsCount']])\n",
    "reg_between.fit(X_between, y_between)\n",
    "\n",
    "data_agg = pd.read_csv('aggregated_data_6X_after.csv')\n",
    "y_after = np.nan_to_num(data_agg['future'])\n",
    "X_after = np.nan_to_num(data_agg[['followerCount','followerMaxCount','retweetCount','tweetCount','hr','userMentions','rankScore','hashTags','friendsCount']])\n",
    "reg_after.fit(X_after, y_after)"
   ]
  },
  {
   "cell_type": "code",
   "execution_count": 173,
   "metadata": {},
   "outputs": [
    {
     "data": {
      "text/plain": [
       "array([5745.62301204])"
      ]
     },
     "execution_count": 173,
     "metadata": {},
     "output_type": "execute_result"
    }
   ],
   "source": [
    "# Now let's make some prediction for the next time frame for the test sample\n",
    "\n",
    "reg_before.predict(df_sample_file.query(\"period==1 and sample== 'sample0'\")[['followerCount','followerMaxCount','retweetCount','tweetCount','hr','userMentions','rankScore','hashTags','friendsCount']])"
   ]
  },
  {
   "cell_type": "code",
   "execution_count": 176,
   "metadata": {},
   "outputs": [
    {
     "data": {
      "text/plain": [
       "array([6435.67853627])"
      ]
     },
     "execution_count": 176,
     "metadata": {},
     "output_type": "execute_result"
    }
   ],
   "source": [
    "reg_before.predict(df_sample_file.query(\"period==1 and sample== 'sample1'\")[['followerCount','followerMaxCount','retweetCount','tweetCount','hr','userMentions','rankScore','hashTags','friendsCount']])"
   ]
  },
  {
   "cell_type": "code",
   "execution_count": 177,
   "metadata": {},
   "outputs": [
    {
     "data": {
      "text/plain": [
       "array([3455.49127703])"
      ]
     },
     "execution_count": 177,
     "metadata": {},
     "output_type": "execute_result"
    }
   ],
   "source": [
    "reg_before.predict(df_sample_file.query(\"period==1 and sample== 'sample2'\")[['followerCount','followerMaxCount','retweetCount','tweetCount','hr','userMentions','rankScore','hashTags','friendsCount']])"
   ]
  },
  {
   "cell_type": "code",
   "execution_count": 179,
   "metadata": {},
   "outputs": [
    {
     "data": {
      "text/plain": [
       "array([12472.936125])"
      ]
     },
     "execution_count": 179,
     "metadata": {},
     "output_type": "execute_result"
    }
   ],
   "source": [
    "reg_between.predict(df_sample_file.query(\"period==2 and sample== 'sample0'\")[['followerCount','followerMaxCount','retweetCount','tweetCount','hr','userMentions','rankScore','hashTags','friendsCount']])"
   ]
  },
  {
   "cell_type": "code",
   "execution_count": 180,
   "metadata": {},
   "outputs": [
    {
     "data": {
      "text/plain": [
       "array([11010.03989881])"
      ]
     },
     "execution_count": 180,
     "metadata": {},
     "output_type": "execute_result"
    }
   ],
   "source": [
    "reg_between.predict(df_sample_file.query(\"period==2 and sample== 'sample1'\")[['followerCount','followerMaxCount','retweetCount','tweetCount','hr','userMentions','rankScore','hashTags','friendsCount']])"
   ]
  },
  {
   "cell_type": "code",
   "execution_count": 181,
   "metadata": {},
   "outputs": [
    {
     "data": {
      "text/plain": [
       "array([8647.04456548])"
      ]
     },
     "execution_count": 181,
     "metadata": {},
     "output_type": "execute_result"
    }
   ],
   "source": [
    "reg_between.predict(df_sample_file.query(\"period==2 and sample== 'sample2'\")[['followerCount','followerMaxCount','retweetCount','tweetCount','hr','userMentions','rankScore','hashTags','friendsCount']])"
   ]
  },
  {
   "cell_type": "code",
   "execution_count": 182,
   "metadata": {},
   "outputs": [
    {
     "data": {
      "text/plain": [
       "array([2938.40788095])"
      ]
     },
     "execution_count": 182,
     "metadata": {},
     "output_type": "execute_result"
    }
   ],
   "source": [
    "reg_after.predict(df_sample_file.query(\"period==3 and sample== 'sample0'\")[['followerCount','followerMaxCount','retweetCount','tweetCount','hr','userMentions','rankScore','hashTags','friendsCount']])"
   ]
  },
  {
   "cell_type": "code",
   "execution_count": 183,
   "metadata": {},
   "outputs": [
    {
     "data": {
      "text/plain": [
       "array([1546.51132143])"
      ]
     },
     "execution_count": 183,
     "metadata": {},
     "output_type": "execute_result"
    }
   ],
   "source": [
    "reg_after.predict(df_sample_file.query(\"period==3 and sample== 'sample1'\")[['followerCount','followerMaxCount','retweetCount','tweetCount','hr','userMentions','rankScore','hashTags','friendsCount']])"
   ]
  },
  {
   "cell_type": "code",
   "execution_count": 184,
   "metadata": {},
   "outputs": [
    {
     "data": {
      "text/plain": [
       "array([1546.51132143])"
      ]
     },
     "execution_count": 184,
     "metadata": {},
     "output_type": "execute_result"
    }
   ],
   "source": [
    "reg_after.predict(df_sample_file.query(\"period==3 and sample== 'sample2'\")[['followerCount','followerMaxCount','retweetCount','tweetCount','hr','userMentions','rankScore','hashTags','friendsCount']])"
   ]
  },
  {
   "cell_type": "code",
   "execution_count": 186,
   "metadata": {},
   "outputs": [
    {
     "name": "stdout",
     "output_type": "stream",
     "text": [
      "0    4311.338029\n",
      "dtype: float64\n"
     ]
    }
   ],
   "source": [
    "model = ols(\"future ~ followerCount + followerMaxCount + retweetCount + tweetCount + hr + userMentions + rankScore + hashTags + friendsCount\", data=tweetdf_agg_group_before).fit()\n",
    "predict = model.predict(df_sample_file.query(\"period==1 and sample== 'sample0'\")[['followerCount','followerMaxCount','retweetCount','tweetCount','hr','userMentions','rankScore','hashTags','friendsCount']])\n",
    "print(predict)"
   ]
  },
  {
   "cell_type": "code",
   "execution_count": 187,
   "metadata": {},
   "outputs": [
    {
     "name": "stdout",
     "output_type": "stream",
     "text": [
      "1    7325.057276\n",
      "dtype: float64\n"
     ]
    }
   ],
   "source": [
    "model = ols(\"future ~ followerCount + followerMaxCount + retweetCount + tweetCount + hr + userMentions + rankScore + hashTags + friendsCount\", data=tweetdf_agg_group_before).fit()\n",
    "predict = model.predict(df_sample_file.query(\"period==1 and sample== 'sample1'\")[['followerCount','followerMaxCount','retweetCount','tweetCount','hr','userMentions','rankScore','hashTags','friendsCount']])\n",
    "print(predict)"
   ]
  }
 ],
 "metadata": {
  "kernelspec": {
   "display_name": "Python 3",
   "language": "python",
   "name": "python3"
  },
  "language_info": {
   "codemirror_mode": {
    "name": "ipython",
    "version": 3
   },
   "file_extension": ".py",
   "mimetype": "text/x-python",
   "name": "python",
   "nbconvert_exporter": "python",
   "pygments_lexer": "ipython3",
   "version": "3.7.6"
  }
 },
 "nbformat": 4,
 "nbformat_minor": 2
}
