{
 "cells": [
  {
   "cell_type": "code",
   "execution_count": 35,
   "metadata": {},
   "outputs": [],
   "source": [
    "import numpy as np\n",
    "import matplotlib.pyplot as plt\n",
    "import pandas as pd\n",
    "import json\n",
    "from collections import Counter\n",
    "\n",
    "import pytz\n",
    "import datetime\n",
    "from statsmodels.regression.linear_model import RegressionResults\n",
    "import statsmodels.api as sm\n",
    "from statsmodels.formula.api import ols\n",
    "\n"
   ]
  },
  {
   "cell_type": "markdown",
   "metadata": {},
   "source": [
    "### Question 1\n",
    "Report the following statistics for each hashtag, i.e. each file:\n",
    "\n",
    "• Average number of tweets per hour\n",
    "\n",
    "• Average number of followers of users posting the tweets per tweet (to make it simple, we average over the number of tweets; if a users posted twice, we count the user and the user’s followers twice as well)\n",
    "\n",
    "• Average number of retweets per tweet\n"
   ]
  },
  {
   "cell_type": "code",
   "execution_count": 7,
   "metadata": {},
   "outputs": [],
   "source": [
    "tweetFiles = [\"tweets/tweets_#gohawks.txt\",\n",
    "              \"tweets/tweets_#gopatriots.txt\",\n",
    "              \"tweets/tweets_#nfl.txt\",\n",
    "              \"tweets/tweets_#patriots.txt\",\n",
    "              \"tweets/tweets_#sb49.txt\",\n",
    "              \"tweets/tweets_#superbowl.txt\" ]"
   ]
  },
  {
   "cell_type": "code",
   "execution_count": 11,
   "metadata": {},
   "outputs": [
    {
     "name": "stdout",
     "output_type": "stream",
     "text": [
      "{\n",
      "    \"author\": {\n",
      "        \"author_img\": \"http://pbs.twimg.com/profile_images/561716455155064833/XGrpP4Rl_normal.jpeg\",\n",
      "        \"description\": \"Married to my best friend... You-make me laugh and occasionally think... I-will let you in on some of the crazy shit that consumes my thoughts...\",\n",
      "        \"followers\": 1752.0,\n",
      "        \"image_url\": \"http://pbs.twimg.com/profile_images/561716455155064833/XGrpP4Rl_normal.jpeg\",\n",
      "        \"name\": \"RJ\",\n",
      "        \"nick\": \"rejinseattle\",\n",
      "        \"type\": \"twitter\",\n",
      "        \"url\": \"http://twitter.com/rejinseattle\"\n",
      "    },\n",
      "    \"citation_date\": 1421518778,\n",
      "    \"citation_url\": \"http://twitter.com/REJinseattle/status/556516209261166593\",\n",
      "    \"firstpost_date\": 1419804875,\n",
      "    \"highlight\": \"I &lt;3 our defense! #GoHawks http://t.co/U1pcXpEsR8\",\n",
      "    \"metrics\": {\n",
      "        \"acceleration\": 0,\n",
      "        \"citations\": {\n",
      "            \"data\": [\n",
      "                {\n",
      "                    \"citations\": 1,\n",
      "                    \"timestamp\": 1421518739\n",
      "                }\n",
      "            ],\n",
      "            \"influential\": 0,\n",
      "            \"matching\": 1,\n",
      "            \"replies\": 0,\n",
      "            \"total\": 5\n",
      "        },\n",
      "        \"impressions\": 1754,\n",
      "        \"momentum\": 1,\n",
      "        \"peak\": 1421518799,\n",
      "        \"ranking_score\": 4.7437034\n",
      "    },\n",
      "    \"original_author\": {\n",
      "        \"author_img\": \"http://pbs.twimg.com/profile_images/547474027204591617/kgP4YJMW_normal.jpeg\",\n",
      "        \"description\": \"Food, Fitness, Football                                    #EatClean #FitFam #GoHawks\",\n",
      "        \"followers\": 2534.0,\n",
      "        \"image_url\": \"http://pbs.twimg.com/profile_images/547474027204591617/kgP4YJMW_normal.jpeg\",\n",
      "        \"influence_level\": 0.0,\n",
      "        \"name\": \"Michelle\",\n",
      "        \"nick\": \"mich_fit\",\n",
      "        \"type\": \"twitter\",\n",
      "        \"url\": \"http://twitter.com/mich_fit\"\n",
      "    },\n",
      "    \"title\": \"I &lt;3 our defense! #GoHawks http://t.co/U1pcXpEsR8\",\n",
      "    \"tweet\": {\n",
      "        \"contributors\": null,\n",
      "        \"coordinates\": null,\n",
      "        \"created_at\": \"Sun Dec 28 22:14:35 +0000 2014\",\n",
      "        \"entities\": {\n",
      "            \"hashtags\": [\n",
      "                {\n",
      "                    \"indices\": [\n",
      "                        21,\n",
      "                        29\n",
      "                    ],\n",
      "                    \"text\": \"GoHawks\"\n",
      "                }\n",
      "            ],\n",
      "            \"media\": [\n",
      "                {\n",
      "                    \"display_url\": \"pic.twitter.com/U1pcXpEsR8\",\n",
      "                    \"expanded_url\": \"http://twitter.com/Mich_Fit/status/549327579782840320/photo/1\",\n",
      "                    \"id\": 549327579392798720,\n",
      "                    \"id_str\": \"549327579392798720\",\n",
      "                    \"indices\": [\n",
      "                        30,\n",
      "                        52\n",
      "                    ],\n",
      "                    \"media_url\": \"http://pbs.twimg.com/media/B5-aheMIcAAqGtA.jpg\",\n",
      "                    \"media_url_https\": \"https://pbs.twimg.com/media/B5-aheMIcAAqGtA.jpg\",\n",
      "                    \"sizes\": {\n",
      "                        \"large\": {\n",
      "                            \"h\": 511,\n",
      "                            \"resize\": \"fit\",\n",
      "                            \"w\": 511\n",
      "                        },\n",
      "                        \"medium\": {\n",
      "                            \"h\": 511,\n",
      "                            \"resize\": \"fit\",\n",
      "                            \"w\": 511\n",
      "                        },\n",
      "                        \"small\": {\n",
      "                            \"h\": 340,\n",
      "                            \"resize\": \"fit\",\n",
      "                            \"w\": 340\n",
      "                        },\n",
      "                        \"thumb\": {\n",
      "                            \"h\": 150,\n",
      "                            \"resize\": \"crop\",\n",
      "                            \"w\": 150\n",
      "                        }\n",
      "                    },\n",
      "                    \"type\": \"photo\",\n",
      "                    \"url\": \"http://t.co/U1pcXpEsR8\"\n",
      "                }\n",
      "            ],\n",
      "            \"symbols\": [],\n",
      "            \"trends\": [],\n",
      "            \"urls\": [],\n",
      "            \"user_mentions\": []\n",
      "        },\n",
      "        \"extended_entities\": {\n",
      "            \"media\": [\n",
      "                {\n",
      "                    \"display_url\": \"pic.twitter.com/U1pcXpEsR8\",\n",
      "                    \"expanded_url\": \"http://twitter.com/Mich_Fit/status/549327579782840320/photo/1\",\n",
      "                    \"id\": 549327579392798720,\n",
      "                    \"id_str\": \"549327579392798720\",\n",
      "                    \"indices\": [\n",
      "                        30,\n",
      "                        52\n",
      "                    ],\n",
      "                    \"media_url\": \"http://pbs.twimg.com/media/B5-aheMIcAAqGtA.jpg\",\n",
      "                    \"media_url_https\": \"https://pbs.twimg.com/media/B5-aheMIcAAqGtA.jpg\",\n",
      "                    \"sizes\": {\n",
      "                        \"large\": {\n",
      "                            \"h\": 511,\n",
      "                            \"resize\": \"fit\",\n",
      "                            \"w\": 511\n",
      "                        },\n",
      "                        \"medium\": {\n",
      "                            \"h\": 511,\n",
      "                            \"resize\": \"fit\",\n",
      "                            \"w\": 511\n",
      "                        },\n",
      "                        \"small\": {\n",
      "                            \"h\": 340,\n",
      "                            \"resize\": \"fit\",\n",
      "                            \"w\": 340\n",
      "                        },\n",
      "                        \"thumb\": {\n",
      "                            \"h\": 150,\n",
      "                            \"resize\": \"crop\",\n",
      "                            \"w\": 150\n",
      "                        }\n",
      "                    },\n",
      "                    \"type\": \"photo\",\n",
      "                    \"url\": \"http://t.co/U1pcXpEsR8\"\n",
      "                }\n",
      "            ]\n",
      "        },\n",
      "        \"favorite_count\": 1,\n",
      "        \"favorited\": false,\n",
      "        \"filter_level\": \"low\",\n",
      "        \"geo\": null,\n",
      "        \"id\": 549327579782840320,\n",
      "        \"id_str\": \"549327579782840320\",\n",
      "        \"in_reply_to_screen_name\": null,\n",
      "        \"in_reply_to_status_id\": null,\n",
      "        \"in_reply_to_status_id_str\": null,\n",
      "        \"in_reply_to_user_id\": null,\n",
      "        \"in_reply_to_user_id_str\": null,\n",
      "        \"lang\": \"en\",\n",
      "        \"place\": null,\n",
      "        \"possibly_sensitive\": false,\n",
      "        \"retweet_count\": 2,\n",
      "        \"retweeted\": false,\n",
      "        \"source\": \"<a href=\\\"http://twitter.com\\\" rel=\\\"nofollow\\\">Twitter Web Client</a>\",\n",
      "        \"text\": \"I &lt;3 our defense! #GoHawks http://t.co/U1pcXpEsR8\",\n",
      "        \"truncated\": false,\n",
      "        \"user\": {\n",
      "            \"contributors_enabled\": false,\n",
      "            \"created_at\": \"Fri Aug 10 12:00:57 +0000 2012\",\n",
      "            \"default_profile\": true,\n",
      "            \"default_profile_image\": false,\n",
      "            \"description\": \"Food, Fitness, Football                                    #EatClean #FitFam #GoHawks\",\n",
      "            \"favourites_count\": 9490,\n",
      "            \"follow_request_sent\": null,\n",
      "            \"followers_count\": 2318,\n",
      "            \"following\": null,\n",
      "            \"friends_count\": 2025,\n",
      "            \"geo_enabled\": true,\n",
      "            \"id\": 749230320,\n",
      "            \"id_str\": \"749230320\",\n",
      "            \"is_translator\": false,\n",
      "            \"lang\": \"en\",\n",
      "            \"listed_count\": 32,\n",
      "            \"location\": \"Ontario\",\n",
      "            \"name\": \"Michelle\",\n",
      "            \"notifications\": null,\n",
      "            \"profile_background_color\": \"C0DEED\",\n",
      "            \"profile_background_image_url\": \"http://abs.twimg.com/images/themes/theme1/bg.png\",\n",
      "            \"profile_background_image_url_https\": \"https://abs.twimg.com/images/themes/theme1/bg.png\",\n",
      "            \"profile_background_tile\": false,\n",
      "            \"profile_banner_url\": \"https://pbs.twimg.com/profile_banners/749230320/1413579075\",\n",
      "            \"profile_image_url\": \"http://pbs.twimg.com/profile_images/547474027204591617/kgP4YJMW_normal.jpeg\",\n",
      "            \"profile_image_url_https\": \"https://pbs.twimg.com/profile_images/547474027204591617/kgP4YJMW_normal.jpeg\",\n",
      "            \"profile_link_color\": \"0084B4\",\n",
      "            \"profile_sidebar_border_color\": \"C0DEED\",\n",
      "            \"profile_sidebar_fill_color\": \"DDEEF6\",\n",
      "            \"profile_text_color\": \"333333\",\n",
      "            \"profile_use_background_image\": true,\n",
      "            \"protected\": false,\n",
      "            \"screen_name\": \"Mich_Fit\",\n",
      "            \"statuses_count\": 12477,\n",
      "            \"time_zone\": null,\n",
      "            \"url\": null,\n",
      "            \"utc_offset\": null,\n",
      "            \"verified\": false\n",
      "        }\n",
      "    },\n",
      "    \"type\": \"retweet:native\",\n",
      "    \"url\": \"http://twitter.com/Mich_Fit/status/549327579782840320\"\n",
      "}\n"
     ]
    }
   ],
   "source": [
    "with open(tweetFiles[0], 'r') as tweetData:\n",
    "    for line in tweetData:\n",
    "        parsed = json.loads(line)\n",
    "        print(json.dumps(parsed, indent=4, sort_keys=True))\n",
    "        break"
   ]
  },
  {
   "cell_type": "code",
   "execution_count": 14,
   "metadata": {},
   "outputs": [
    {
     "name": "stdout",
     "output_type": "stream",
     "text": [
      "tweets/tweets_#gohawks.txt\n",
      "Avg number of tweets per hour:  292.48785062173687\n",
      "Avg number of followers of poster per tweet :  2217.9237355281984\n",
      "Avg number of rewteets per tweet:  2.0132093991319877\n",
      "tweets/tweets_#gopatriots.txt\n",
      "Avg number of tweets per hour:  40.95469800606194\n",
      "Avg number of followers of poster per tweet :  1427.2526051635405\n",
      "Avg number of rewteets per tweet:  1.4081919101697078\n",
      "tweets/tweets_#nfl.txt\n",
      "Avg number of tweets per hour:  397.0213901819841\n",
      "Avg number of followers of poster per tweet :  4662.37544523693\n",
      "Avg number of rewteets per tweet:  1.5344602655543254\n",
      "tweets/tweets_#patriots.txt\n",
      "Avg number of tweets per hour:  750.89426460689\n",
      "Avg number of followers of poster per tweet :  3280.4635616550277\n",
      "Avg number of rewteets per tweet:  1.7852871288476946\n",
      "tweets/tweets_#sb49.txt\n",
      "Avg number of tweets per hour:  1276.8570598680474\n",
      "Avg number of followers of poster per tweet :  10374.160292019487\n",
      "Avg number of rewteets per tweet:  2.52713444111402\n",
      "tweets/tweets_#superbowl.txt\n",
      "Avg number of tweets per hour:  2072.11840170408\n",
      "Avg number of followers of poster per tweet :  8814.96799424623\n",
      "Avg number of rewteets per tweet:  2.3911895819207736\n"
     ]
    }
   ],
   "source": [
    "for tweetFile in tweetFiles:\n",
    "    \n",
    "    timeStamp = []\n",
    "    tweetCount = 0\n",
    "    followerCount = 0\n",
    "    retweetCount = 0\n",
    "    \n",
    "    with open(tweetFile, 'r', encoding='utf8') as tweetData:\n",
    "        for line in tweetData:\n",
    "            \n",
    "            data = json.loads(line)\n",
    "            timeStamp.append(data['citation_date'])\n",
    "            followerCount = followerCount + (data['author']['followers'])\n",
    "            retweetCount = retweetCount + (data['metrics']['citations']['total'])\n",
    "            tweetCount = tweetCount + 1\n",
    "        \n",
    "        print(tweetFile)\n",
    "        print(\"Avg number of tweets per hour: \", str(tweetCount/((max(timeStamp)-min(timeStamp))/3600)))\n",
    "        print(\"Avg number of followers of poster per tweet : \", str(followerCount/tweetCount))\n",
    "        print(\"Avg number of rewteets per tweet: \", str(retweetCount/tweetCount))\n",
    "\n"
   ]
  },
  {
   "cell_type": "markdown",
   "metadata": {},
   "source": [
    "### Question 2\n",
    "Plot “number of tweets in hour” over time for #SuperBowl and #NFL (a bar plot with 1-hour bins). The tweets are stored in separate files for different hashtags and files are named as tweet [#hashtag].txt."
   ]
  },
  {
   "cell_type": "code",
   "execution_count": 27,
   "metadata": {},
   "outputs": [],
   "source": [
    "q2Files = [\"tweets/tweets_#nfl.txt\",\"tweets/tweets_#superbowl.txt\"];"
   ]
  },
  {
   "cell_type": "code",
   "execution_count": 31,
   "metadata": {},
   "outputs": [
    {
     "data": {
      "image/png": "[encoded data removed]",
      "text/plain": [
       "<Figure size 864x504 with 1 Axes>"
      ]
     },
     "metadata": {
      "needs_background": "light"
     },
     "output_type": "display_data"
    },
    {
     "data": {
      "image/png": "[encoded data removed]",
      "text/plain": [
       "<Figure size 864x504 with 1 Axes>"
      ]
     },
     "metadata": {
      "needs_background": "light"
     },
     "output_type": "display_data"
    }
   ],
   "source": [
    "for tweetFile in q2Files:\n",
    "    \n",
    "    timeStamp = []\n",
    "    \n",
    "    with open(tweetFile, 'r', encoding='utf8') as tweetData:\n",
    "        for line in tweetData:\n",
    "            \n",
    "            data = json.loads(line)\n",
    "            timeStamp.append(data['citation_date'])\n",
    "\n",
    "        maxTime = max(timeStamp)\n",
    "        minTime = min(timeStamp)\n",
    "        timeStamp = np.rint((np.array(timeStamp) - minTime)/3600);\n",
    "\n",
    "        plt.figure(figsize=(12,7))\n",
    "        plt.bar(Counter(timeStamp).keys(), Counter(timeStamp).values(), width=1)\n",
    "        plt.xlabel('Hours')\n",
    "        plt.ylabel('Tweets')\n",
    "        plt.title(tweetFile[7:-4])\n",
    "        plt.show()\n",
    "\n"
   ]
  },
  {
   "cell_type": "markdown",
   "metadata": {},
   "source": [
    "### Question 3\n",
    "For each of your models, report your model’s Mean Squared Error (MSE) and R-squared measure. Also, analyse the significance of each feature using the t-test and p-value. You may use the OLS in the libarary statsmodels in Python."
   ]
  },
  {
   "cell_type": "code",
   "execution_count": 38,
   "metadata": {},
   "outputs": [],
   "source": [
    "tweetdf = []\n",
    "for tweetFile in tweetFiles:\n",
    "    \n",
    "    tweetCount = []\n",
    "    followerCount = []\n",
    "    followerMaxCount = []\n",
    "    retweetCount = []\n",
    "    datePst = []\n",
    "    hr = []\n",
    "    \n",
    "    utc_tz = pytz.UTC\n",
    "    pst_tz = pytz.timezone('America/Los_Angeles')\n",
    "    \n",
    "    with open(tweetFile, 'r', encoding='utf8') as tweetData:\n",
    "        for line in tweetData:\n",
    "            \n",
    "            data = json.loads(line)\n",
    "            \n",
    "            datePst.append(datetime.datetime.fromtimestamp(data['citation_date'], pst_tz))\n",
    "            \n",
    "            hr.append(datetime.datetime.fromtimestamp(data['citation_date'], pst_tz).hour)\n",
    "            followerCount.append(data['author']['followers'])\n",
    "            followerMaxCount.append(data['author']['followers'])\n",
    "            retweetCount.append(data['metrics']['citations']['total'])\n",
    "            tweetCount.append(1)\n",
    "            \n",
    "        d = {'followerCount': followerCount, 'followerMaxCount': followerMaxCount, 'retweetCount' : retweetCount,\n",
    "            'tweetCount' : tweetCount, 'hr' : hr, 'datePst' : datePst}\n",
    "        tweetdf.append(pd.DataFrame(data=d))\n"
   ]
  },
  {
   "cell_type": "code",
   "execution_count": 60,
   "metadata": {},
   "outputs": [
    {
     "name": "stdout",
     "output_type": "stream",
     "text": [
      "tweets_#gohawks\n",
      "                            OLS Regression Results                            \n",
      "==============================================================================\n",
      "Dep. Variable:                 future   R-squared:                       0.476\n",
      "Model:                            OLS   Adj. R-squared:                  0.471\n",
      "Method:                 Least Squares   F-statistic:                     102.3\n",
      "Date:                Sun, 15 Mar 2020   Prob (F-statistic):           1.10e-76\n",
      "Time:                        02:48:26   Log-Likelihood:                -4663.7\n",
      "No. Observations:                 569   AIC:                             9339.\n",
      "Df Residuals:                     563   BIC:                             9365.\n",
      "Df Model:                           5                                         \n",
      "Covariance Type:            nonrobust                                         \n",
      "====================================================================================\n",
      "                       coef    std err          t      P>|t|      [0.025      0.975]\n",
      "------------------------------------------------------------------------------------\n",
      "Intercept           99.5134     72.677      1.369      0.171     -43.237     242.264\n",
      "followerCount       -0.0002   8.06e-05     -2.407      0.016      -0.000   -3.57e-05\n",
      "followerMaxCount  6.047e-05      0.000      0.403      0.687      -0.000       0.000\n",
      "retweetCount        -0.1364      0.044     -3.113      0.002      -0.222      -0.050\n",
      "tweetCount           1.2823      0.165      7.767      0.000       0.958       1.607\n",
      "hr                   1.3865      5.451      0.254      0.799      -9.321      12.094\n",
      "==============================================================================\n",
      "Omnibus:                      899.580   Durbin-Watson:                   2.216\n",
      "Prob(Omnibus):                  0.000   Jarque-Bera (JB):           747068.220\n",
      "Skew:                           8.625   Prob(JB):                         0.00\n",
      "Kurtosis:                     179.673   Cond. No.                     5.24e+06\n",
      "==============================================================================\n",
      "\n",
      "Warnings:\n",
      "[1] Standard Errors assume that the covariance matrix of the errors is correctly specified.\n",
      "[2] The condition number is large, 5.24e+06. This might indicate that there are\n",
      "strong multicollinearity or other numerical problems.\n",
      "MSE: 778598.8815298494\n",
      "tweets_#gopatriots\n",
      "                            OLS Regression Results                            \n",
      "==============================================================================\n",
      "Dep. Variable:                 future   R-squared:                       0.627\n",
      "Model:                            OLS   Adj. R-squared:                  0.623\n",
      "Method:                 Least Squares   F-statistic:                     146.0\n",
      "Date:                Sun, 15 Mar 2020   Prob (F-statistic):           1.33e-90\n",
      "Time:                        02:48:26   Log-Likelihood:                -2932.2\n",
      "No. Observations:                 440   AIC:                             5876.\n",
      "Df Residuals:                     434   BIC:                             5901.\n",
      "Df Model:                           5                                         \n",
      "Covariance Type:            nonrobust                                         \n",
      "====================================================================================\n",
      "                       coef    std err          t      P>|t|      [0.025      0.975]\n",
      "------------------------------------------------------------------------------------\n",
      "Intercept           13.0136     18.908      0.688      0.492     -24.149      50.176\n",
      "followerCount       -0.0001      0.000     -0.424      0.672      -0.001       0.000\n",
      "followerMaxCount -2.827e-05      0.000     -0.113      0.910      -0.001       0.000\n",
      "retweetCount         0.4877      0.219      2.223      0.027       0.056       0.919\n",
      "tweetCount           0.3052      0.326      0.937      0.349      -0.335       0.945\n",
      "hr                  -0.3371      1.413     -0.239      0.812      -3.114       2.440\n",
      "==============================================================================\n",
      "Omnibus:                      346.712   Durbin-Watson:                   1.909\n",
      "Prob(Omnibus):                  0.000   Jarque-Bera (JB):           128856.413\n",
      "Skew:                           2.206   Prob(JB):                         0.00\n",
      "Kurtosis:                      86.720   Cond. No.                     9.12e+05\n",
      "==============================================================================\n",
      "\n",
      "Warnings:\n",
      "[1] Standard Errors assume that the covariance matrix of the errors is correctly specified.\n",
      "[2] The condition number is large, 9.12e+05. This might indicate that there are\n",
      "strong multicollinearity or other numerical problems.\n",
      "MSE: 36467.25983218669\n",
      "tweets_#nfl\n",
      "                            OLS Regression Results                            \n",
      "==============================================================================\n",
      "Dep. Variable:                 future   R-squared:                       0.570\n",
      "Model:                            OLS   Adj. R-squared:                  0.567\n",
      "Method:                 Least Squares   F-statistic:                     152.9\n",
      "Date:                Sun, 15 Mar 2020   Prob (F-statistic):          3.57e-103\n",
      "Time:                        02:48:26   Log-Likelihood:                -4467.0\n",
      "No. Observations:                 582   AIC:                             8946.\n",
      "Df Residuals:                     576   BIC:                             8972.\n",
      "Df Model:                           5                                         \n",
      "Covariance Type:            nonrobust                                         \n",
      "====================================================================================\n",
      "                       coef    std err          t      P>|t|      [0.025      0.975]\n",
      "------------------------------------------------------------------------------------\n",
      "Intercept          126.3866     43.357      2.915      0.004      41.230     211.543\n",
      "followerCount        0.0001   2.51e-05      4.573      0.000    6.54e-05       0.000\n",
      "followerMaxCount    -0.0001   3.32e-05     -3.527      0.000      -0.000   -5.19e-05\n",
      "retweetCount        -0.1650      0.064     -2.578      0.010      -0.291      -0.039\n",
      "tweetCount           0.5652      0.135      4.173      0.000       0.299       0.831\n",
      "hr                   0.2969      3.176      0.093      0.926      -5.941       6.535\n",
      "==============================================================================\n",
      "Omnibus:                      665.410   Durbin-Watson:                   2.373\n",
      "Prob(Omnibus):                  0.000   Jarque-Bera (JB):           343898.587\n",
      "Skew:                           4.594   Prob(JB):                         0.00\n",
      "Kurtosis:                     121.731   Cond. No.                     8.66e+06\n",
      "==============================================================================\n",
      "\n",
      "Warnings:\n",
      "[1] Standard Errors assume that the covariance matrix of the errors is correctly specified.\n",
      "[2] The condition number is large, 8.66e+06. This might indicate that there are\n",
      "strong multicollinearity or other numerical problems.\n",
      "MSE: 274541.22223045497\n",
      "tweets_#patriots\n",
      "                            OLS Regression Results                            \n",
      "==============================================================================\n",
      "Dep. Variable:                 future   R-squared:                       0.668\n",
      "Model:                            OLS   Adj. R-squared:                  0.666\n",
      "Method:                 Least Squares   F-statistic:                     233.8\n",
      "Date:                Sun, 15 Mar 2020   Prob (F-statistic):          1.91e-136\n",
      "Time:                        02:48:26   Log-Likelihood:                -5361.4\n",
      "No. Observations:                 586   AIC:                         1.073e+04\n",
      "Df Residuals:                     580   BIC:                         1.076e+04\n",
      "Df Model:                           5                                         \n",
      "Covariance Type:            nonrobust                                         \n",
      "====================================================================================\n",
      "                       coef    std err          t      P>|t|      [0.025      0.975]\n",
      "------------------------------------------------------------------------------------\n",
      "Intercept          180.1751    183.925      0.980      0.328    -181.066     541.416\n",
      "followerCount    -1.098e-05   2.63e-05     -0.417      0.677   -6.27e-05    4.07e-05\n",
      "followerMaxCount     0.0001   9.17e-05      1.340      0.181   -5.72e-05       0.000\n",
      "retweetCount        -0.0681      0.058     -1.178      0.239      -0.181       0.045\n",
      "tweetCount           0.9145      0.071     12.937      0.000       0.776       1.053\n",
      "hr                  -5.8597     13.765     -0.426      0.670     -32.896      21.176\n",
      "==============================================================================\n",
      "Omnibus:                      887.682   Durbin-Watson:                   1.998\n",
      "Prob(Omnibus):                  0.000   Jarque-Bera (JB):           690539.222\n",
      "Skew:                           7.937   Prob(JB):                         0.00\n",
      "Kurtosis:                     170.420   Cond. No.                     1.60e+07\n",
      "==============================================================================\n",
      "\n",
      "Warnings:\n",
      "[1] Standard Errors assume that the covariance matrix of the errors is correctly specified.\n",
      "[2] The condition number is large, 1.6e+07. This might indicate that there are\n",
      "strong multicollinearity or other numerical problems.\n",
      "MSE: 5234485.51812663\n"
     ]
    },
    {
     "name": "stdout",
     "output_type": "stream",
     "text": [
      "tweets_#sb49\n",
      "                            OLS Regression Results                            \n",
      "==============================================================================\n",
      "Dep. Variable:                 future   R-squared:                       0.804\n",
      "Model:                            OLS   Adj. R-squared:                  0.802\n",
      "Method:                 Least Squares   F-statistic:                     435.6\n",
      "Date:                Sun, 15 Mar 2020   Prob (F-statistic):          4.54e-185\n",
      "Time:                        02:48:26   Log-Likelihood:                -5231.3\n",
      "No. Observations:                 536   AIC:                         1.047e+04\n",
      "Df Residuals:                     530   BIC:                         1.050e+04\n",
      "Df Model:                           5                                         \n",
      "Covariance Type:            nonrobust                                         \n",
      "====================================================================================\n",
      "                       coef    std err          t      P>|t|      [0.025      0.975]\n",
      "------------------------------------------------------------------------------------\n",
      "Intercept          235.0748    365.931      0.642      0.521    -483.778     953.928\n",
      "followerCount     9.695e-06    1.3e-05      0.743      0.458   -1.59e-05    3.53e-05\n",
      "followerMaxCount  9.418e-05   4.58e-05      2.056      0.040    4.17e-06       0.000\n",
      "retweetCount        -0.1602      0.082     -1.953      0.051      -0.321       0.001\n",
      "tweetCount           1.1361      0.091     12.485      0.000       0.957       1.315\n",
      "hr                 -17.9297     26.914     -0.666      0.506     -70.801      34.941\n",
      "==============================================================================\n",
      "Omnibus:                     1070.760   Durbin-Watson:                   1.674\n",
      "Prob(Omnibus):                  0.000   Jarque-Bera (JB):          1720654.660\n",
      "Skew:                          13.993   Prob(JB):                         0.00\n",
      "Kurtosis:                     279.154   Cond. No.                     1.67e+08\n",
      "==============================================================================\n",
      "\n",
      "Warnings:\n",
      "[1] Standard Errors assume that the covariance matrix of the errors is correctly specified.\n",
      "[2] The condition number is large, 1.67e+08. This might indicate that there are\n",
      "strong multicollinearity or other numerical problems.\n",
      "MSE: 17774930.5906947\n",
      "tweets_#superbowl\n",
      "                            OLS Regression Results                            \n",
      "==============================================================================\n",
      "Dep. Variable:                 future   R-squared:                       0.800\n",
      "Model:                            OLS   Adj. R-squared:                  0.798\n",
      "Method:                 Least Squares   F-statistic:                     463.5\n",
      "Date:                Sun, 15 Mar 2020   Prob (F-statistic):          6.72e-200\n",
      "Time:                        02:48:27   Log-Likelihood:                -6039.9\n",
      "No. Observations:                 586   AIC:                         1.209e+04\n",
      "Df Residuals:                     580   BIC:                         1.212e+04\n",
      "Df Model:                           5                                         \n",
      "Covariance Type:            nonrobust                                         \n",
      "====================================================================================\n",
      "                       coef    std err          t      P>|t|      [0.025      0.975]\n",
      "------------------------------------------------------------------------------------\n",
      "Intercept         -149.5572    605.382     -0.247      0.805   -1338.565    1039.451\n",
      "followerCount       -0.0001    2.2e-05     -6.265      0.000      -0.000   -9.47e-05\n",
      "followerMaxCount     0.0007      0.000      4.889      0.000       0.000       0.001\n",
      "retweetCount        -0.2543      0.046     -5.544      0.000      -0.344      -0.164\n",
      "tweetCount           2.2766      0.080     28.537      0.000       2.120       2.433\n",
      "hr                 -20.4965     43.624     -0.470      0.639    -106.177      65.184\n",
      "==============================================================================\n",
      "Omnibus:                      973.862   Durbin-Watson:                   2.283\n",
      "Prob(Omnibus):                  0.000   Jarque-Bera (JB):          1787388.254\n",
      "Skew:                           9.272   Prob(JB):                         0.00\n",
      "Kurtosis:                     272.925   Cond. No.                     2.21e+08\n",
      "==============================================================================\n",
      "\n",
      "Warnings:\n",
      "[1] Standard Errors assume that the covariance matrix of the errors is correctly specified.\n",
      "[2] The condition number is large, 2.21e+08. This might indicate that there are\n",
      "strong multicollinearity or other numerical problems.\n",
      "MSE: 53026404.70051509\n"
     ]
    }
   ],
   "source": [
    "mse1 = []\n",
    "for i in np.arange(len(tweetdf)):\n",
    "    \n",
    "    tweetGroup = tweetdf[i].groupby(pd.Grouper(key='datePst',freq='60Min')).agg({\n",
    "        'followerCount':'sum',\n",
    "        'followerMaxCount':'max',\n",
    "        'retweetCount':'sum',\n",
    "        'tweetCount':'sum',\n",
    "        'hr':'max'})\n",
    "    tweetGroup['future'] = tweetGroup['tweetCount']\n",
    "    tweetGroup.future = tweetGroup.future.shift(-1)\n",
    "    \n",
    "    model = ols(\"future ~ followerCount + followerMaxCount + retweetCount + tweetCount + hr\", data=tweetGroup).fit()\n",
    "    print(tweetFiles[i][7:-4])\n",
    "    print(model.summary())\n",
    "    mse1.append((tweetFiles[i][7:-4],model.mse_resid))\n",
    "    print(\"MSE:\",model.mse_resid)\n"
   ]
  },
  {
   "cell_type": "code",
   "execution_count": 61,
   "metadata": {},
   "outputs": [
    {
     "name": "stdout",
     "output_type": "stream",
     "text": [
      "('tweets_#gohawks', 778598.8815298494)\n",
      "('tweets_#gopatriots', 36467.25983218669)\n",
      "('tweets_#nfl', 274541.22223045497)\n",
      "('tweets_#patriots', 5234485.51812663)\n",
      "('tweets_#sb49', 17774930.5906947)\n",
      "('tweets_#superbowl', 53026404.70051509)\n"
     ]
    }
   ],
   "source": [
    "for i in np.arange(len(mse1)):\n",
    "    print(mse1[i])"
   ]
  },
  {
   "cell_type": "markdown",
   "metadata": {},
   "source": [
    "### Question 4\n",
    "Design a regression model using any features from the papers you find or other new features you may find useful for this problem. Fit your model on the data of each hashtag and report fitting MSE and significance of features."
   ]
  },
  {
   "cell_type": "code",
   "execution_count": 85,
   "metadata": {},
   "outputs": [],
   "source": [
    "tweetdf = []\n",
    "for tweetFile in tweetFiles:\n",
    "    \n",
    "    tweetCount = []\n",
    "    followerCount = []\n",
    "    followerMaxCount = []\n",
    "    retweetCount = []\n",
    "    datePst = []\n",
    "    hr = []\n",
    "    \n",
    "    userMentions = []\n",
    "    rankScore = []\n",
    "    hashTags = []\n",
    "    \n",
    "    utc_tz = pytz.UTC\n",
    "    pst_tz = pytz.timezone('America/Los_Angeles')\n",
    "    \n",
    "    with open(tweetFile, 'r', encoding='utf8') as tweetData:\n",
    "        for line in tweetData:\n",
    "            \n",
    "            data = json.loads(line)\n",
    "            \n",
    "            datePst.append(datetime.datetime.fromtimestamp(data['citation_date'], pst_tz))\n",
    "            \n",
    "            hr.append(datetime.datetime.fromtimestamp(data['citation_date'], pst_tz).hour)\n",
    "            followerCount.append(data['author']['followers'])\n",
    "            followerMaxCount.append(data['author']['followers'])\n",
    "            retweetCount.append(data['metrics']['citations']['total'])\n",
    "            tweetCount.append(1)\n",
    "            \n",
    "            userMentions.append(len(data['tweet']['entities']['user_mentions']))\n",
    "            rankScore.append(data['metrics']['ranking_score'])\n",
    "            hashTags.append(len(data['tweet']['entities']['hashtags']))\n",
    "            \n",
    "        d = {'followerCount': followerCount, 'followerMaxCount': followerMaxCount, 'retweetCount' : retweetCount,\n",
    "            'tweetCount' : tweetCount, 'hr' : hr, 'datePst' : datePst,\n",
    "            'userMentions' : userMentions, 'rankScore' : rankScore, 'hashTags' : hashTags}\n",
    "        tweetdf.append(pd.DataFrame(data=d))"
   ]
  },
  {
   "cell_type": "code",
   "execution_count": 86,
   "metadata": {
    "scrolled": false
   },
   "outputs": [
    {
     "name": "stdout",
     "output_type": "stream",
     "text": [
      "tweets_#gohawks\n",
      "                            OLS Regression Results                            \n",
      "==============================================================================\n",
      "Dep. Variable:                 future   R-squared:                       0.618\n",
      "Model:                            OLS   Adj. R-squared:                  0.613\n",
      "Method:                 Least Squares   F-statistic:                     113.3\n",
      "Date:                Sun, 15 Mar 2020   Prob (F-statistic):          7.46e-112\n",
      "Time:                        03:22:24   Log-Likelihood:                -4573.7\n",
      "No. Observations:                 569   AIC:                             9165.\n",
      "Df Residuals:                     560   BIC:                             9204.\n",
      "Df Model:                           8                                         \n",
      "Covariance Type:            nonrobust                                         \n",
      "====================================================================================\n",
      "                       coef    std err          t      P>|t|      [0.025      0.975]\n",
      "------------------------------------------------------------------------------------\n",
      "Intercept          -67.7566     63.495     -1.067      0.286    -192.474      56.961\n",
      "followerCount       -0.0004   7.64e-05     -5.874      0.000      -0.001      -0.000\n",
      "followerMaxCount     0.0003      0.000      2.215      0.027    3.56e-05       0.001\n",
      "retweetCount         0.0133      0.040      0.329      0.742      -0.066       0.092\n",
      "tweetCount         -38.9002      4.247     -9.159      0.000     -47.243     -30.558\n",
      "hr                   1.7425      4.711      0.370      0.712      -7.510      10.995\n",
      "userMentions         2.3573      0.481      4.898      0.000       1.412       3.303\n",
      "rankScore            7.4589      0.861      8.660      0.000       5.767       9.151\n",
      "hashTags             2.5472      0.225     11.341      0.000       2.106       2.988\n",
      "==============================================================================\n",
      "Omnibus:                      991.094   Durbin-Watson:                   2.111\n",
      "Prob(Omnibus):                  0.000   Jarque-Bera (JB):           931292.621\n",
      "Skew:                          10.595   Prob(JB):                         0.00\n",
      "Kurtosis:                     200.059   Cond. No.                     5.35e+06\n",
      "==============================================================================\n",
      "\n",
      "Warnings:\n",
      "[1] Standard Errors assume that the covariance matrix of the errors is correctly specified.\n",
      "[2] The condition number is large, 5.35e+06. This might indicate that there are\n",
      "strong multicollinearity or other numerical problems.\n",
      "MSE: 570499.3512646803\n",
      "tweets_#gopatriots\n",
      "                            OLS Regression Results                            \n",
      "==============================================================================\n",
      "Dep. Variable:                 future   R-squared:                       0.832\n",
      "Model:                            OLS   Adj. R-squared:                  0.829\n",
      "Method:                 Least Squares   F-statistic:                     266.4\n",
      "Date:                Sun, 15 Mar 2020   Prob (F-statistic):          1.50e-161\n",
      "Time:                        03:22:24   Log-Likelihood:                -2757.1\n",
      "No. Observations:                 440   AIC:                             5532.\n",
      "Df Residuals:                     431   BIC:                             5569.\n",
      "Df Model:                           8                                         \n",
      "Covariance Type:            nonrobust                                         \n",
      "====================================================================================\n",
      "                       coef    std err          t      P>|t|      [0.025      0.975]\n",
      "------------------------------------------------------------------------------------\n",
      "Intercept           -8.5454     12.799     -0.668      0.505     -33.701      16.610\n",
      "followerCount       -0.0001      0.000     -0.709      0.479      -0.000       0.000\n",
      "followerMaxCount     0.0001      0.000      0.578      0.564      -0.000       0.000\n",
      "retweetCount        -1.0428      0.163     -6.380      0.000      -1.364      -0.722\n",
      "tweetCount         -30.0507      2.089    -14.384      0.000     -34.157     -25.945\n",
      "hr                  -0.1407      0.960     -0.147      0.883      -2.027       1.746\n",
      "userMentions         5.5907      0.528     10.598      0.000       4.554       6.628\n",
      "rankScore            5.1941      0.366     14.173      0.000       4.474       5.914\n",
      "hashTags             2.9131      0.390      7.464      0.000       2.146       3.680\n",
      "==============================================================================\n",
      "Omnibus:                      221.585   Durbin-Watson:                   1.765\n",
      "Prob(Omnibus):                  0.000   Jarque-Bera (JB):            76482.264\n",
      "Skew:                           0.810   Prob(JB):                         0.00\n",
      "Kurtosis:                      67.569   Cond. No.                     9.16e+05\n",
      "==============================================================================\n",
      "\n",
      "Warnings:\n",
      "[1] Standard Errors assume that the covariance matrix of the errors is correctly specified.\n",
      "[2] The condition number is large, 9.16e+05. This might indicate that there are\n",
      "strong multicollinearity or other numerical problems.\n",
      "MSE: 16564.97294026522\n",
      "tweets_#nfl\n",
      "                            OLS Regression Results                            \n",
      "==============================================================================\n",
      "Dep. Variable:                 future   R-squared:                       0.629\n",
      "Model:                            OLS   Adj. R-squared:                  0.623\n",
      "Method:                 Least Squares   F-statistic:                     121.3\n",
      "Date:                Sun, 15 Mar 2020   Prob (F-statistic):          5.41e-118\n",
      "Time:                        03:22:24   Log-Likelihood:                -4424.5\n",
      "No. Observations:                 582   AIC:                             8867.\n",
      "Df Residuals:                     573   BIC:                             8906.\n",
      "Df Model:                           8                                         \n",
      "Covariance Type:            nonrobust                                         \n",
      "====================================================================================\n",
      "                       coef    std err          t      P>|t|      [0.025      0.975]\n",
      "------------------------------------------------------------------------------------\n",
      "Intercept          126.4180     40.925      3.089      0.002      46.037     206.799\n",
      "followerCount     6.212e-05   2.66e-05      2.334      0.020    9.83e-06       0.000\n",
      "followerMaxCount -5.699e-05   3.41e-05     -1.669      0.096      -0.000    1.01e-05\n",
      "retweetCount        -0.2501      0.063     -3.984      0.000      -0.373      -0.127\n",
      "tweetCount          -1.0746      1.700     -0.632      0.528      -4.414       2.265\n",
      "hr                   0.3546      2.967      0.119      0.905      -5.473       6.182\n",
      "userMentions         2.0938      0.691      3.029      0.003       0.736       3.451\n",
      "rankScore           -0.1449      0.361     -0.402      0.688      -0.854       0.564\n",
      "hashTags             0.6995      0.088      7.941      0.000       0.526       0.872\n",
      "==============================================================================\n",
      "Omnibus:                      585.807   Durbin-Watson:                   2.470\n",
      "Prob(Omnibus):                  0.000   Jarque-Bera (JB):           161736.661\n",
      "Skew:                           3.797   Prob(JB):                         0.00\n",
      "Kurtosis:                      84.314   Cond. No.                     8.77e+06\n",
      "==============================================================================\n",
      "\n",
      "Warnings:\n",
      "[1] Standard Errors assume that the covariance matrix of the errors is correctly specified.\n",
      "[2] The condition number is large, 8.77e+06. This might indicate that there are\n",
      "strong multicollinearity or other numerical problems.\n",
      "MSE: 238488.0340183977\n",
      "tweets_#patriots\n",
      "                            OLS Regression Results                            \n",
      "==============================================================================\n",
      "Dep. Variable:                 future   R-squared:                       0.811\n",
      "Model:                            OLS   Adj. R-squared:                  0.808\n",
      "Method:                 Least Squares   F-statistic:                     309.1\n",
      "Date:                Sun, 15 Mar 2020   Prob (F-statistic):          5.13e-203\n",
      "Time:                        03:22:24   Log-Likelihood:                -5197.0\n",
      "No. Observations:                 586   AIC:                         1.041e+04\n",
      "Df Residuals:                     577   BIC:                         1.045e+04\n",
      "Df Model:                           8                                         \n",
      "Covariance Type:            nonrobust                                         \n",
      "====================================================================================\n",
      "                       coef    std err          t      P>|t|      [0.025      0.975]\n",
      "------------------------------------------------------------------------------------\n",
      "Intercept         -281.7177    143.079     -1.969      0.049    -562.738      -0.698\n",
      "followerCount        0.0001      5e-05      2.031      0.043    3.37e-06       0.000\n",
      "followerMaxCount    -0.0002   9.07e-05     -2.661      0.008      -0.000   -6.32e-05\n",
      "retweetCount        -0.2551      0.045     -5.634      0.000      -0.344      -0.166\n",
      "tweetCount         -60.0179      4.414    -13.597      0.000     -68.688     -51.348\n",
      "hr                  -1.4177     10.438     -0.136      0.892     -21.919      19.084\n",
      "userMentions         4.2642      0.259     16.494      0.000       3.756       4.772\n",
      "rankScore           11.4617      0.855     13.405      0.000       9.782      13.141\n",
      "hashTags             2.9276      0.272     10.766      0.000       2.394       3.462\n",
      "==============================================================================\n",
      "Omnibus:                     1072.573   Durbin-Watson:                   1.768\n",
      "Prob(Omnibus):                  0.000   Jarque-Bera (JB):          1235123.516\n",
      "Skew:                          11.782   Prob(JB):                         0.00\n",
      "Kurtosis:                     226.674   Cond. No.                     1.64e+07\n",
      "==============================================================================\n",
      "\n",
      "Warnings:\n",
      "[1] Standard Errors assume that the covariance matrix of the errors is correctly specified.\n",
      "[2] The condition number is large, 1.64e+07. This might indicate that there are\n",
      "strong multicollinearity or other numerical problems.\n",
      "MSE: 3001880.2254958726\n"
     ]
    },
    {
     "name": "stdout",
     "output_type": "stream",
     "text": [
      "tweets_#sb49\n",
      "                            OLS Regression Results                            \n",
      "==============================================================================\n",
      "Dep. Variable:                 future   R-squared:                       0.844\n",
      "Model:                            OLS   Adj. R-squared:                  0.842\n",
      "Method:                 Least Squares   F-statistic:                     357.3\n",
      "Date:                Sun, 15 Mar 2020   Prob (F-statistic):          2.56e-207\n",
      "Time:                        03:22:24   Log-Likelihood:                -5169.9\n",
      "No. Observations:                 536   AIC:                         1.036e+04\n",
      "Df Residuals:                     527   BIC:                         1.040e+04\n",
      "Df Model:                           8                                         \n",
      "Covariance Type:            nonrobust                                         \n",
      "====================================================================================\n",
      "                       coef    std err          t      P>|t|      [0.025      0.975]\n",
      "------------------------------------------------------------------------------------\n",
      "Intercept         -110.8140    329.385     -0.336      0.737    -757.882     536.254\n",
      "followerCount     8.471e-05   1.37e-05      6.206      0.000    5.79e-05       0.000\n",
      "followerMaxCount    -0.0002   5.01e-05     -3.225      0.001      -0.000   -6.32e-05\n",
      "retweetCount         0.3459      0.096      3.601      0.000       0.157       0.535\n",
      "tweetCount         -63.9979      7.277     -8.795      0.000     -78.293     -49.703\n",
      "hr                 -12.3577     24.115     -0.512      0.609     -59.732      35.016\n",
      "userMentions         5.0309      0.487     10.330      0.000       4.074       5.988\n",
      "rankScore           12.0957      1.401      8.635      0.000       9.344      14.847\n",
      "hashTags             2.4549      0.361      6.809      0.000       1.747       3.163\n",
      "==============================================================================\n",
      "Omnibus:                     1050.451   Durbin-Watson:                   2.115\n",
      "Prob(Omnibus):                  0.000   Jarque-Bera (JB):          1416470.723\n",
      "Skew:                          13.484   Prob(JB):                         0.00\n",
      "Kurtosis:                     253.393   Cond. No.                     1.68e+08\n",
      "==============================================================================\n",
      "\n",
      "Warnings:\n",
      "[1] Standard Errors assume that the covariance matrix of the errors is correctly specified.\n",
      "[2] The condition number is large, 1.68e+08. This might indicate that there are\n",
      "strong multicollinearity or other numerical problems.\n",
      "MSE: 14216513.1612403\n",
      "tweets_#superbowl\n",
      "                            OLS Regression Results                            \n",
      "==============================================================================\n",
      "Dep. Variable:                 future   R-squared:                       0.881\n",
      "Model:                            OLS   Adj. R-squared:                  0.880\n",
      "Method:                 Least Squares   F-statistic:                     535.3\n",
      "Date:                Sun, 15 Mar 2020   Prob (F-statistic):          2.87e-261\n",
      "Time:                        03:22:25   Log-Likelihood:                -5886.8\n",
      "No. Observations:                 586   AIC:                         1.179e+04\n",
      "Df Residuals:                     577   BIC:                         1.183e+04\n",
      "Df Model:                           8                                         \n",
      "Covariance Type:            nonrobust                                         \n",
      "====================================================================================\n",
      "                       coef    std err          t      P>|t|      [0.025      0.975]\n",
      "------------------------------------------------------------------------------------\n",
      "Intercept         -654.8897    469.302     -1.395      0.163   -1576.638     266.859\n",
      "followerCount    -8.118e-05   1.78e-05     -4.572      0.000      -0.000   -4.63e-05\n",
      "followerMaxCount  -6.65e-05      0.000     -0.557      0.577      -0.000       0.000\n",
      "retweetCount        -0.5182      0.060     -8.655      0.000      -0.636      -0.401\n",
      "tweetCount         -42.1951      6.308     -6.690      0.000     -54.584     -29.807\n",
      "hr                  -4.3327     33.832     -0.128      0.898     -70.781      62.116\n",
      "userMentions         3.1274      1.596      1.959      0.051      -0.008       6.263\n",
      "rankScore            8.3404      1.299      6.419      0.000       5.788      10.892\n",
      "hashTags             3.0391      0.422      7.208      0.000       2.211       3.867\n",
      "==============================================================================\n",
      "Omnibus:                     1111.052   Durbin-Watson:                   1.927\n",
      "Prob(Omnibus):                  0.000   Jarque-Bera (JB):          1667147.100\n",
      "Skew:                          12.616   Prob(JB):                         0.00\n",
      "Kurtosis:                     263.081   Cond. No.                     2.22e+08\n",
      "==============================================================================\n",
      "\n",
      "Warnings:\n",
      "[1] Standard Errors assume that the covariance matrix of the errors is correctly specified.\n",
      "[2] The condition number is large, 2.22e+08. This might indicate that there are\n",
      "strong multicollinearity or other numerical problems.\n",
      "MSE: 31617569.980573352\n"
     ]
    }
   ],
   "source": [
    "mse2 = []\n",
    "for i in np.arange(len(tweetdf)):\n",
    "    \n",
    "    tweetGroup = tweetdf[i].groupby(pd.Grouper(key='datePst',freq='60Min')).agg({\n",
    "        'followerCount':'sum',\n",
    "        'followerMaxCount':'max',\n",
    "        'retweetCount':'sum',\n",
    "        'tweetCount':'sum',\n",
    "        'hr':'max',\n",
    "        'userMentions':'sum',\n",
    "        'rankScore':'sum',\n",
    "        'hashTags':'sum'})\n",
    "    tweetGroup['future'] = tweetGroup['tweetCount']\n",
    "    tweetGroup.future = tweetGroup.future.shift(-1)\n",
    "    \n",
    "    model = ols(\"future ~ followerCount + followerMaxCount + retweetCount + tweetCount + hr + userMentions + rankScore + hashTags\", data=tweetGroup).fit()\n",
    "    print(tweetFiles[i][7:-4])\n",
    "    print(model.summary())\n",
    "    mse2.append((tweetFiles[i][7:-4],model.mse_resid))\n",
    "    print(\"MSE:\",model.mse_resid)"
   ]
  },
  {
   "cell_type": "code",
   "execution_count": 87,
   "metadata": {},
   "outputs": [
    {
     "name": "stdout",
     "output_type": "stream",
     "text": [
      "('tweets_#gohawks', 778598.8815298494)\n",
      "('tweets_#gopatriots', 36467.25983218669)\n",
      "('tweets_#nfl', 274541.22223045497)\n",
      "('tweets_#patriots', 5234485.51812663)\n",
      "('tweets_#sb49', 17774930.5906947)\n",
      "('tweets_#superbowl', 53026404.70051509)\n",
      "\n",
      "\n",
      "('tweets_#gohawks', 570499.3512646803)\n",
      "('tweets_#gopatriots', 16564.97294026522)\n",
      "('tweets_#nfl', 238488.0340183977)\n",
      "('tweets_#patriots', 3001880.2254958726)\n",
      "('tweets_#sb49', 14216513.1612403)\n",
      "('tweets_#superbowl', 31617569.980573352)\n"
     ]
    }
   ],
   "source": [
    "for i in np.arange(len(mse1)):\n",
    "    print(mse1[i])\n",
    "print(\"\\n\")\n",
    "for i in np.arange(len(mse2)):\n",
    "    print(mse2[i])"
   ]
  },
  {
   "cell_type": "markdown",
   "metadata": {},
   "source": [
    "### Question 5\n",
    "For each of the top 3 features (i.e. with the smallest p-values) in your measurements, draw a scatter plot of predictant (number of tweets for next hour) versus value of that feature, using all the samples you have extracted, and analyze it. Do the regression coefficients agree with the trends in the plots? If not, why?"
   ]
  },
  {
   "cell_type": "code",
   "execution_count": 117,
   "metadata": {
    "scrolled": false
   },
   "outputs": [
    {
     "name": "stdout",
     "output_type": "stream",
     "text": [
      "tweets_#gohawks\n"
     ]
    },
    {
     "data": {
      "image/png": "[encoded data removed]",
      "text/plain": [
       "<Figure size 432x288 with 1 Axes>"
      ]
     },
     "metadata": {
      "needs_background": "light"
     },
     "output_type": "display_data"
    },
    {
     "data": {
      "image/png": "[encoded data removed]",
      "text/plain": [
       "<Figure size 432x288 with 1 Axes>"
      ]
     },
     "metadata": {
      "needs_background": "light"
     },
     "output_type": "display_data"
    },
    {
     "data": {
      "image/png": "[encoded data removed]",
      "text/plain": [
       "<Figure size 432x288 with 1 Axes>"
      ]
     },
     "metadata": {
      "needs_background": "light"
     },
     "output_type": "display_data"
    },
    {
     "name": "stdout",
     "output_type": "stream",
     "text": [
      "tweets_#gopatriots\n"
     ]
    },
    {
     "data": {
      "image/png": "[encoded data removed]",
      "text/plain": [
       "<Figure size 432x288 with 1 Axes>"
      ]
     },
     "metadata": {
      "needs_background": "light"
     },
     "output_type": "display_data"
    },
    {
     "data": {
      "image/png": "[encoded data removed]",
      "text/plain": [
       "<Figure size 432x288 with 1 Axes>"
      ]
     },
     "metadata": {
      "needs_background": "light"
     },
     "output_type": "display_data"
    },
    {
     "data": {
      "image/png": "[encoded data removed]",
      "text/plain": [
       "<Figure size 432x288 with 1 Axes>"
      ]
     },
     "metadata": {
      "needs_background": "light"
     },
     "output_type": "display_data"
    },
    {
     "name": "stdout",
     "output_type": "stream",
     "text": [
      "tweets_#nfl\n"
     ]
    },
    {
     "data": {
      "image/png": "[encoded data removed]",
      "text/plain": [
       "<Figure size 432x288 with 1 Axes>"
      ]
     },
     "metadata": {
      "needs_background": "light"
     },
     "output_type": "display_data"
    },
    {
     "data": {
      "image/png": "[encoded data removed]",
      "text/plain": [
       "<Figure size 432x288 with 1 Axes>"
      ]
     },
     "metadata": {
      "needs_background": "light"
     },
     "output_type": "display_data"
    },
    {
     "data": {
      "image/png": "[encoded data removed]",
      "text/plain": [
       "<Figure size 432x288 with 1 Axes>"
      ]
     },
     "metadata": {
      "needs_background": "light"
     },
     "output_type": "display_data"
    },
    {
     "name": "stdout",
     "output_type": "stream",
     "text": [
      "tweets_#patriots\n"
     ]
    },
    {
     "data": {
      "image/png": "[encoded data removed]",
      "text/plain": [
       "<Figure size 432x288 with 1 Axes>"
      ]
     },
     "metadata": {
      "needs_background": "light"
     },
     "output_type": "display_data"
    },
    {
     "data": {
      "image/png": "[encoded data removed]",
      "text/plain": [
       "<Figure size 432x288 with 1 Axes>"
      ]
     },
     "metadata": {
      "needs_background": "light"
     },
     "output_type": "display_data"
    },
    {
     "data": {
      "image/png": "[encoded data removed]",
      "text/plain": [
       "<Figure size 432x288 with 1 Axes>"
      ]
     },
     "metadata": {
      "needs_background": "light"
     },
     "output_type": "display_data"
    },
    {
     "name": "stdout",
     "output_type": "stream",
     "text": [
      "tweets_#sb49\n"
     ]
    },
    {
     "data": {
      "image/png": "[encoded data removed]",
      "text/plain": [
       "<Figure size 432x288 with 1 Axes>"
      ]
     },
     "metadata": {
      "needs_background": "light"
     },
     "output_type": "display_data"
    },
    {
     "data": {
      "image/png": "[encoded data removed]",
      "text/plain": [
       "<Figure size 432x288 with 1 Axes>"
      ]
     },
     "metadata": {
      "needs_background": "light"
     },
     "output_type": "display_data"
    },
    {
     "data": {
      "image/png": "[encoded data removed]",
      "text/plain": [
       "<Figure size 432x288 with 1 Axes>"
      ]
     },
     "metadata": {
      "needs_background": "light"
     },
     "output_type": "display_data"
    },
    {
     "name": "stdout",
     "output_type": "stream",
     "text": [
      "tweets_#superbowl\n"
     ]
    },
    {
     "data": {
      "image/png": "[encoded data removed]",
      "text/plain": [
       "<Figure size 432x288 with 1 Axes>"
      ]
     },
     "metadata": {
      "needs_background": "light"
     },
     "output_type": "display_data"
    },
    {
     "data": {
      "image/png": "[encoded data removed]",
      "text/plain": [
       "<Figure size 432x288 with 1 Axes>"
      ]
     },
     "metadata": {
      "needs_background": "light"
     },
     "output_type": "display_data"
    },
    {
     "data": {
      "image/png": "[encoded data removed]",
      "text/plain": [
       "<Figure size 432x288 with 1 Axes>"
      ]
     },
     "metadata": {
      "needs_background": "light"
     },
     "output_type": "display_data"
    }
   ],
   "source": [
    "features = ['followerCount','followerMaxCount','retweetCount','tweetCount','hr',\n",
    "        'userMentions','rankScore','hashTags']\n",
    "for i in np.arange(len(tweetdf)):\n",
    "    \n",
    "    tweetGroup = tweetdf[i].groupby(pd.Grouper(key='datePst',freq='60Min')).agg({\n",
    "        'followerCount':'sum',\n",
    "        'followerMaxCount':'max',\n",
    "        'retweetCount':'sum',\n",
    "        'tweetCount':'sum',\n",
    "        'hr':'max',\n",
    "        'userMentions':'sum',\n",
    "        'rankScore':'sum',\n",
    "        'hashTags':'sum'})\n",
    "    tweetGroup['future'] = tweetGroup['tweetCount']\n",
    "    tweetGroup.future = tweetGroup.future.shift(-1)\n",
    "    \n",
    "    model = ols(\"future ~ followerCount + followerMaxCount + retweetCount + tweetCount + hr + userMentions + rankScore + hashTags\", data=tweetGroup).fit()\n",
    "    predict = model.predict(tweetGroup)\n",
    "    \n",
    "    print(tweetFiles[i][7:-4])\n",
    "    \n",
    "    featuresSorted = []\n",
    "    pVals = model.pvalues[1:]\n",
    "    for j in np.arange(len(features)):\n",
    "        featuresSorted.append((pVals[j], features[j]))\n",
    "    featuresSorted.sort(key = lambda x: x[0]) \n",
    "\n",
    "    for j in np.arange(3):\n",
    "        plt.scatter(predict, tweetGroup[featuresSorted[j][1]])\n",
    "        plt.title(featuresSorted[j][1])\n",
    "        plt.xlabel(\"Predicted Number of Tweets\")\n",
    "        plt.ylabel(featuresSorted[j][1])\n",
    "        plt.show()\n",
    "    "
   ]
  },
  {
   "cell_type": "markdown",
   "metadata": {},
   "source": [
    "### Question 6\n",
    "We define three time periods and their corresponding window length as follows:\n",
    "1. Before Feb. 1, 8:00 a.m.: 1-hour window\n",
    "2. Between Feb. 1, 8:00 a.m. and 8:00 p.m.: 5-minute window\n",
    "3. After Feb. 1, 8:00 p.m.: 1-hour window\n"
   ]
  },
  {
   "cell_type": "code",
   "execution_count": 147,
   "metadata": {},
   "outputs": [],
   "source": [
    "## P1\n",
    "mse2 = []\n",
    "rsquare = []\n",
    "for i in np.arange(len(tweetdf)):\n",
    "    \n",
    "    tweetGroup = tweetdf[i][tweetdf[i]['datePst'] < '2015-02-01 08:00:00-0800'].groupby(pd.Grouper(key='datePst',freq='60Min')).agg({\n",
    "        'followerCount':'sum',\n",
    "        'followerMaxCount':'max',\n",
    "        'retweetCount':'sum',\n",
    "        'tweetCount':'sum',\n",
    "        'hr':'max',\n",
    "        'userMentions':'sum',\n",
    "        'rankScore':'sum',\n",
    "        'hashTags':'sum'})\n",
    "    tweetGroup['future'] = tweetGroup['tweetCount']\n",
    "    tweetGroup.future = tweetGroup.future.shift(-1)\n",
    "    \n",
    "    model = ols(\"future ~ followerCount + followerMaxCount + retweetCount + tweetCount + hr + userMentions + rankScore + hashTags\", data=tweetGroup).fit()\n",
    "    mse2.append((tweetFiles[i][7:-4],model.mse_resid))\n",
    "    rsquare.append(model.rsquared)"
   ]
  },
  {
   "cell_type": "code",
   "execution_count": 148,
   "metadata": {},
   "outputs": [
    {
     "name": "stdout",
     "output_type": "stream",
     "text": [
      "('tweets_#gohawks', 778598.8815298494)\n",
      "('tweets_#gopatriots', 36467.25983218669)\n",
      "('tweets_#nfl', 274541.22223045497)\n",
      "('tweets_#patriots', 5234485.51812663)\n",
      "('tweets_#sb49', 17774930.5906947)\n",
      "('tweets_#superbowl', 53026404.70051509)\n",
      "\n",
      "\n",
      "MSE: ('tweets_#gohawks', 429750.53799418645) R2 0.5916850979811367\n",
      "MSE: ('tweets_#gopatriots', 1474.0471232305451) R2 0.6914123354033186\n",
      "MSE: ('tweets_#nfl', 65350.36716153126) R2 0.52583856014154\n",
      "MSE: ('tweets_#patriots', 319422.02567651076) R2 0.5995411761973746\n",
      "MSE: ('tweets_#sb49', 6450.223559481974) R2 0.8897230986245016\n",
      "MSE: ('tweets_#superbowl', 492762.4129146807) R2 0.44066917425334806\n"
     ]
    }
   ],
   "source": [
    "for i in np.arange(len(mse1)):\n",
    "    print(mse1[i])\n",
    "print(\"\\n\")\n",
    "for i in np.arange(len(mse2)):\n",
    "    print(\"MSE: \" + str(mse2[i]) + \" R2 \" + str(rsquare[i]))"
   ]
  },
  {
   "cell_type": "code",
   "execution_count": 149,
   "metadata": {
    "scrolled": false
   },
   "outputs": [],
   "source": [
    "## P2\n",
    "mse2 = []\n",
    "rsquare = []\n",
    "for i in np.arange(len(tweetdf)):\n",
    "    \n",
    "    tweetGroup = tweetdf[i][(tweetdf[i]['datePst'] >= '2015-02-01 08:00:00-0800') &\n",
    "                       (tweetdf[i]['datePst'] <= '2015-02-01 20:00:00-0800')].groupby(pd.Grouper(key='datePst',freq='5Min')).agg({\n",
    "        'followerCount':'sum',\n",
    "        'followerMaxCount':'max',\n",
    "        'retweetCount':'sum',\n",
    "        'tweetCount':'sum',\n",
    "        'hr':'max',\n",
    "        'userMentions':'sum',\n",
    "        'rankScore':'sum',\n",
    "        'hashTags':'sum'})\n",
    "    tweetGroup['future'] = tweetGroup['tweetCount']\n",
    "    tweetGroup.future = tweetGroup.future.shift(-1)\n",
    "    \n",
    "    model = ols(\"future ~ followerCount + followerMaxCount + retweetCount + tweetCount + hr + userMentions + rankScore + hashTags\", data=tweetGroup).fit()\n",
    "    mse2.append((tweetFiles[i][7:-4],model.mse_resid))\n",
    "    rsquare.append(model.rsquared)"
   ]
  },
  {
   "cell_type": "code",
   "execution_count": 150,
   "metadata": {},
   "outputs": [
    {
     "name": "stdout",
     "output_type": "stream",
     "text": [
      "('tweets_#gohawks', 778598.8815298494)\n",
      "('tweets_#gopatriots', 36467.25983218669)\n",
      "('tweets_#nfl', 274541.22223045497)\n",
      "('tweets_#patriots', 5234485.51812663)\n",
      "('tweets_#sb49', 17774930.5906947)\n",
      "('tweets_#superbowl', 53026404.70051509)\n",
      "\n",
      "\n",
      "MSE: ('tweets_#gohawks', 71867.87318303817) R2 0.5252941394071905\n",
      "MSE: ('tweets_#gopatriots', 14111.243484480658) R2 0.4950321571183708\n",
      "MSE: ('tweets_#nfl', 19941.203895562103) R2 0.8382421614128912\n",
      "MSE: ('tweets_#patriots', 670288.5382942321) R2 0.72902839299682\n",
      "MSE: ('tweets_#sb49', 1194505.5546879158) R2 0.8835141093642394\n",
      "MSE: ('tweets_#superbowl', 5344357.288608209) R2 0.9198009093840809\n"
     ]
    }
   ],
   "source": [
    "for i in np.arange(len(mse1)):\n",
    "    print(mse1[i])\n",
    "print(\"\\n\")\n",
    "for i in np.arange(len(mse2)):\n",
    "    print(\"MSE: \" + str(mse2[i]) + \" R2 \" + str(rsquare[i]))"
   ]
  },
  {
   "cell_type": "code",
   "execution_count": 151,
   "metadata": {
    "scrolled": false
   },
   "outputs": [],
   "source": [
    "## P3\n",
    "mse2 = []\n",
    "rsquare = []\n",
    "for i in np.arange(len(tweetdf)):\n",
    "    \n",
    "    tweetGroup = tweetdf[i][tweetdf[i]['datePst'] >= '2015-02-01 20:00:00-0800'].groupby(pd.Grouper(key='datePst',freq='60Min')).agg({\n",
    "        'followerCount':'sum',\n",
    "        'followerMaxCount':'max',\n",
    "        'retweetCount':'sum',\n",
    "        'tweetCount':'sum',\n",
    "        'hr':'max',\n",
    "        'userMentions':'sum',\n",
    "        'rankScore':'sum',\n",
    "        'hashTags':'sum'})\n",
    "    tweetGroup['future'] = tweetGroup['tweetCount']\n",
    "    tweetGroup.future = tweetGroup.future.shift(-1)\n",
    "    \n",
    "    model = ols(\"future ~ followerCount + followerMaxCount + retweetCount + tweetCount + hr + userMentions + rankScore + hashTags\", data=tweetGroup).fit()\n",
    "    mse2.append((tweetFiles[i][7:-4],model.mse_resid))\n",
    "    rsquare.append(model.rsquared)"
   ]
  },
  {
   "cell_type": "code",
   "execution_count": 146,
   "metadata": {},
   "outputs": [
    {
     "name": "stdout",
     "output_type": "stream",
     "text": [
      "('tweets_#gohawks', 778598.8815298494)\n",
      "('tweets_#gopatriots', 36467.25983218669)\n",
      "('tweets_#nfl', 274541.22223045497)\n",
      "('tweets_#patriots', 5234485.51812663)\n",
      "('tweets_#sb49', 17774930.5906947)\n",
      "('tweets_#superbowl', 53026404.70051509)\n",
      "\n",
      "\n",
      "MSE: ('tweets_#gohawks', 1924.41328997262) R2 0.84971686708285\n",
      "MSE: ('tweets_#gopatriots', 97.67336255472824) R2 0.7947150855994947\n",
      "MSE: ('tweets_#nfl', 17565.966312820066) R2 0.7983639105713036\n",
      "MSE: ('tweets_#patriots', 11465.262152121803) R2 0.88108013272112\n",
      "MSE: ('tweets_#sb49', 48731.29957923046) R2 0.876014903368591\n",
      "MSE: ('tweets_#superbowl', 110146.11816769073) R2 0.8555680823198912\n"
     ]
    }
   ],
   "source": [
    "for i in np.arange(len(mse1)):\n",
    "    print(mse1[i])\n",
    "print(\"\\n\")\n",
    "for i in np.arange(len(mse2)):\n",
    "    print(\"MSE: \" + str(mse2[i]) + \" R2 \" + str(rsquare[i]))"
   ]
  },
  {
   "cell_type": "markdown",
   "metadata": {},
   "source": [
    "### Question 7\n",
    "Also, aggregate the data of all hashtags, and train 3 models (for the intervals mentioned above) to predict the number of tweets in the next time window on the aggregated data.\n",
    "\n",
    "Perform the same evaluations on your combined model and compare with models you trained for individual hashtags.\n"
   ]
  },
  {
   "cell_type": "code",
   "execution_count": 191,
   "metadata": {},
   "outputs": [
    {
     "name": "stdout",
     "output_type": "stream",
     "text": [
      "Predicted: \n",
      "datePst\n",
      "2015-02-01 07:00:00-08:00     266.332378\n",
      "2015-02-01 07:00:00-08:00      95.007333\n",
      "2015-02-01 07:00:00-08:00    1112.269220\n",
      "2015-02-01 07:00:00-08:00     700.226909\n",
      "2015-02-01 07:00:00-08:00    1822.545105\n",
      "2015-02-01 07:00:00-08:00    5196.176430\n",
      "dtype: float64\n",
      "Truth: \n",
      "datePst\n",
      "2015-02-01 08:00:00-08:00     231\n",
      "2015-02-01 08:00:00-08:00      31\n",
      "2015-02-01 08:00:00-08:00     847\n",
      "2015-02-01 08:00:00-08:00     435\n",
      "2015-02-01 08:00:00-08:00    1629\n",
      "2015-02-01 08:00:00-08:00    5031\n",
      "Freq: 60T, Name: tweetCount, dtype: int64\n"
     ]
    }
   ],
   "source": [
    "## P1\n",
    "combinedTweetGroupDf = []\n",
    "combinedTweetGroupDfTruth = []\n",
    "combinedTweetGroupDfPredict = []\n",
    "for i in np.arange(len(tweetdf)):\n",
    "    \n",
    "    tweetGroup = tweetdf[i][tweetdf[i]['datePst'] < '2015-02-01 08:00:00-0800'].groupby(pd.Grouper(key='datePst',freq='60Min')).agg({\n",
    "        'followerCount':'sum',\n",
    "        'followerMaxCount':'max',\n",
    "        'retweetCount':'sum',\n",
    "        'tweetCount':'sum',\n",
    "        'hr':'max',\n",
    "        'userMentions':'sum',\n",
    "        'rankScore':'sum',\n",
    "        'hashTags':'sum'})\n",
    "    tweetGroup['future'] = tweetGroup['tweetCount']\n",
    "    tweetGroup.future = tweetGroup.future.shift(-1)\n",
    "    combinedTweetGroupDf.append(tweetGroup)\n",
    "    \n",
    "    tweetGroup = tweetdf[i][(tweetdf[i]['datePst'] > '2015-02-01 08:00:00-0800') \n",
    "                            & (tweetdf[i]['datePst'] < '2015-02-01 09:00:00-0800')].groupby(pd.Grouper(key='datePst',freq='60Min')).agg({\n",
    "        'followerCount':'sum',\n",
    "        'followerMaxCount':'max',\n",
    "        'retweetCount':'sum',\n",
    "        'tweetCount':'sum',\n",
    "        'hr':'max',\n",
    "        'userMentions':'sum',\n",
    "        'rankScore':'sum',\n",
    "        'hashTags':'sum'})\n",
    "    tweetGroup['future'] = tweetGroup['tweetCount']\n",
    "    tweetGroup.future = tweetGroup.future.shift(-1)\n",
    "    combinedTweetGroupDfTruth.append(tweetGroup)\n",
    "    \n",
    "    tweetGroup = tweetdf[i][(tweetdf[i]['datePst'] > '2015-02-01 07:00:00-0800') \n",
    "                            & (tweetdf[i]['datePst'] < '2015-02-01 08:00:00-0800')].groupby(pd.Grouper(key='datePst',freq='60Min')).agg({\n",
    "        'followerCount':'sum',\n",
    "        'followerMaxCount':'max',\n",
    "        'retweetCount':'sum',\n",
    "        'tweetCount':'sum',\n",
    "        'hr':'max',\n",
    "        'userMentions':'sum',\n",
    "        'rankScore':'sum',\n",
    "        'hashTags':'sum'})\n",
    "    tweetGroup['future'] = tweetGroup['tweetCount']\n",
    "    tweetGroup.future = tweetGroup.future.shift(-1)\n",
    "    combinedTweetGroupDfPredict.append(tweetGroup)\n",
    "\n",
    "combinedTweetGroup = pd.concat(combinedTweetGroupDf)\n",
    "combinedTweetGroupTruth = pd.concat(combinedTweetGroupDfTruth)\n",
    "combinedTweetGroupPredict = pd.concat(combinedTweetGroupDfPredict)\n",
    "\n",
    "model = ols(\"future ~ followerCount + followerMaxCount + retweetCount + tweetCount + hr + userMentions + rankScore + hashTags\", data=combinedTweetGroup).fit()\n",
    "\n",
    "print(\"Predicted: \")\n",
    "print(model.predict(combinedTweetGroupPredict))\n",
    "print(\"Truth: \")\n",
    "print(combinedTweetGroupTruth['tweetCount'])"
   ]
  },
  {
   "cell_type": "code",
   "execution_count": 192,
   "metadata": {},
   "outputs": [
    {
     "name": "stdout",
     "output_type": "stream",
     "text": [
      "Predicted: \n",
      "datePst\n",
      "2015-02-01 19:55:00-08:00    365.166773\n",
      "2015-02-01 19:55:00-08:00    354.648465\n",
      "2015-02-01 19:55:00-08:00    379.376916\n",
      "2015-02-01 19:55:00-08:00    380.559267\n",
      "2015-02-01 19:55:00-08:00    403.048833\n",
      "2015-02-01 19:55:00-08:00    976.815456\n",
      "dtype: float64\n",
      "Truth: \n",
      "datePst\n",
      "2015-02-01 20:00:00-08:00     33\n",
      "2015-02-01 20:00:00-08:00      7\n",
      "2015-02-01 20:00:00-08:00     27\n",
      "2015-02-01 20:00:00-08:00    148\n",
      "2015-02-01 20:00:00-08:00    241\n",
      "2015-02-01 20:00:00-08:00    194\n",
      "Freq: 5T, Name: tweetCount, dtype: int64\n"
     ]
    }
   ],
   "source": [
    "## P2\n",
    "combinedTweetGroupDf = []\n",
    "combinedTweetGroupDfTruth = []\n",
    "combinedTweetGroupDfPredict = []\n",
    "for i in np.arange(len(tweetdf)):\n",
    "    \n",
    "    tweetGroup = tweetdf[i][(tweetdf[i]['datePst'] >= '2015-02-01 08:00:00-0800') &\n",
    "                       (tweetdf[i]['datePst'] <= '2015-02-01 20:00:00-0800')].groupby(pd.Grouper(key='datePst',freq='5Min')).agg({\n",
    "        'followerCount':'sum',\n",
    "        'followerMaxCount':'max',\n",
    "        'retweetCount':'sum',\n",
    "        'tweetCount':'sum',\n",
    "        'hr':'max',\n",
    "        'userMentions':'sum',\n",
    "        'rankScore':'sum',\n",
    "        'hashTags':'sum'})\n",
    "    tweetGroup['future'] = tweetGroup['tweetCount']\n",
    "    tweetGroup.future = tweetGroup.future.shift(-1)\n",
    "    combinedTweetGroupDf.append(tweetGroup)\n",
    "    \n",
    "    tweetGroup = tweetdf[i][(tweetdf[i]['datePst'] > '2015-02-01 20:00:00-0800') \n",
    "                            & (tweetdf[i]['datePst'] < '2015-02-01 20:05:00-0800')].groupby(pd.Grouper(key='datePst',freq='5Min')).agg({\n",
    "        'followerCount':'sum',\n",
    "        'followerMaxCount':'max',\n",
    "        'retweetCount':'sum',\n",
    "        'tweetCount':'sum',\n",
    "        'hr':'max',\n",
    "        'userMentions':'sum',\n",
    "        'rankScore':'sum',\n",
    "        'hashTags':'sum'})\n",
    "    tweetGroup['future'] = tweetGroup['tweetCount']\n",
    "    tweetGroup.future = tweetGroup.future.shift(-1)\n",
    "    combinedTweetGroupDfTruth.append(tweetGroup)\n",
    "    \n",
    "    tweetGroup = tweetdf[i][(tweetdf[i]['datePst'] > '2015-02-01 19:55:00-0800') \n",
    "                            & (tweetdf[i]['datePst'] < '2015-02-01 20:00:00-0800')].groupby(pd.Grouper(key='datePst',freq='5Min')).agg({\n",
    "        'followerCount':'sum',\n",
    "        'followerMaxCount':'max',\n",
    "        'retweetCount':'sum',\n",
    "        'tweetCount':'sum',\n",
    "        'hr':'max',\n",
    "        'userMentions':'sum',\n",
    "        'rankScore':'sum',\n",
    "        'hashTags':'sum'})\n",
    "    tweetGroup['future'] = tweetGroup['tweetCount']\n",
    "    tweetGroup.future = tweetGroup.future.shift(-1)\n",
    "    combinedTweetGroupDfPredict.append(tweetGroup)\n",
    "\n",
    "combinedTweetGroup = pd.concat(combinedTweetGroupDf)\n",
    "combinedTweetGroupTruth = pd.concat(combinedTweetGroupDfTruth)\n",
    "combinedTweetGroupPredict = pd.concat(combinedTweetGroupDfPredict)\n",
    "\n",
    "model = ols(\"future ~ followerCount + followerMaxCount + retweetCount + tweetCount + hr + userMentions + rankScore + hashTags\", data=combinedTweetGroup).fit()\n",
    "\n",
    "print(\"Predicted: \")\n",
    "print(model.predict(combinedTweetGroupPredict))\n",
    "print(\"Truth: \")\n",
    "print(combinedTweetGroupTruth['tweetCount'])"
   ]
  },
  {
   "cell_type": "code",
   "execution_count": 200,
   "metadata": {},
   "outputs": [
    {
     "name": "stdout",
     "output_type": "stream",
     "text": [
      "Predicted: \n",
      "datePst\n",
      "2015-02-07 10:00:00-08:00    29.777283\n",
      "2015-02-07 10:00:00-08:00    32.736918\n",
      "2015-02-07 10:00:00-08:00    62.212445\n",
      "2015-02-07 10:00:00-08:00    29.767759\n",
      "dtype: float64\n",
      "Truth: \n",
      "datePst\n",
      "2015-02-07 10:00:00-08:00     5\n",
      "2015-02-07 10:00:00-08:00     3\n",
      "2015-02-07 10:00:00-08:00    43\n",
      "2015-02-07 10:00:00-08:00     1\n",
      "Name: tweetCount, dtype: int64\n"
     ]
    }
   ],
   "source": [
    "## P3\n",
    "combinedTweetGroupDf = []\n",
    "combinedTweetGroupDfTruth = []\n",
    "combinedTweetGroupDfPredict = []\n",
    "for i in np.arange(len(tweetdf)):\n",
    "    \n",
    "    tweetGroup = tweetdf[i][tweetdf[i]['datePst'] >= '2015-02-01 20:00:00-0800'].groupby(pd.Grouper(key='datePst',freq='60Min')).agg({\n",
    "        'followerCount':'sum',\n",
    "        'followerMaxCount':'max',\n",
    "        'retweetCount':'sum',\n",
    "        'tweetCount':'sum',\n",
    "        'hr':'max',\n",
    "        'userMentions':'sum',\n",
    "        'rankScore':'sum',\n",
    "        'hashTags':'sum'})\n",
    "    tweetGroup['future'] = tweetGroup['tweetCount']\n",
    "    tweetGroup.future = tweetGroup.future.shift(-1)\n",
    "    combinedTweetGroupDf.append(tweetGroup)\n",
    "    \n",
    "    tweetGroup = tweetdf[i][(tweetdf[i]['datePst'] > '2015-02-07 10:00:00-0800') \n",
    "                            & (tweetdf[i]['datePst'] < '2015-02-07 11:00:00-0800')].groupby(pd.Grouper(key='datePst',freq='60Min')).agg({\n",
    "        'followerCount':'sum',\n",
    "        'followerMaxCount':'max',\n",
    "        'retweetCount':'sum',\n",
    "        'tweetCount':'sum',\n",
    "        'hr':'max',\n",
    "        'userMentions':'sum',\n",
    "        'rankScore':'sum',\n",
    "        'hashTags':'sum'})\n",
    "    tweetGroup['future'] = tweetGroup['tweetCount']\n",
    "    tweetGroup.future = tweetGroup.future.shift(-1)\n",
    "    combinedTweetGroupDfTruth.append(tweetGroup)\n",
    "    \n",
    "    tweetGroup = tweetdf[i][(tweetdf[i]['datePst'] > '2015-02-07 10:00:00-0800') \n",
    "                            & (tweetdf[i]['datePst'] < '2015-02-07 11:00:00-0800')].groupby(pd.Grouper(key='datePst',freq='60Min')).agg({\n",
    "        'followerCount':'sum',\n",
    "        'followerMaxCount':'max',\n",
    "        'retweetCount':'sum',\n",
    "        'tweetCount':'sum',\n",
    "        'hr':'max',\n",
    "        'userMentions':'sum',\n",
    "        'rankScore':'sum',\n",
    "        'hashTags':'sum'})\n",
    "    tweetGroup['future'] = tweetGroup['tweetCount']\n",
    "    tweetGroup.future = tweetGroup.future.shift(-1)\n",
    "    combinedTweetGroupDfPredict.append(tweetGroup)\n",
    "\n",
    "combinedTweetGroup = pd.concat(combinedTweetGroupDf)\n",
    "combinedTweetGroupTruth = pd.concat(combinedTweetGroupDfTruth)\n",
    "combinedTweetGroupPredict = pd.concat(combinedTweetGroupDfPredict)\n",
    "\n",
    "model = ols(\"future ~ followerCount + followerMaxCount + retweetCount + tweetCount + hr + userMentions + rankScore + hashTags\", data=combinedTweetGroup).fit()\n",
    "\n",
    "print(\"Predicted: \")\n",
    "print(model.predict(combinedTweetGroupPredict))\n",
    "print(\"Truth: \")\n",
    "print(combinedTweetGroupTruth['tweetCount'])"
   ]
  },
  {
   "cell_type": "code",
   "execution_count": null,
   "metadata": {},
   "outputs": [],
   "source": []
  }
 ],
 "metadata": {
  "kernelspec": {
   "display_name": "Python 3",
   "language": "python",
   "name": "python3"
  },
  "language_info": {
   "codemirror_mode": {
    "name": "ipython",
    "version": 3
   },
   "file_extension": ".py",
   "mimetype": "text/x-python",
   "name": "python",
   "nbconvert_exporter": "python",
   "pygments_lexer": "ipython3",
   "version": "3.7.4"
  }
 },
 "nbformat": 4,
 "nbformat_minor": 2
}
